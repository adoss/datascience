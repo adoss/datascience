{
 "cells": [
  {
   "cell_type": "markdown",
   "metadata": {
    "id": "na3XXQqwxk4n"
   },
   "source": [
    "# **Concepts Covered:**\n",
    "\n",
    "- <a href = #link4>Hypothesis Test for Population Mean $\\mu$</a>\n",
    "- <a href = #link5>One-tailed and Two-tailed Tests</a>"
   ]
  },
  {
   "cell_type": "markdown",
   "metadata": {},
   "source": [
    "## Command to install the latest version Scipy in the system"
   ]
  },
  {
   "cell_type": "code",
   "execution_count": 3,
   "metadata": {},
   "outputs": [
    {
     "name": "stdout",
     "output_type": "stream",
     "text": [
      "Collecting scipy==1.6.1\n",
      "  Using cached scipy-1.6.1.tar.gz (27.3 MB)\n",
      "  Installing build dependencies ... \u001b[?25ldone\n",
      "\u001b[?25h  Getting requirements to build wheel ... \u001b[?25ldone\n",
      "\u001b[?25h  Preparing metadata (pyproject.toml) ... \u001b[?25ldone\n",
      "\u001b[?25hRequirement already satisfied: numpy>=1.16.5 in /Users/adoss/datascience/.venv/lib/python3.10/site-packages (from scipy==1.6.1) (1.22.4)\n",
      "Building wheels for collected packages: scipy\n",
      "  Building wheel for scipy (pyproject.toml) ... \u001b[?25lerror\n",
      "  \u001b[1;31merror\u001b[0m: \u001b[1msubprocess-exited-with-error\u001b[0m\n",
      "  \n",
      "  \u001b[31m×\u001b[0m \u001b[32mBuilding wheel for scipy \u001b[0m\u001b[1;32m(\u001b[0m\u001b[32mpyproject.toml\u001b[0m\u001b[1;32m)\u001b[0m did not run successfully.\n",
      "  \u001b[31m│\u001b[0m exit code: \u001b[1;36m1\u001b[0m\n",
      "  \u001b[31m╰─>\u001b[0m \u001b[31m[1153 lines of output]\u001b[0m\n",
      "  \u001b[31m   \u001b[0m setup.py:563: DeprecationWarning:\n",
      "  \u001b[31m   \u001b[0m \n",
      "  \u001b[31m   \u001b[0m   `numpy.distutils` is deprecated since NumPy 1.23.0, as a result\n",
      "  \u001b[31m   \u001b[0m   of the deprecation of `distutils` itself. It will be removed for\n",
      "  \u001b[31m   \u001b[0m   Python >= 3.12. For older Python versions it will remain present.\n",
      "  \u001b[31m   \u001b[0m   It is recommended to use `setuptools < 60.0` for those Python versions.\n",
      "  \u001b[31m   \u001b[0m   For more details, see:\n",
      "  \u001b[31m   \u001b[0m     https://numpy.org/devdocs/reference/distutils_status_migration.html\n",
      "  \u001b[31m   \u001b[0m \n",
      "  \u001b[31m   \u001b[0m \n",
      "  \u001b[31m   \u001b[0m   from numpy.distutils.core import setup\n",
      "  \u001b[31m   \u001b[0m Running from SciPy source directory.\n",
      "  \u001b[31m   \u001b[0m INFO: lapack_opt_info:\n",
      "  \u001b[31m   \u001b[0m INFO: lapack_armpl_info:\n",
      "  \u001b[31m   \u001b[0m INFO: customize UnixCCompiler\n",
      "  \u001b[31m   \u001b[0m INFO:   libraries armpl_lp64_mp not found in ['/Users/adoss/datascience/.venv/lib', '/usr/local/lib', '/usr/lib']\n",
      "  \u001b[31m   \u001b[0m INFO:   NOT AVAILABLE\n",
      "  \u001b[31m   \u001b[0m INFO:\n",
      "  \u001b[31m   \u001b[0m INFO: lapack_mkl_info:\n",
      "  \u001b[31m   \u001b[0m INFO:   libraries mkl_rt not found in ['/Users/adoss/datascience/.venv/lib', '/usr/local/lib', '/usr/lib']\n",
      "  \u001b[31m   \u001b[0m INFO:   NOT AVAILABLE\n",
      "  \u001b[31m   \u001b[0m INFO:\n",
      "  \u001b[31m   \u001b[0m INFO: lapack_ssl2_info:\n",
      "  \u001b[31m   \u001b[0m INFO:   libraries fjlapackexsve not found in ['/Users/adoss/datascience/.venv/lib', '/usr/local/lib', '/usr/lib']\n",
      "  \u001b[31m   \u001b[0m INFO:   NOT AVAILABLE\n",
      "  \u001b[31m   \u001b[0m INFO:\n",
      "  \u001b[31m   \u001b[0m INFO: openblas_lapack_info:\n",
      "  \u001b[31m   \u001b[0m INFO:   libraries openblas not found in ['/Users/adoss/datascience/.venv/lib', '/usr/local/lib', '/usr/lib']\n",
      "  \u001b[31m   \u001b[0m INFO:   NOT AVAILABLE\n",
      "  \u001b[31m   \u001b[0m INFO:\n",
      "  \u001b[31m   \u001b[0m INFO: openblas_clapack_info:\n",
      "  \u001b[31m   \u001b[0m INFO:   libraries openblas,lapack not found in ['/Users/adoss/datascience/.venv/lib', '/usr/local/lib', '/usr/lib']\n",
      "  \u001b[31m   \u001b[0m INFO:   NOT AVAILABLE\n",
      "  \u001b[31m   \u001b[0m INFO:\n",
      "  \u001b[31m   \u001b[0m INFO: flame_info:\n",
      "  \u001b[31m   \u001b[0m INFO:   libraries flame not found in ['/Users/adoss/datascience/.venv/lib', '/usr/local/lib', '/usr/lib']\n",
      "  \u001b[31m   \u001b[0m INFO:   NOT AVAILABLE\n",
      "  \u001b[31m   \u001b[0m INFO:\n",
      "  \u001b[31m   \u001b[0m INFO: accelerate_info:\n",
      "  \u001b[31m   \u001b[0m INFO:   NOT AVAILABLE\n",
      "  \u001b[31m   \u001b[0m INFO:\n",
      "  \u001b[31m   \u001b[0m INFO: atlas_3_10_threads_info:\n",
      "  \u001b[31m   \u001b[0m INFO: Setting PTATLAS=ATLAS\n",
      "  \u001b[31m   \u001b[0m INFO:   libraries tatlas,tatlas not found in /Users/adoss/datascience/.venv/lib\n",
      "  \u001b[31m   \u001b[0m INFO:   libraries tatlas,tatlas not found in /usr/local/lib\n",
      "  \u001b[31m   \u001b[0m INFO:   libraries tatlas,tatlas not found in /usr/lib\n",
      "  \u001b[31m   \u001b[0m INFO: <class 'numpy.distutils.system_info.atlas_3_10_threads_info'>\n",
      "  \u001b[31m   \u001b[0m INFO:   NOT AVAILABLE\n",
      "  \u001b[31m   \u001b[0m INFO:\n",
      "  \u001b[31m   \u001b[0m INFO: atlas_3_10_info:\n",
      "  \u001b[31m   \u001b[0m INFO:   libraries satlas,satlas not found in /Users/adoss/datascience/.venv/lib\n",
      "  \u001b[31m   \u001b[0m INFO:   libraries satlas,satlas not found in /usr/local/lib\n",
      "  \u001b[31m   \u001b[0m INFO:   libraries satlas,satlas not found in /usr/lib\n",
      "  \u001b[31m   \u001b[0m INFO: <class 'numpy.distutils.system_info.atlas_3_10_info'>\n",
      "  \u001b[31m   \u001b[0m INFO:   NOT AVAILABLE\n",
      "  \u001b[31m   \u001b[0m INFO:\n",
      "  \u001b[31m   \u001b[0m INFO: atlas_threads_info:\n",
      "  \u001b[31m   \u001b[0m INFO: Setting PTATLAS=ATLAS\n",
      "  \u001b[31m   \u001b[0m INFO:   libraries ptf77blas,ptcblas,atlas not found in /Users/adoss/datascience/.venv/lib\n",
      "  \u001b[31m   \u001b[0m INFO:   libraries ptf77blas,ptcblas,atlas not found in /usr/local/lib\n",
      "  \u001b[31m   \u001b[0m INFO:   libraries ptf77blas,ptcblas,atlas not found in /usr/lib\n",
      "  \u001b[31m   \u001b[0m INFO: <class 'numpy.distutils.system_info.atlas_threads_info'>\n",
      "  \u001b[31m   \u001b[0m INFO:   NOT AVAILABLE\n",
      "  \u001b[31m   \u001b[0m INFO:\n",
      "  \u001b[31m   \u001b[0m INFO: atlas_info:\n",
      "  \u001b[31m   \u001b[0m INFO:   libraries f77blas,cblas,atlas not found in /Users/adoss/datascience/.venv/lib\n",
      "  \u001b[31m   \u001b[0m INFO:   libraries f77blas,cblas,atlas not found in /usr/local/lib\n",
      "  \u001b[31m   \u001b[0m INFO:   libraries f77blas,cblas,atlas not found in /usr/lib\n",
      "  \u001b[31m   \u001b[0m INFO: <class 'numpy.distutils.system_info.atlas_info'>\n",
      "  \u001b[31m   \u001b[0m INFO:   NOT AVAILABLE\n",
      "  \u001b[31m   \u001b[0m INFO:\n",
      "  \u001b[31m   \u001b[0m INFO: lapack_info:\n",
      "  \u001b[31m   \u001b[0m INFO:   FOUND:\n",
      "  \u001b[31m   \u001b[0m INFO:     libraries = ['lapack', 'lapack']\n",
      "  \u001b[31m   \u001b[0m INFO:     library_dirs = ['/usr/lib']\n",
      "  \u001b[31m   \u001b[0m INFO:     language = f77\n",
      "  \u001b[31m   \u001b[0m INFO:\n",
      "  \u001b[31m   \u001b[0m INFO: blas_opt_info:\n",
      "  \u001b[31m   \u001b[0m INFO: blas_armpl_info:\n",
      "  \u001b[31m   \u001b[0m INFO:   libraries armpl_lp64_mp not found in ['/Users/adoss/datascience/.venv/lib', '/usr/local/lib', '/usr/lib']\n",
      "  \u001b[31m   \u001b[0m INFO:   NOT AVAILABLE\n",
      "  \u001b[31m   \u001b[0m INFO:\n",
      "  \u001b[31m   \u001b[0m INFO: blas_mkl_info:\n",
      "  \u001b[31m   \u001b[0m INFO:   libraries mkl_rt not found in ['/Users/adoss/datascience/.venv/lib', '/usr/local/lib', '/usr/lib']\n",
      "  \u001b[31m   \u001b[0m INFO:   NOT AVAILABLE\n",
      "  \u001b[31m   \u001b[0m INFO:\n",
      "  \u001b[31m   \u001b[0m INFO: blas_ssl2_info:\n",
      "  \u001b[31m   \u001b[0m INFO:   libraries fjlapackexsve not found in ['/Users/adoss/datascience/.venv/lib', '/usr/local/lib', '/usr/lib']\n",
      "  \u001b[31m   \u001b[0m INFO:   NOT AVAILABLE\n",
      "  \u001b[31m   \u001b[0m INFO:\n",
      "  \u001b[31m   \u001b[0m INFO: blis_info:\n",
      "  \u001b[31m   \u001b[0m INFO:   libraries blis not found in ['/Users/adoss/datascience/.venv/lib', '/usr/local/lib', '/usr/lib']\n",
      "  \u001b[31m   \u001b[0m INFO:   NOT AVAILABLE\n",
      "  \u001b[31m   \u001b[0m INFO:\n",
      "  \u001b[31m   \u001b[0m INFO: openblas_info:\n",
      "  \u001b[31m   \u001b[0m INFO:   libraries openblas not found in ['/Users/adoss/datascience/.venv/lib', '/usr/local/lib', '/usr/lib']\n",
      "  \u001b[31m   \u001b[0m INFO:   NOT AVAILABLE\n",
      "  \u001b[31m   \u001b[0m INFO:\n",
      "  \u001b[31m   \u001b[0m INFO: atlas_3_10_blas_threads_info:\n",
      "  \u001b[31m   \u001b[0m INFO: Setting PTATLAS=ATLAS\n",
      "  \u001b[31m   \u001b[0m INFO:   libraries tatlas not found in ['/Users/adoss/datascience/.venv/lib', '/usr/local/lib', '/usr/lib']\n",
      "  \u001b[31m   \u001b[0m INFO:   NOT AVAILABLE\n",
      "  \u001b[31m   \u001b[0m INFO:\n",
      "  \u001b[31m   \u001b[0m INFO: atlas_3_10_blas_info:\n",
      "  \u001b[31m   \u001b[0m INFO:   libraries satlas not found in ['/Users/adoss/datascience/.venv/lib', '/usr/local/lib', '/usr/lib']\n",
      "  \u001b[31m   \u001b[0m INFO:   NOT AVAILABLE\n",
      "  \u001b[31m   \u001b[0m INFO:\n",
      "  \u001b[31m   \u001b[0m INFO: atlas_blas_threads_info:\n",
      "  \u001b[31m   \u001b[0m INFO: Setting PTATLAS=ATLAS\n",
      "  \u001b[31m   \u001b[0m INFO:   libraries ptf77blas,ptcblas,atlas not found in ['/Users/adoss/datascience/.venv/lib', '/usr/local/lib', '/usr/lib']\n",
      "  \u001b[31m   \u001b[0m INFO:   NOT AVAILABLE\n",
      "  \u001b[31m   \u001b[0m INFO:\n",
      "  \u001b[31m   \u001b[0m INFO: atlas_blas_info:\n",
      "  \u001b[31m   \u001b[0m INFO:   libraries f77blas,cblas,atlas not found in ['/Users/adoss/datascience/.venv/lib', '/usr/local/lib', '/usr/lib']\n",
      "  \u001b[31m   \u001b[0m INFO:   NOT AVAILABLE\n",
      "  \u001b[31m   \u001b[0m INFO:\n",
      "  \u001b[31m   \u001b[0m /private/var/folders/5_/9x4p4q3d28z2z3wkqh_p49vc0000gp/T/pip-build-env-vo6z9c6r/overlay/lib/python3.10/site-packages/numpy/distutils/system_info.py:2158: UserWarning:\n",
      "  \u001b[31m   \u001b[0m     Optimized (vendor) Blas libraries are not found.\n",
      "  \u001b[31m   \u001b[0m     Falls back to netlib Blas library which has worse performance.\n",
      "  \u001b[31m   \u001b[0m     A better performance should be easily gained by switching\n",
      "  \u001b[31m   \u001b[0m     Blas library.\n",
      "  \u001b[31m   \u001b[0m   if self._calc_info(blas):\n",
      "  \u001b[31m   \u001b[0m INFO: blas_info:\n",
      "  \u001b[31m   \u001b[0m INFO: C compiler: clang -Wno-unused-result -Wsign-compare -Wunreachable-code -DNDEBUG -g -fwrapv -O3 -Wall\n",
      "  \u001b[31m   \u001b[0m \n",
      "  \u001b[31m   \u001b[0m creating /var/folders/5_/9x4p4q3d28z2z3wkqh_p49vc0000gp/T/tmptopc_s1w/var\n",
      "  \u001b[31m   \u001b[0m creating /var/folders/5_/9x4p4q3d28z2z3wkqh_p49vc0000gp/T/tmptopc_s1w/var/folders\n",
      "  \u001b[31m   \u001b[0m creating /var/folders/5_/9x4p4q3d28z2z3wkqh_p49vc0000gp/T/tmptopc_s1w/var/folders/5_\n",
      "  \u001b[31m   \u001b[0m creating /var/folders/5_/9x4p4q3d28z2z3wkqh_p49vc0000gp/T/tmptopc_s1w/var/folders/5_/9x4p4q3d28z2z3wkqh_p49vc0000gp\n",
      "  \u001b[31m   \u001b[0m creating /var/folders/5_/9x4p4q3d28z2z3wkqh_p49vc0000gp/T/tmptopc_s1w/var/folders/5_/9x4p4q3d28z2z3wkqh_p49vc0000gp/T\n",
      "  \u001b[31m   \u001b[0m creating /var/folders/5_/9x4p4q3d28z2z3wkqh_p49vc0000gp/T/tmptopc_s1w/var/folders/5_/9x4p4q3d28z2z3wkqh_p49vc0000gp/T/tmptopc_s1w\n",
      "  \u001b[31m   \u001b[0m INFO: compile options: '-I/usr/local/include -I/Users/adoss/datascience/.venv/include -c'\n",
      "  \u001b[31m   \u001b[0m INFO: clang: /var/folders/5_/9x4p4q3d28z2z3wkqh_p49vc0000gp/T/tmptopc_s1w/source.c\n",
      "  \u001b[31m   \u001b[0m /var/folders/5_/9x4p4q3d28z2z3wkqh_p49vc0000gp/T/tmptopc_s1w/source.c:1:10: fatal error: 'cblas.h' file not found\n",
      "  \u001b[31m   \u001b[0m #include <cblas.h>\n",
      "  \u001b[31m   \u001b[0m          ^~~~~~~~~\n",
      "  \u001b[31m   \u001b[0m 1 error generated.\n",
      "  \u001b[31m   \u001b[0m INFO:   FOUND:\n",
      "  \u001b[31m   \u001b[0m INFO:     libraries = ['blas', 'blas']\n",
      "  \u001b[31m   \u001b[0m INFO:     library_dirs = ['/usr/lib']\n",
      "  \u001b[31m   \u001b[0m INFO:     include_dirs = ['/usr/local/include', '/Users/adoss/datascience/.venv/include']\n",
      "  \u001b[31m   \u001b[0m INFO:\n",
      "  \u001b[31m   \u001b[0m INFO:   FOUND:\n",
      "  \u001b[31m   \u001b[0m INFO:     define_macros = [('NO_ATLAS_INFO', 1)]\n",
      "  \u001b[31m   \u001b[0m INFO:     libraries = ['blas', 'blas']\n",
      "  \u001b[31m   \u001b[0m INFO:     library_dirs = ['/usr/lib']\n",
      "  \u001b[31m   \u001b[0m INFO:     include_dirs = ['/usr/local/include', '/Users/adoss/datascience/.venv/include']\n",
      "  \u001b[31m   \u001b[0m INFO:\n",
      "  \u001b[31m   \u001b[0m INFO:   FOUND:\n",
      "  \u001b[31m   \u001b[0m INFO:     libraries = ['lapack', 'lapack', 'blas', 'blas']\n",
      "  \u001b[31m   \u001b[0m INFO:     library_dirs = ['/usr/lib']\n",
      "  \u001b[31m   \u001b[0m INFO:     language = f77\n",
      "  \u001b[31m   \u001b[0m INFO:     define_macros = [('NO_ATLAS_INFO', 1)]\n",
      "  \u001b[31m   \u001b[0m INFO:     include_dirs = ['/usr/local/include', '/Users/adoss/datascience/.venv/include']\n",
      "  \u001b[31m   \u001b[0m INFO:\n",
      "  \u001b[31m   \u001b[0m /private/var/folders/5_/9x4p4q3d28z2z3wkqh_p49vc0000gp/T/pip-build-env-vo6z9c6r/overlay/lib/python3.10/site-packages/numpy/distutils/system_info.py:944: UserWarning: Specified path /usr/local/include/python3.10 is invalid.\n",
      "  \u001b[31m   \u001b[0m   return self.get_paths(self.section, key)\n",
      "  \u001b[31m   \u001b[0m /private/var/folders/5_/9x4p4q3d28z2z3wkqh_p49vc0000gp/T/pip-build-env-vo6z9c6r/overlay/lib/python3.10/site-packages/numpy/distutils/system_info.py:944: UserWarning: Specified path /Users/adoss/datascience/.venv/include/python3.10 is invalid.\n",
      "  \u001b[31m   \u001b[0m   return self.get_paths(self.section, key)\n",
      "  \u001b[31m   \u001b[0m non-existing path in 'scipy/signal/windows': 'tests'\n",
      "  \u001b[31m   \u001b[0m /private/var/folders/5_/9x4p4q3d28z2z3wkqh_p49vc0000gp/T/pip-install-8w9uow3o/scipy_f95b9d3d733a41febc822d39b43382d7/scipy/special/utils/makenpz.py:12: DeprecationWarning: The distutils package is deprecated and slated for removal in Python 3.12. Use setuptools or check PEP 632 for potential alternatives\n",
      "  \u001b[31m   \u001b[0m   from distutils.util import newer\n",
      "  \u001b[31m   \u001b[0m [makenpz] /private/var/folders/5_/9x4p4q3d28z2z3wkqh_p49vc0000gp/T/pip-install-8w9uow3o/scipy_f95b9d3d733a41febc822d39b43382d7/scipy/special/tests/data/boost.npz not rebuilt\n",
      "  \u001b[31m   \u001b[0m /private/var/folders/5_/9x4p4q3d28z2z3wkqh_p49vc0000gp/T/pip-install-8w9uow3o/scipy_f95b9d3d733a41febc822d39b43382d7/scipy/special/utils/makenpz.py:12: DeprecationWarning: The distutils package is deprecated and slated for removal in Python 3.12. Use setuptools or check PEP 632 for potential alternatives\n",
      "  \u001b[31m   \u001b[0m   from distutils.util import newer\n",
      "  \u001b[31m   \u001b[0m [makenpz] /private/var/folders/5_/9x4p4q3d28z2z3wkqh_p49vc0000gp/T/pip-install-8w9uow3o/scipy_f95b9d3d733a41febc822d39b43382d7/scipy/special/tests/data/gsl.npz not rebuilt\n",
      "  \u001b[31m   \u001b[0m /private/var/folders/5_/9x4p4q3d28z2z3wkqh_p49vc0000gp/T/pip-install-8w9uow3o/scipy_f95b9d3d733a41febc822d39b43382d7/scipy/special/utils/makenpz.py:12: DeprecationWarning: The distutils package is deprecated and slated for removal in Python 3.12. Use setuptools or check PEP 632 for potential alternatives\n",
      "  \u001b[31m   \u001b[0m   from distutils.util import newer\n",
      "  \u001b[31m   \u001b[0m [makenpz] /private/var/folders/5_/9x4p4q3d28z2z3wkqh_p49vc0000gp/T/pip-install-8w9uow3o/scipy_f95b9d3d733a41febc822d39b43382d7/scipy/special/tests/data/local.npz not rebuilt\n",
      "  \u001b[31m   \u001b[0m running bdist_wheel\n",
      "  \u001b[31m   \u001b[0m running build\n",
      "  \u001b[31m   \u001b[0m running config_cc\n",
      "  \u001b[31m   \u001b[0m INFO: unifying config_cc, config, build_clib, build_ext, build commands --compiler options\n",
      "  \u001b[31m   \u001b[0m running config_fc\n",
      "  \u001b[31m   \u001b[0m INFO: unifying config_fc, config, build_clib, build_ext, build commands --fcompiler options\n",
      "  \u001b[31m   \u001b[0m running build_src\n",
      "  \u001b[31m   \u001b[0m INFO: build_src\n",
      "  \u001b[31m   \u001b[0m INFO: building py_modules sources\n",
      "  \u001b[31m   \u001b[0m INFO: building library \"mach\" sources\n",
      "  \u001b[31m   \u001b[0m INFO: building library \"quadpack\" sources\n",
      "  \u001b[31m   \u001b[0m INFO: building library \"lsoda\" sources\n",
      "  \u001b[31m   \u001b[0m INFO: building library \"vode\" sources\n",
      "  \u001b[31m   \u001b[0m INFO: building library \"dop\" sources\n",
      "  \u001b[31m   \u001b[0m INFO: building library \"fitpack\" sources\n",
      "  \u001b[31m   \u001b[0m INFO: building library \"fwrappers\" sources\n",
      "  \u001b[31m   \u001b[0m INFO: building library \"odrpack\" sources\n",
      "  \u001b[31m   \u001b[0m INFO: building library \"minpack\" sources\n",
      "  \u001b[31m   \u001b[0m INFO: building library \"rectangular_lsap\" sources\n",
      "  \u001b[31m   \u001b[0m INFO: building library \"rootfind\" sources\n",
      "  \u001b[31m   \u001b[0m INFO: building library \"basiclu\" sources\n",
      "  \u001b[31m   \u001b[0m INFO: building library \"superlu_src\" sources\n",
      "  \u001b[31m   \u001b[0m INFO: building library \"arpack_scipy\" sources\n",
      "  \u001b[31m   \u001b[0m INFO: building library \"sc_cephes\" sources\n",
      "  \u001b[31m   \u001b[0m INFO: building library \"sc_mach\" sources\n",
      "  \u001b[31m   \u001b[0m INFO: building library \"sc_amos\" sources\n",
      "  \u001b[31m   \u001b[0m INFO: building library \"sc_cdf\" sources\n",
      "  \u001b[31m   \u001b[0m INFO: building library \"sc_specfun\" sources\n",
      "  \u001b[31m   \u001b[0m INFO: building library \"statlib\" sources\n",
      "  \u001b[31m   \u001b[0m INFO: building extension \"scipy.cluster._vq\" sources\n",
      "  \u001b[31m   \u001b[0m INFO: building extension \"scipy.cluster._hierarchy\" sources\n",
      "  \u001b[31m   \u001b[0m INFO: building extension \"scipy.cluster._optimal_leaf_ordering\" sources\n",
      "  \u001b[31m   \u001b[0m INFO: building extension \"scipy.fft._pocketfft.pypocketfft\" sources\n",
      "  \u001b[31m   \u001b[0m INFO: building extension \"scipy.fftpack.convolve\" sources\n",
      "  \u001b[31m   \u001b[0m INFO: building extension \"scipy.integrate._quadpack\" sources\n",
      "  \u001b[31m   \u001b[0m INFO: building extension \"scipy.integrate._odepack\" sources\n",
      "  \u001b[31m   \u001b[0m INFO: building extension \"scipy.integrate.vode\" sources\n",
      "  \u001b[31m   \u001b[0m INFO: f2py options: []\n",
      "  \u001b[31m   \u001b[0m INFO:   adding 'build/src.macosx-10.15-x86_64-3.10/build/src.macosx-10.15-x86_64-3.10/scipy/integrate/fortranobject.c' to sources.\n",
      "  \u001b[31m   \u001b[0m INFO:   adding 'build/src.macosx-10.15-x86_64-3.10/build/src.macosx-10.15-x86_64-3.10/scipy/integrate' to include_dirs.\n",
      "  \u001b[31m   \u001b[0m INFO:   adding 'build/src.macosx-10.15-x86_64-3.10/scipy/integrate/vode-f2pywrappers.f' to sources.\n",
      "  \u001b[31m   \u001b[0m INFO: building extension \"scipy.integrate.lsoda\" sources\n",
      "  \u001b[31m   \u001b[0m INFO: f2py options: []\n",
      "  \u001b[31m   \u001b[0m INFO:   adding 'build/src.macosx-10.15-x86_64-3.10/build/src.macosx-10.15-x86_64-3.10/scipy/integrate/fortranobject.c' to sources.\n",
      "  \u001b[31m   \u001b[0m INFO:   adding 'build/src.macosx-10.15-x86_64-3.10/build/src.macosx-10.15-x86_64-3.10/scipy/integrate' to include_dirs.\n",
      "  \u001b[31m   \u001b[0m INFO:   adding 'build/src.macosx-10.15-x86_64-3.10/scipy/integrate/lsoda-f2pywrappers.f' to sources.\n",
      "  \u001b[31m   \u001b[0m INFO: building extension \"scipy.integrate._dop\" sources\n",
      "  \u001b[31m   \u001b[0m INFO: f2py options: []\n",
      "  \u001b[31m   \u001b[0m INFO:   adding 'build/src.macosx-10.15-x86_64-3.10/build/src.macosx-10.15-x86_64-3.10/scipy/integrate/fortranobject.c' to sources.\n",
      "  \u001b[31m   \u001b[0m INFO:   adding 'build/src.macosx-10.15-x86_64-3.10/build/src.macosx-10.15-x86_64-3.10/scipy/integrate' to include_dirs.\n",
      "  \u001b[31m   \u001b[0m INFO:   adding 'build/src.macosx-10.15-x86_64-3.10/scipy/integrate/_dop-f2pywrappers.f' to sources.\n",
      "  \u001b[31m   \u001b[0m INFO: building extension \"scipy.integrate._test_multivariate\" sources\n",
      "  \u001b[31m   \u001b[0m INFO: building extension \"scipy.integrate._test_odeint_banded\" sources\n",
      "  \u001b[31m   \u001b[0m INFO: f2py options: []\n",
      "  \u001b[31m   \u001b[0m INFO:   adding 'build/src.macosx-10.15-x86_64-3.10/build/src.macosx-10.15-x86_64-3.10/scipy/integrate/fortranobject.c' to sources.\n",
      "  \u001b[31m   \u001b[0m INFO:   adding 'build/src.macosx-10.15-x86_64-3.10/build/src.macosx-10.15-x86_64-3.10/scipy/integrate' to include_dirs.\n",
      "  \u001b[31m   \u001b[0m INFO:   adding 'build/src.macosx-10.15-x86_64-3.10/scipy/integrate/_test_odeint_banded-f2pywrappers.f' to sources.\n",
      "  \u001b[31m   \u001b[0m INFO: building extension \"scipy.interpolate.interpnd\" sources\n",
      "  \u001b[31m   \u001b[0m INFO: building extension \"scipy.interpolate._ppoly\" sources\n",
      "  \u001b[31m   \u001b[0m INFO: building extension \"scipy.interpolate._bspl\" sources\n",
      "  \u001b[31m   \u001b[0m INFO: building extension \"scipy.interpolate._fitpack\" sources\n",
      "  \u001b[31m   \u001b[0m INFO: building extension \"scipy.interpolate.dfitpack\" sources\n",
      "  \u001b[31m   \u001b[0m INFO: f2py options: []\n",
      "  \u001b[31m   \u001b[0m INFO:   adding 'build/src.macosx-10.15-x86_64-3.10/build/src.macosx-10.15-x86_64-3.10/scipy/interpolate/src/fortranobject.c' to sources.\n",
      "  \u001b[31m   \u001b[0m INFO:   adding 'build/src.macosx-10.15-x86_64-3.10/build/src.macosx-10.15-x86_64-3.10/scipy/interpolate/src' to include_dirs.\n",
      "  \u001b[31m   \u001b[0m INFO:   adding 'build/src.macosx-10.15-x86_64-3.10/scipy/interpolate/src/dfitpack-f2pywrappers.f' to sources.\n",
      "  \u001b[31m   \u001b[0m INFO: building extension \"scipy.io._test_fortran\" sources\n",
      "  \u001b[31m   \u001b[0m INFO: f2py options: []\n",
      "  \u001b[31m   \u001b[0m INFO:   adding 'build/src.macosx-10.15-x86_64-3.10/build/src.macosx-10.15-x86_64-3.10/scipy/io/fortranobject.c' to sources.\n",
      "  \u001b[31m   \u001b[0m INFO:   adding 'build/src.macosx-10.15-x86_64-3.10/build/src.macosx-10.15-x86_64-3.10/scipy/io' to include_dirs.\n",
      "  \u001b[31m   \u001b[0m INFO:   adding 'build/src.macosx-10.15-x86_64-3.10/scipy/io/_test_fortran-f2pywrappers.f' to sources.\n",
      "  \u001b[31m   \u001b[0m INFO: building extension \"scipy.io.matlab.streams\" sources\n",
      "  \u001b[31m   \u001b[0m INFO: building extension \"scipy.io.matlab.mio_utils\" sources\n",
      "  \u001b[31m   \u001b[0m INFO: building extension \"scipy.io.matlab.mio5_utils\" sources\n",
      "  \u001b[31m   \u001b[0m INFO: building extension \"scipy.linalg._fblas\" sources\n",
      "  \u001b[31m   \u001b[0m INFO: f2py options: []\n",
      "  \u001b[31m   \u001b[0m INFO:   adding 'build/src.macosx-10.15-x86_64-3.10/build/src.macosx-10.15-x86_64-3.10/build/src.macosx-10.15-x86_64-3.10/scipy/linalg/fortranobject.c' to sources.\n",
      "  \u001b[31m   \u001b[0m INFO:   adding 'build/src.macosx-10.15-x86_64-3.10/build/src.macosx-10.15-x86_64-3.10/build/src.macosx-10.15-x86_64-3.10/scipy/linalg' to include_dirs.\n",
      "  \u001b[31m   \u001b[0m INFO:   adding 'build/src.macosx-10.15-x86_64-3.10/build/src.macosx-10.15-x86_64-3.10/scipy/linalg/_fblas-f2pywrappers.f' to sources.\n",
      "  \u001b[31m   \u001b[0m INFO: building extension \"scipy.linalg._flapack\" sources\n",
      "  \u001b[31m   \u001b[0m INFO: f2py options: []\n",
      "  \u001b[31m   \u001b[0m INFO:   adding 'build/src.macosx-10.15-x86_64-3.10/build/src.macosx-10.15-x86_64-3.10/build/src.macosx-10.15-x86_64-3.10/scipy/linalg/fortranobject.c' to sources.\n",
      "  \u001b[31m   \u001b[0m INFO:   adding 'build/src.macosx-10.15-x86_64-3.10/build/src.macosx-10.15-x86_64-3.10/build/src.macosx-10.15-x86_64-3.10/scipy/linalg' to include_dirs.\n",
      "  \u001b[31m   \u001b[0m INFO:   adding 'build/src.macosx-10.15-x86_64-3.10/build/src.macosx-10.15-x86_64-3.10/scipy/linalg/_flapack-f2pywrappers.f' to sources.\n",
      "  \u001b[31m   \u001b[0m INFO: building extension \"scipy.linalg._flinalg\" sources\n",
      "  \u001b[31m   \u001b[0m INFO: f2py options: []\n",
      "  \u001b[31m   \u001b[0m INFO:   adding 'build/src.macosx-10.15-x86_64-3.10/build/src.macosx-10.15-x86_64-3.10/scipy/linalg/fortranobject.c' to sources.\n",
      "  \u001b[31m   \u001b[0m INFO:   adding 'build/src.macosx-10.15-x86_64-3.10/build/src.macosx-10.15-x86_64-3.10/scipy/linalg' to include_dirs.\n",
      "  \u001b[31m   \u001b[0m INFO:   adding 'build/src.macosx-10.15-x86_64-3.10/scipy/linalg/_flinalg-f2pywrappers.f' to sources.\n",
      "  \u001b[31m   \u001b[0m INFO: building extension \"scipy.linalg._interpolative\" sources\n",
      "  \u001b[31m   \u001b[0m INFO: f2py options: []\n",
      "  \u001b[31m   \u001b[0m INFO:   adding 'build/src.macosx-10.15-x86_64-3.10/build/src.macosx-10.15-x86_64-3.10/scipy/linalg/fortranobject.c' to sources.\n",
      "  \u001b[31m   \u001b[0m INFO:   adding 'build/src.macosx-10.15-x86_64-3.10/build/src.macosx-10.15-x86_64-3.10/scipy/linalg' to include_dirs.\n",
      "  \u001b[31m   \u001b[0m INFO:   adding 'build/src.macosx-10.15-x86_64-3.10/scipy/linalg/_interpolative-f2pywrappers.f' to sources.\n",
      "  \u001b[31m   \u001b[0m INFO: building extension \"scipy.linalg._solve_toeplitz\" sources\n",
      "  \u001b[31m   \u001b[0m INFO: building extension \"scipy.linalg._matfuncs_sqrtm_triu\" sources\n",
      "  \u001b[31m   \u001b[0m INFO: building extension \"scipy.linalg.cython_blas\" sources\n",
      "  \u001b[31m   \u001b[0m INFO: building extension \"scipy.linalg.cython_lapack\" sources\n",
      "  \u001b[31m   \u001b[0m INFO: building extension \"scipy.linalg._decomp_update\" sources\n",
      "  \u001b[31m   \u001b[0m INFO: building extension \"scipy.odr.__odrpack\" sources\n",
      "  \u001b[31m   \u001b[0m INFO: building extension \"scipy.optimize._minpack\" sources\n",
      "  \u001b[31m   \u001b[0m INFO: building extension \"scipy.optimize._lsap_module\" sources\n",
      "  \u001b[31m   \u001b[0m INFO: building extension \"scipy.optimize._zeros\" sources\n",
      "  \u001b[31m   \u001b[0m INFO: building extension \"scipy.optimize._lbfgsb\" sources\n",
      "  \u001b[31m   \u001b[0m INFO: f2py options: []\n",
      "  \u001b[31m   \u001b[0m INFO:   adding 'build/src.macosx-10.15-x86_64-3.10/build/src.macosx-10.15-x86_64-3.10/scipy/optimize/lbfgsb_src/fortranobject.c' to sources.\n",
      "  \u001b[31m   \u001b[0m INFO:   adding 'build/src.macosx-10.15-x86_64-3.10/build/src.macosx-10.15-x86_64-3.10/scipy/optimize/lbfgsb_src' to include_dirs.\n",
      "  \u001b[31m   \u001b[0m INFO:   adding 'build/src.macosx-10.15-x86_64-3.10/scipy/optimize/lbfgsb_src/_lbfgsb-f2pywrappers.f' to sources.\n",
      "  \u001b[31m   \u001b[0m INFO: building extension \"scipy.optimize.moduleTNC\" sources\n",
      "  \u001b[31m   \u001b[0m INFO: building extension \"scipy.optimize._cobyla\" sources\n",
      "  \u001b[31m   \u001b[0m INFO: f2py options: []\n",
      "  \u001b[31m   \u001b[0m INFO:   adding 'build/src.macosx-10.15-x86_64-3.10/build/src.macosx-10.15-x86_64-3.10/scipy/optimize/cobyla/fortranobject.c' to sources.\n",
      "  \u001b[31m   \u001b[0m INFO:   adding 'build/src.macosx-10.15-x86_64-3.10/build/src.macosx-10.15-x86_64-3.10/scipy/optimize/cobyla' to include_dirs.\n",
      "  \u001b[31m   \u001b[0m INFO:   adding 'build/src.macosx-10.15-x86_64-3.10/scipy/optimize/cobyla/_cobyla-f2pywrappers.f' to sources.\n",
      "  \u001b[31m   \u001b[0m INFO: building extension \"scipy.optimize.minpack2\" sources\n",
      "  \u001b[31m   \u001b[0m INFO: f2py options: []\n",
      "  \u001b[31m   \u001b[0m INFO:   adding 'build/src.macosx-10.15-x86_64-3.10/build/src.macosx-10.15-x86_64-3.10/scipy/optimize/minpack2/fortranobject.c' to sources.\n",
      "  \u001b[31m   \u001b[0m INFO:   adding 'build/src.macosx-10.15-x86_64-3.10/build/src.macosx-10.15-x86_64-3.10/scipy/optimize/minpack2' to include_dirs.\n",
      "  \u001b[31m   \u001b[0m INFO:   adding 'build/src.macosx-10.15-x86_64-3.10/scipy/optimize/minpack2/minpack2-f2pywrappers.f' to sources.\n",
      "  \u001b[31m   \u001b[0m INFO: building extension \"scipy.optimize._slsqp\" sources\n",
      "  \u001b[31m   \u001b[0m INFO: f2py options: []\n",
      "  \u001b[31m   \u001b[0m INFO:   adding 'build/src.macosx-10.15-x86_64-3.10/build/src.macosx-10.15-x86_64-3.10/scipy/optimize/slsqp/fortranobject.c' to sources.\n",
      "  \u001b[31m   \u001b[0m INFO:   adding 'build/src.macosx-10.15-x86_64-3.10/build/src.macosx-10.15-x86_64-3.10/scipy/optimize/slsqp' to include_dirs.\n",
      "  \u001b[31m   \u001b[0m INFO:   adding 'build/src.macosx-10.15-x86_64-3.10/scipy/optimize/slsqp/_slsqp-f2pywrappers.f' to sources.\n",
      "  \u001b[31m   \u001b[0m INFO: building extension \"scipy.optimize.__nnls\" sources\n",
      "  \u001b[31m   \u001b[0m INFO: f2py options: []\n",
      "  \u001b[31m   \u001b[0m INFO:   adding 'build/src.macosx-10.15-x86_64-3.10/build/src.macosx-10.15-x86_64-3.10/scipy/optimize/__nnls/fortranobject.c' to sources.\n",
      "  \u001b[31m   \u001b[0m INFO:   adding 'build/src.macosx-10.15-x86_64-3.10/build/src.macosx-10.15-x86_64-3.10/scipy/optimize/__nnls' to include_dirs.\n",
      "  \u001b[31m   \u001b[0m INFO:   adding 'build/src.macosx-10.15-x86_64-3.10/scipy/optimize/__nnls/__nnls-f2pywrappers.f' to sources.\n",
      "  \u001b[31m   \u001b[0m INFO: building extension \"scipy.optimize._group_columns\" sources\n",
      "  \u001b[31m   \u001b[0m INFO: building extension \"scipy.optimize._bglu_dense\" sources\n",
      "  \u001b[31m   \u001b[0m INFO: building extension \"scipy.optimize._lsq.givens_elimination\" sources\n",
      "  \u001b[31m   \u001b[0m INFO: building extension \"scipy.optimize._trlib._trlib\" sources\n",
      "  \u001b[31m   \u001b[0m INFO: building extension \"scipy.optimize.cython_optimize._zeros\" sources\n",
      "  \u001b[31m   \u001b[0m INFO: building extension \"scipy.optimize._highs._highs_wrapper\" sources\n",
      "  \u001b[31m   \u001b[0m INFO: building extension \"scipy.optimize._highs._mpswriter\" sources\n",
      "  \u001b[31m   \u001b[0m INFO: building extension \"scipy.optimize._highs._highs_constants\" sources\n",
      "  \u001b[31m   \u001b[0m INFO: building extension \"scipy.signal.sigtools\" sources\n",
      "  \u001b[31m   \u001b[0m INFO: building extension \"scipy.signal._spectral\" sources\n",
      "  \u001b[31m   \u001b[0m INFO: building extension \"scipy.signal._max_len_seq_inner\" sources\n",
      "  \u001b[31m   \u001b[0m INFO: building extension \"scipy.signal._peak_finding_utils\" sources\n",
      "  \u001b[31m   \u001b[0m INFO: building extension \"scipy.signal._sosfilt\" sources\n",
      "  \u001b[31m   \u001b[0m INFO: building extension \"scipy.signal._upfirdn_apply\" sources\n",
      "  \u001b[31m   \u001b[0m INFO: building extension \"scipy.signal.spline\" sources\n",
      "  \u001b[31m   \u001b[0m INFO: building extension \"scipy.sparse.linalg.isolve._iterative\" sources\n",
      "  \u001b[31m   \u001b[0m INFO: f2py options: []\n",
      "  \u001b[31m   \u001b[0m INFO:   adding 'build/src.macosx-10.15-x86_64-3.10/build/src.macosx-10.15-x86_64-3.10/build/src.macosx-10.15-x86_64-3.10/scipy/sparse/linalg/isolve/iterative/fortranobject.c' to sources.\n",
      "  \u001b[31m   \u001b[0m INFO:   adding 'build/src.macosx-10.15-x86_64-3.10/build/src.macosx-10.15-x86_64-3.10/build/src.macosx-10.15-x86_64-3.10/scipy/sparse/linalg/isolve/iterative' to include_dirs.\n",
      "  \u001b[31m   \u001b[0m INFO:   adding 'build/src.macosx-10.15-x86_64-3.10/build/src.macosx-10.15-x86_64-3.10/scipy/sparse/linalg/isolve/iterative/_iterative-f2pywrappers.f' to sources.\n",
      "  \u001b[31m   \u001b[0m INFO: building extension \"scipy.sparse.linalg.dsolve._superlu\" sources\n",
      "  \u001b[31m   \u001b[0m INFO: building extension \"scipy.sparse.linalg.eigen.arpack._arpack\" sources\n",
      "  \u001b[31m   \u001b[0m INFO: f2py options: []\n",
      "  \u001b[31m   \u001b[0m INFO:   adding 'build/src.macosx-10.15-x86_64-3.10/build/src.macosx-10.15-x86_64-3.10/build/src.macosx-10.15-x86_64-3.10/scipy/sparse/linalg/eigen/arpack/fortranobject.c' to sources.\n",
      "  \u001b[31m   \u001b[0m INFO:   adding 'build/src.macosx-10.15-x86_64-3.10/build/src.macosx-10.15-x86_64-3.10/build/src.macosx-10.15-x86_64-3.10/scipy/sparse/linalg/eigen/arpack' to include_dirs.\n",
      "  \u001b[31m   \u001b[0m INFO:   adding 'build/src.macosx-10.15-x86_64-3.10/build/src.macosx-10.15-x86_64-3.10/scipy/sparse/linalg/eigen/arpack/_arpack-f2pywrappers.f' to sources.\n",
      "  \u001b[31m   \u001b[0m INFO: building extension \"scipy.sparse.csgraph._shortest_path\" sources\n",
      "  \u001b[31m   \u001b[0m INFO: building extension \"scipy.sparse.csgraph._traversal\" sources\n",
      "  \u001b[31m   \u001b[0m INFO: building extension \"scipy.sparse.csgraph._min_spanning_tree\" sources\n",
      "  \u001b[31m   \u001b[0m INFO: building extension \"scipy.sparse.csgraph._matching\" sources\n",
      "  \u001b[31m   \u001b[0m INFO: building extension \"scipy.sparse.csgraph._flow\" sources\n",
      "  \u001b[31m   \u001b[0m INFO: building extension \"scipy.sparse.csgraph._reordering\" sources\n",
      "  \u001b[31m   \u001b[0m INFO: building extension \"scipy.sparse.csgraph._tools\" sources\n",
      "  \u001b[31m   \u001b[0m INFO: building extension \"scipy.sparse._csparsetools\" sources\n",
      "  \u001b[31m   \u001b[0m INFO: building extension \"scipy.sparse._sparsetools\" sources\n",
      "  \u001b[31m   \u001b[0m /private/var/folders/5_/9x4p4q3d28z2z3wkqh_p49vc0000gp/T/pip-install-8w9uow3o/scipy_f95b9d3d733a41febc822d39b43382d7/scipy/sparse/generate_sparsetools.py:23: DeprecationWarning: The distutils package is deprecated and slated for removal in Python 3.12. Use setuptools or check PEP 632 for potential alternatives\n",
      "  \u001b[31m   \u001b[0m   from distutils.dep_util import newer\n",
      "  \u001b[31m   \u001b[0m [generate_sparsetools] '/private/var/folders/5_/9x4p4q3d28z2z3wkqh_p49vc0000gp/T/pip-install-8w9uow3o/scipy_f95b9d3d733a41febc822d39b43382d7/scipy/sparse/sparsetools/bsr_impl.h' already up-to-date\n",
      "  \u001b[31m   \u001b[0m [generate_sparsetools] '/private/var/folders/5_/9x4p4q3d28z2z3wkqh_p49vc0000gp/T/pip-install-8w9uow3o/scipy_f95b9d3d733a41febc822d39b43382d7/scipy/sparse/sparsetools/csr_impl.h' already up-to-date\n",
      "  \u001b[31m   \u001b[0m [generate_sparsetools] '/private/var/folders/5_/9x4p4q3d28z2z3wkqh_p49vc0000gp/T/pip-install-8w9uow3o/scipy_f95b9d3d733a41febc822d39b43382d7/scipy/sparse/sparsetools/csc_impl.h' already up-to-date\n",
      "  \u001b[31m   \u001b[0m [generate_sparsetools] '/private/var/folders/5_/9x4p4q3d28z2z3wkqh_p49vc0000gp/T/pip-install-8w9uow3o/scipy_f95b9d3d733a41febc822d39b43382d7/scipy/sparse/sparsetools/other_impl.h' already up-to-date\n",
      "  \u001b[31m   \u001b[0m [generate_sparsetools] '/private/var/folders/5_/9x4p4q3d28z2z3wkqh_p49vc0000gp/T/pip-install-8w9uow3o/scipy_f95b9d3d733a41febc822d39b43382d7/scipy/sparse/sparsetools/sparsetools_impl.h' already up-to-date\n",
      "  \u001b[31m   \u001b[0m INFO: building extension \"scipy.spatial.transform.rotation\" sources\n",
      "  \u001b[31m   \u001b[0m INFO: building extension \"scipy.spatial.qhull\" sources\n",
      "  \u001b[31m   \u001b[0m INFO: building extension \"scipy.spatial.ckdtree\" sources\n",
      "  \u001b[31m   \u001b[0m INFO: building extension \"scipy.spatial._distance_wrap\" sources\n",
      "  \u001b[31m   \u001b[0m INFO: building extension \"scipy.spatial._voronoi\" sources\n",
      "  \u001b[31m   \u001b[0m INFO: building extension \"scipy.spatial._hausdorff\" sources\n",
      "  \u001b[31m   \u001b[0m INFO: building extension \"scipy.special.specfun\" sources\n",
      "  \u001b[31m   \u001b[0m INFO: f2py options: ['--no-wrap-functions']\n",
      "  \u001b[31m   \u001b[0m INFO:   adding 'build/src.macosx-10.15-x86_64-3.10/build/src.macosx-10.15-x86_64-3.10/scipy/special/fortranobject.c' to sources.\n",
      "  \u001b[31m   \u001b[0m INFO:   adding 'build/src.macosx-10.15-x86_64-3.10/build/src.macosx-10.15-x86_64-3.10/scipy/special' to include_dirs.\n",
      "  \u001b[31m   \u001b[0m INFO:   adding 'build/src.macosx-10.15-x86_64-3.10/scipy/special/specfun-f2pywrappers.f' to sources.\n",
      "  \u001b[31m   \u001b[0m INFO: building extension \"scipy.special._ufuncs\" sources\n",
      "  \u001b[31m   \u001b[0m INFO: building extension \"scipy.special._ufuncs_cxx\" sources\n",
      "  \u001b[31m   \u001b[0m INFO: building extension \"scipy.special._ellip_harm_2\" sources\n",
      "  \u001b[31m   \u001b[0m INFO: building extension \"scipy.special.cython_special\" sources\n",
      "  \u001b[31m   \u001b[0m INFO: building extension \"scipy.special._comb\" sources\n",
      "  \u001b[31m   \u001b[0m INFO: building extension \"scipy.special._test_round\" sources\n",
      "  \u001b[31m   \u001b[0m INFO: building extension \"scipy.stats.statlib\" sources\n",
      "  \u001b[31m   \u001b[0m INFO: f2py options: ['--no-wrap-functions']\n",
      "  \u001b[31m   \u001b[0m INFO:   adding 'build/src.macosx-10.15-x86_64-3.10/build/src.macosx-10.15-x86_64-3.10/scipy/stats/fortranobject.c' to sources.\n",
      "  \u001b[31m   \u001b[0m INFO:   adding 'build/src.macosx-10.15-x86_64-3.10/build/src.macosx-10.15-x86_64-3.10/scipy/stats' to include_dirs.\n",
      "  \u001b[31m   \u001b[0m INFO:   adding 'build/src.macosx-10.15-x86_64-3.10/scipy/stats/statlib-f2pywrappers.f' to sources.\n",
      "  \u001b[31m   \u001b[0m INFO: building extension \"scipy.stats._stats\" sources\n",
      "  \u001b[31m   \u001b[0m INFO: building extension \"scipy.stats.mvn\" sources\n",
      "  \u001b[31m   \u001b[0m INFO: f2py options: []\n",
      "  \u001b[31m   \u001b[0m INFO:   adding 'build/src.macosx-10.15-x86_64-3.10/build/src.macosx-10.15-x86_64-3.10/scipy/stats/fortranobject.c' to sources.\n",
      "  \u001b[31m   \u001b[0m INFO:   adding 'build/src.macosx-10.15-x86_64-3.10/build/src.macosx-10.15-x86_64-3.10/scipy/stats' to include_dirs.\n",
      "  \u001b[31m   \u001b[0m INFO:   adding 'build/src.macosx-10.15-x86_64-3.10/scipy/stats/mvn-f2pywrappers.f' to sources.\n",
      "  \u001b[31m   \u001b[0m INFO: building extension \"scipy.ndimage._nd_image\" sources\n",
      "  \u001b[31m   \u001b[0m INFO: building extension \"scipy.ndimage._ni_label\" sources\n",
      "  \u001b[31m   \u001b[0m INFO: building extension \"scipy.ndimage._ctest\" sources\n",
      "  \u001b[31m   \u001b[0m INFO: building extension \"scipy.ndimage._cytest\" sources\n",
      "  \u001b[31m   \u001b[0m INFO: building extension \"scipy._lib._ccallback_c\" sources\n",
      "  \u001b[31m   \u001b[0m INFO: building extension \"scipy._lib._test_ccallback\" sources\n",
      "  \u001b[31m   \u001b[0m INFO: building extension \"scipy._lib._fpumode\" sources\n",
      "  \u001b[31m   \u001b[0m INFO: building extension \"scipy._lib.messagestream\" sources\n",
      "  \u001b[31m   \u001b[0m WARN: Could not locate executable gfortran\n",
      "  \u001b[31m   \u001b[0m WARN: Could not locate executable f95\n",
      "  \u001b[31m   \u001b[0m WARN: Could not locate executable nagfor\n",
      "  \u001b[31m   \u001b[0m WARN: Could not locate executable f90\n",
      "  \u001b[31m   \u001b[0m WARN: Could not locate executable f77\n",
      "  \u001b[31m   \u001b[0m WARN: Could not locate executable xlf90\n",
      "  \u001b[31m   \u001b[0m WARN: Could not locate executable xlf\n",
      "  \u001b[31m   \u001b[0m WARN: Could not locate executable ifort\n",
      "  \u001b[31m   \u001b[0m WARN: Could not locate executable ifc\n",
      "  \u001b[31m   \u001b[0m WARN: Could not locate executable g77\n",
      "  \u001b[31m   \u001b[0m WARN: Could not locate executable g95\n",
      "  \u001b[31m   \u001b[0m WARN: Could not locate executable pgfortran\n",
      "  \u001b[31m   \u001b[0m WARN: don't know how to compile Fortran code on platform 'posix'\n",
      "  \u001b[31m   \u001b[0m INFO: building extension \"scipy._lib._test_deprecation_call\" sources\n",
      "  \u001b[31m   \u001b[0m INFO: building extension \"scipy._lib._test_deprecation_def\" sources\n",
      "  \u001b[31m   \u001b[0m INFO: building extension \"scipy._lib._uarray._uarray\" sources\n",
      "  \u001b[31m   \u001b[0m INFO: building data_files sources\n",
      "  \u001b[31m   \u001b[0m INFO: build_src: building npy-pkg config files\n",
      "  \u001b[31m   \u001b[0m running build_py\n",
      "  \u001b[31m   \u001b[0m creating build/lib.macosx-10.15-x86_64-3.10\n",
      "  \u001b[31m   \u001b[0m creating build/lib.macosx-10.15-x86_64-3.10/scipy\n",
      "  \u001b[31m   \u001b[0m copying scipy/conftest.py -> build/lib.macosx-10.15-x86_64-3.10/scipy\n",
      "  \u001b[31m   \u001b[0m copying scipy/version.py -> build/lib.macosx-10.15-x86_64-3.10/scipy\n",
      "  \u001b[31m   \u001b[0m copying scipy/__init__.py -> build/lib.macosx-10.15-x86_64-3.10/scipy\n",
      "  \u001b[31m   \u001b[0m copying scipy/_distributor_init.py -> build/lib.macosx-10.15-x86_64-3.10/scipy\n",
      "  \u001b[31m   \u001b[0m copying scipy/setup.py -> build/lib.macosx-10.15-x86_64-3.10/scipy\n",
      "  \u001b[31m   \u001b[0m copying build/src.macosx-10.15-x86_64-3.10/scipy/__config__.py -> build/lib.macosx-10.15-x86_64-3.10/scipy\n",
      "  \u001b[31m   \u001b[0m creating build/lib.macosx-10.15-x86_64-3.10/scipy/cluster\n",
      "  \u001b[31m   \u001b[0m copying scipy/cluster/vq.py -> build/lib.macosx-10.15-x86_64-3.10/scipy/cluster\n",
      "  \u001b[31m   \u001b[0m copying scipy/cluster/__init__.py -> build/lib.macosx-10.15-x86_64-3.10/scipy/cluster\n",
      "  \u001b[31m   \u001b[0m copying scipy/cluster/hierarchy.py -> build/lib.macosx-10.15-x86_64-3.10/scipy/cluster\n",
      "  \u001b[31m   \u001b[0m copying scipy/cluster/setup.py -> build/lib.macosx-10.15-x86_64-3.10/scipy/cluster\n",
      "  \u001b[31m   \u001b[0m creating build/lib.macosx-10.15-x86_64-3.10/scipy/constants\n",
      "  \u001b[31m   \u001b[0m copying scipy/constants/constants.py -> build/lib.macosx-10.15-x86_64-3.10/scipy/constants\n",
      "  \u001b[31m   \u001b[0m copying scipy/constants/__init__.py -> build/lib.macosx-10.15-x86_64-3.10/scipy/constants\n",
      "  \u001b[31m   \u001b[0m copying scipy/constants/codata.py -> build/lib.macosx-10.15-x86_64-3.10/scipy/constants\n",
      "  \u001b[31m   \u001b[0m copying scipy/constants/setup.py -> build/lib.macosx-10.15-x86_64-3.10/scipy/constants\n",
      "  \u001b[31m   \u001b[0m creating build/lib.macosx-10.15-x86_64-3.10/scipy/fft\n",
      "  \u001b[31m   \u001b[0m copying scipy/fft/_backend.py -> build/lib.macosx-10.15-x86_64-3.10/scipy/fft\n",
      "  \u001b[31m   \u001b[0m copying scipy/fft/_helper.py -> build/lib.macosx-10.15-x86_64-3.10/scipy/fft\n",
      "  \u001b[31m   \u001b[0m copying scipy/fft/__init__.py -> build/lib.macosx-10.15-x86_64-3.10/scipy/fft\n",
      "  \u001b[31m   \u001b[0m copying scipy/fft/setup.py -> build/lib.macosx-10.15-x86_64-3.10/scipy/fft\n",
      "  \u001b[31m   \u001b[0m copying scipy/fft/_debug_backends.py -> build/lib.macosx-10.15-x86_64-3.10/scipy/fft\n",
      "  \u001b[31m   \u001b[0m copying scipy/fft/_realtransforms.py -> build/lib.macosx-10.15-x86_64-3.10/scipy/fft\n",
      "  \u001b[31m   \u001b[0m copying scipy/fft/_basic.py -> build/lib.macosx-10.15-x86_64-3.10/scipy/fft\n",
      "  \u001b[31m   \u001b[0m creating build/lib.macosx-10.15-x86_64-3.10/scipy/fft/_pocketfft\n",
      "  \u001b[31m   \u001b[0m copying scipy/fft/_pocketfft/__init__.py -> build/lib.macosx-10.15-x86_64-3.10/scipy/fft/_pocketfft\n",
      "  \u001b[31m   \u001b[0m copying scipy/fft/_pocketfft/setup.py -> build/lib.macosx-10.15-x86_64-3.10/scipy/fft/_pocketfft\n",
      "  \u001b[31m   \u001b[0m copying scipy/fft/_pocketfft/realtransforms.py -> build/lib.macosx-10.15-x86_64-3.10/scipy/fft/_pocketfft\n",
      "  \u001b[31m   \u001b[0m copying scipy/fft/_pocketfft/basic.py -> build/lib.macosx-10.15-x86_64-3.10/scipy/fft/_pocketfft\n",
      "  \u001b[31m   \u001b[0m copying scipy/fft/_pocketfft/helper.py -> build/lib.macosx-10.15-x86_64-3.10/scipy/fft/_pocketfft\n",
      "  \u001b[31m   \u001b[0m creating build/lib.macosx-10.15-x86_64-3.10/scipy/fftpack\n",
      "  \u001b[31m   \u001b[0m copying scipy/fftpack/__init__.py -> build/lib.macosx-10.15-x86_64-3.10/scipy/fftpack\n",
      "  \u001b[31m   \u001b[0m copying scipy/fftpack/pseudo_diffs.py -> build/lib.macosx-10.15-x86_64-3.10/scipy/fftpack\n",
      "  \u001b[31m   \u001b[0m copying scipy/fftpack/setup.py -> build/lib.macosx-10.15-x86_64-3.10/scipy/fftpack\n",
      "  \u001b[31m   \u001b[0m copying scipy/fftpack/realtransforms.py -> build/lib.macosx-10.15-x86_64-3.10/scipy/fftpack\n",
      "  \u001b[31m   \u001b[0m copying scipy/fftpack/basic.py -> build/lib.macosx-10.15-x86_64-3.10/scipy/fftpack\n",
      "  \u001b[31m   \u001b[0m copying scipy/fftpack/helper.py -> build/lib.macosx-10.15-x86_64-3.10/scipy/fftpack\n",
      "  \u001b[31m   \u001b[0m creating build/lib.macosx-10.15-x86_64-3.10/scipy/integrate\n",
      "  \u001b[31m   \u001b[0m copying scipy/integrate/_ode.py -> build/lib.macosx-10.15-x86_64-3.10/scipy/integrate\n",
      "  \u001b[31m   \u001b[0m copying scipy/integrate/_quadrature.py -> build/lib.macosx-10.15-x86_64-3.10/scipy/integrate\n",
      "  \u001b[31m   \u001b[0m copying scipy/integrate/__init__.py -> build/lib.macosx-10.15-x86_64-3.10/scipy/integrate\n",
      "  \u001b[31m   \u001b[0m copying scipy/integrate/quadpack.py -> build/lib.macosx-10.15-x86_64-3.10/scipy/integrate\n",
      "  \u001b[31m   \u001b[0m copying scipy/integrate/_quad_vec.py -> build/lib.macosx-10.15-x86_64-3.10/scipy/integrate\n",
      "  \u001b[31m   \u001b[0m copying scipy/integrate/setup.py -> build/lib.macosx-10.15-x86_64-3.10/scipy/integrate\n",
      "  \u001b[31m   \u001b[0m copying scipy/integrate/_bvp.py -> build/lib.macosx-10.15-x86_64-3.10/scipy/integrate\n",
      "  \u001b[31m   \u001b[0m copying scipy/integrate/odepack.py -> build/lib.macosx-10.15-x86_64-3.10/scipy/integrate\n",
      "  \u001b[31m   \u001b[0m creating build/lib.macosx-10.15-x86_64-3.10/scipy/integrate/_ivp\n",
      "  \u001b[31m   \u001b[0m copying scipy/integrate/_ivp/bdf.py -> build/lib.macosx-10.15-x86_64-3.10/scipy/integrate/_ivp\n",
      "  \u001b[31m   \u001b[0m copying scipy/integrate/_ivp/ivp.py -> build/lib.macosx-10.15-x86_64-3.10/scipy/integrate/_ivp\n",
      "  \u001b[31m   \u001b[0m copying scipy/integrate/_ivp/dop853_coefficients.py -> build/lib.macosx-10.15-x86_64-3.10/scipy/integrate/_ivp\n",
      "  \u001b[31m   \u001b[0m copying scipy/integrate/_ivp/__init__.py -> build/lib.macosx-10.15-x86_64-3.10/scipy/integrate/_ivp\n",
      "  \u001b[31m   \u001b[0m copying scipy/integrate/_ivp/setup.py -> build/lib.macosx-10.15-x86_64-3.10/scipy/integrate/_ivp\n",
      "  \u001b[31m   \u001b[0m copying scipy/integrate/_ivp/common.py -> build/lib.macosx-10.15-x86_64-3.10/scipy/integrate/_ivp\n",
      "  \u001b[31m   \u001b[0m copying scipy/integrate/_ivp/radau.py -> build/lib.macosx-10.15-x86_64-3.10/scipy/integrate/_ivp\n",
      "  \u001b[31m   \u001b[0m copying scipy/integrate/_ivp/lsoda.py -> build/lib.macosx-10.15-x86_64-3.10/scipy/integrate/_ivp\n",
      "  \u001b[31m   \u001b[0m copying scipy/integrate/_ivp/rk.py -> build/lib.macosx-10.15-x86_64-3.10/scipy/integrate/_ivp\n",
      "  \u001b[31m   \u001b[0m copying scipy/integrate/_ivp/base.py -> build/lib.macosx-10.15-x86_64-3.10/scipy/integrate/_ivp\n",
      "  \u001b[31m   \u001b[0m creating build/lib.macosx-10.15-x86_64-3.10/scipy/interpolate\n",
      "  \u001b[31m   \u001b[0m copying scipy/interpolate/_cubic.py -> build/lib.macosx-10.15-x86_64-3.10/scipy/interpolate\n",
      "  \u001b[31m   \u001b[0m copying scipy/interpolate/polyint.py -> build/lib.macosx-10.15-x86_64-3.10/scipy/interpolate\n",
      "  \u001b[31m   \u001b[0m copying scipy/interpolate/ndgriddata.py -> build/lib.macosx-10.15-x86_64-3.10/scipy/interpolate\n",
      "  \u001b[31m   \u001b[0m copying scipy/interpolate/_bsplines.py -> build/lib.macosx-10.15-x86_64-3.10/scipy/interpolate\n",
      "  \u001b[31m   \u001b[0m copying scipy/interpolate/__init__.py -> build/lib.macosx-10.15-x86_64-3.10/scipy/interpolate\n",
      "  \u001b[31m   \u001b[0m copying scipy/interpolate/fitpack.py -> build/lib.macosx-10.15-x86_64-3.10/scipy/interpolate\n",
      "  \u001b[31m   \u001b[0m copying scipy/interpolate/rbf.py -> build/lib.macosx-10.15-x86_64-3.10/scipy/interpolate\n",
      "  \u001b[31m   \u001b[0m copying scipy/interpolate/interpnd_info.py -> build/lib.macosx-10.15-x86_64-3.10/scipy/interpolate\n",
      "  \u001b[31m   \u001b[0m copying scipy/interpolate/setup.py -> build/lib.macosx-10.15-x86_64-3.10/scipy/interpolate\n",
      "  \u001b[31m   \u001b[0m copying scipy/interpolate/_pade.py -> build/lib.macosx-10.15-x86_64-3.10/scipy/interpolate\n",
      "  \u001b[31m   \u001b[0m copying scipy/interpolate/interpolate.py -> build/lib.macosx-10.15-x86_64-3.10/scipy/interpolate\n",
      "  \u001b[31m   \u001b[0m copying scipy/interpolate/_fitpack_impl.py -> build/lib.macosx-10.15-x86_64-3.10/scipy/interpolate\n",
      "  \u001b[31m   \u001b[0m copying scipy/interpolate/fitpack2.py -> build/lib.macosx-10.15-x86_64-3.10/scipy/interpolate\n",
      "  \u001b[31m   \u001b[0m creating build/lib.macosx-10.15-x86_64-3.10/scipy/io\n",
      "  \u001b[31m   \u001b[0m copying scipy/io/wavfile.py -> build/lib.macosx-10.15-x86_64-3.10/scipy/io\n",
      "  \u001b[31m   \u001b[0m copying scipy/io/idl.py -> build/lib.macosx-10.15-x86_64-3.10/scipy/io\n",
      "  \u001b[31m   \u001b[0m copying scipy/io/__init__.py -> build/lib.macosx-10.15-x86_64-3.10/scipy/io\n",
      "  \u001b[31m   \u001b[0m copying scipy/io/netcdf.py -> build/lib.macosx-10.15-x86_64-3.10/scipy/io\n",
      "  \u001b[31m   \u001b[0m copying scipy/io/setup.py -> build/lib.macosx-10.15-x86_64-3.10/scipy/io\n",
      "  \u001b[31m   \u001b[0m copying scipy/io/_fortran.py -> build/lib.macosx-10.15-x86_64-3.10/scipy/io\n",
      "  \u001b[31m   \u001b[0m copying scipy/io/mmio.py -> build/lib.macosx-10.15-x86_64-3.10/scipy/io\n",
      "  \u001b[31m   \u001b[0m creating build/lib.macosx-10.15-x86_64-3.10/scipy/io/matlab\n",
      "  \u001b[31m   \u001b[0m copying scipy/io/matlab/miobase.py -> build/lib.macosx-10.15-x86_64-3.10/scipy/io/matlab\n",
      "  \u001b[31m   \u001b[0m copying scipy/io/matlab/mio5_params.py -> build/lib.macosx-10.15-x86_64-3.10/scipy/io/matlab\n",
      "  \u001b[31m   \u001b[0m copying scipy/io/matlab/__init__.py -> build/lib.macosx-10.15-x86_64-3.10/scipy/io/matlab\n",
      "  \u001b[31m   \u001b[0m copying scipy/io/matlab/setup.py -> build/lib.macosx-10.15-x86_64-3.10/scipy/io/matlab\n",
      "  \u001b[31m   \u001b[0m copying scipy/io/matlab/byteordercodes.py -> build/lib.macosx-10.15-x86_64-3.10/scipy/io/matlab\n",
      "  \u001b[31m   \u001b[0m copying scipy/io/matlab/mio.py -> build/lib.macosx-10.15-x86_64-3.10/scipy/io/matlab\n",
      "  \u001b[31m   \u001b[0m copying scipy/io/matlab/mio4.py -> build/lib.macosx-10.15-x86_64-3.10/scipy/io/matlab\n",
      "  \u001b[31m   \u001b[0m copying scipy/io/matlab/mio5.py -> build/lib.macosx-10.15-x86_64-3.10/scipy/io/matlab\n",
      "  \u001b[31m   \u001b[0m creating build/lib.macosx-10.15-x86_64-3.10/scipy/io/arff\n",
      "  \u001b[31m   \u001b[0m copying scipy/io/arff/__init__.py -> build/lib.macosx-10.15-x86_64-3.10/scipy/io/arff\n",
      "  \u001b[31m   \u001b[0m copying scipy/io/arff/setup.py -> build/lib.macosx-10.15-x86_64-3.10/scipy/io/arff\n",
      "  \u001b[31m   \u001b[0m copying scipy/io/arff/arffread.py -> build/lib.macosx-10.15-x86_64-3.10/scipy/io/arff\n",
      "  \u001b[31m   \u001b[0m creating build/lib.macosx-10.15-x86_64-3.10/scipy/io/harwell_boeing\n",
      "  \u001b[31m   \u001b[0m copying scipy/io/harwell_boeing/__init__.py -> build/lib.macosx-10.15-x86_64-3.10/scipy/io/harwell_boeing\n",
      "  \u001b[31m   \u001b[0m copying scipy/io/harwell_boeing/setup.py -> build/lib.macosx-10.15-x86_64-3.10/scipy/io/harwell_boeing\n",
      "  \u001b[31m   \u001b[0m copying scipy/io/harwell_boeing/_fortran_format_parser.py -> build/lib.macosx-10.15-x86_64-3.10/scipy/io/harwell_boeing\n",
      "  \u001b[31m   \u001b[0m copying scipy/io/harwell_boeing/hb.py -> build/lib.macosx-10.15-x86_64-3.10/scipy/io/harwell_boeing\n",
      "  \u001b[31m   \u001b[0m creating build/lib.macosx-10.15-x86_64-3.10/scipy/linalg\n",
      "  \u001b[31m   \u001b[0m copying scipy/linalg/decomp_qr.py -> build/lib.macosx-10.15-x86_64-3.10/scipy/linalg\n",
      "  \u001b[31m   \u001b[0m copying scipy/linalg/_matfuncs_inv_ssq.py -> build/lib.macosx-10.15-x86_64-3.10/scipy/linalg\n",
      "  \u001b[31m   \u001b[0m copying scipy/linalg/misc.py -> build/lib.macosx-10.15-x86_64-3.10/scipy/linalg\n",
      "  \u001b[31m   \u001b[0m copying scipy/linalg/_sketches.py -> build/lib.macosx-10.15-x86_64-3.10/scipy/linalg\n",
      "  \u001b[31m   \u001b[0m copying scipy/linalg/decomp_cholesky.py -> build/lib.macosx-10.15-x86_64-3.10/scipy/linalg\n",
      "  \u001b[31m   \u001b[0m copying scipy/linalg/_testutils.py -> build/lib.macosx-10.15-x86_64-3.10/scipy/linalg\n",
      "  \u001b[31m   \u001b[0m copying scipy/linalg/decomp_lu.py -> build/lib.macosx-10.15-x86_64-3.10/scipy/linalg\n",
      "  \u001b[31m   \u001b[0m copying scipy/linalg/decomp_svd.py -> build/lib.macosx-10.15-x86_64-3.10/scipy/linalg\n",
      "  \u001b[31m   \u001b[0m copying scipy/linalg/_procrustes.py -> build/lib.macosx-10.15-x86_64-3.10/scipy/linalg\n",
      "  \u001b[31m   \u001b[0m copying scipy/linalg/_matfuncs_sqrtm.py -> build/lib.macosx-10.15-x86_64-3.10/scipy/linalg\n",
      "  \u001b[31m   \u001b[0m copying scipy/linalg/matfuncs.py -> build/lib.macosx-10.15-x86_64-3.10/scipy/linalg\n",
      "  \u001b[31m   \u001b[0m copying scipy/linalg/__init__.py -> build/lib.macosx-10.15-x86_64-3.10/scipy/linalg\n",
      "  \u001b[31m   \u001b[0m copying scipy/linalg/_generate_pyx.py -> build/lib.macosx-10.15-x86_64-3.10/scipy/linalg\n",
      "  \u001b[31m   \u001b[0m copying scipy/linalg/_solvers.py -> build/lib.macosx-10.15-x86_64-3.10/scipy/linalg\n",
      "  \u001b[31m   \u001b[0m copying scipy/linalg/_interpolative_backend.py -> build/lib.macosx-10.15-x86_64-3.10/scipy/linalg\n",
      "  \u001b[31m   \u001b[0m copying scipy/linalg/flinalg.py -> build/lib.macosx-10.15-x86_64-3.10/scipy/linalg\n",
      "  \u001b[31m   \u001b[0m copying scipy/linalg/setup.py -> build/lib.macosx-10.15-x86_64-3.10/scipy/linalg\n",
      "  \u001b[31m   \u001b[0m copying scipy/linalg/basic.py -> build/lib.macosx-10.15-x86_64-3.10/scipy/linalg\n",
      "  \u001b[31m   \u001b[0m copying scipy/linalg/_decomp_polar.py -> build/lib.macosx-10.15-x86_64-3.10/scipy/linalg\n",
      "  \u001b[31m   \u001b[0m copying scipy/linalg/decomp.py -> build/lib.macosx-10.15-x86_64-3.10/scipy/linalg\n",
      "  \u001b[31m   \u001b[0m copying scipy/linalg/interpolative.py -> build/lib.macosx-10.15-x86_64-3.10/scipy/linalg\n",
      "  \u001b[31m   \u001b[0m copying scipy/linalg/blas.py -> build/lib.macosx-10.15-x86_64-3.10/scipy/linalg\n",
      "  \u001b[31m   \u001b[0m copying scipy/linalg/_cython_signature_generator.py -> build/lib.macosx-10.15-x86_64-3.10/scipy/linalg\n",
      "  \u001b[31m   \u001b[0m copying scipy/linalg/special_matrices.py -> build/lib.macosx-10.15-x86_64-3.10/scipy/linalg\n",
      "  \u001b[31m   \u001b[0m copying scipy/linalg/_decomp_ldl.py -> build/lib.macosx-10.15-x86_64-3.10/scipy/linalg\n",
      "  \u001b[31m   \u001b[0m copying scipy/linalg/_decomp_cossin.py -> build/lib.macosx-10.15-x86_64-3.10/scipy/linalg\n",
      "  \u001b[31m   \u001b[0m copying scipy/linalg/decomp_schur.py -> build/lib.macosx-10.15-x86_64-3.10/scipy/linalg\n",
      "  \u001b[31m   \u001b[0m copying scipy/linalg/_decomp_qz.py -> build/lib.macosx-10.15-x86_64-3.10/scipy/linalg\n",
      "  \u001b[31m   \u001b[0m copying scipy/linalg/_expm_frechet.py -> build/lib.macosx-10.15-x86_64-3.10/scipy/linalg\n",
      "  \u001b[31m   \u001b[0m copying scipy/linalg/lapack.py -> build/lib.macosx-10.15-x86_64-3.10/scipy/linalg\n",
      "  \u001b[31m   \u001b[0m creating build/lib.macosx-10.15-x86_64-3.10/scipy/misc\n",
      "  \u001b[31m   \u001b[0m copying scipy/misc/__init__.py -> build/lib.macosx-10.15-x86_64-3.10/scipy/misc\n",
      "  \u001b[31m   \u001b[0m copying scipy/misc/setup.py -> build/lib.macosx-10.15-x86_64-3.10/scipy/misc\n",
      "  \u001b[31m   \u001b[0m copying scipy/misc/common.py -> build/lib.macosx-10.15-x86_64-3.10/scipy/misc\n",
      "  \u001b[31m   \u001b[0m copying scipy/misc/doccer.py -> build/lib.macosx-10.15-x86_64-3.10/scipy/misc\n",
      "  \u001b[31m   \u001b[0m creating build/lib.macosx-10.15-x86_64-3.10/scipy/odr\n",
      "  \u001b[31m   \u001b[0m copying scipy/odr/_add_newdocs.py -> build/lib.macosx-10.15-x86_64-3.10/scipy/odr\n",
      "  \u001b[31m   \u001b[0m copying scipy/odr/models.py -> build/lib.macosx-10.15-x86_64-3.10/scipy/odr\n",
      "  \u001b[31m   \u001b[0m copying scipy/odr/odrpack.py -> build/lib.macosx-10.15-x86_64-3.10/scipy/odr\n",
      "  \u001b[31m   \u001b[0m copying scipy/odr/__init__.py -> build/lib.macosx-10.15-x86_64-3.10/scipy/odr\n",
      "  \u001b[31m   \u001b[0m copying scipy/odr/setup.py -> build/lib.macosx-10.15-x86_64-3.10/scipy/odr\n",
      "  \u001b[31m   \u001b[0m creating build/lib.macosx-10.15-x86_64-3.10/scipy/optimize\n",
      "  \u001b[31m   \u001b[0m copying scipy/optimize/tnc.py -> build/lib.macosx-10.15-x86_64-3.10/scipy/optimize\n",
      "  \u001b[31m   \u001b[0m copying scipy/optimize/_lsap.py -> build/lib.macosx-10.15-x86_64-3.10/scipy/optimize\n",
      "  \u001b[31m   \u001b[0m copying scipy/optimize/optimize.py -> build/lib.macosx-10.15-x86_64-3.10/scipy/optimize\n",
      "  \u001b[31m   \u001b[0m copying scipy/optimize/_linprog_ip.py -> build/lib.macosx-10.15-x86_64-3.10/scipy/optimize\n",
      "  \u001b[31m   \u001b[0m copying scipy/optimize/linesearch.py -> build/lib.macosx-10.15-x86_64-3.10/scipy/optimize\n",
      "  \u001b[31m   \u001b[0m copying scipy/optimize/nonlin.py -> build/lib.macosx-10.15-x86_64-3.10/scipy/optimize\n",
      "  \u001b[31m   \u001b[0m copying scipy/optimize/_linprog_rs.py -> build/lib.macosx-10.15-x86_64-3.10/scipy/optimize\n",
      "  \u001b[31m   \u001b[0m copying scipy/optimize/_root.py -> build/lib.macosx-10.15-x86_64-3.10/scipy/optimize\n",
      "  \u001b[31m   \u001b[0m copying scipy/optimize/lbfgsb.py -> build/lib.macosx-10.15-x86_64-3.10/scipy/optimize\n",
      "  \u001b[31m   \u001b[0m copying scipy/optimize/zeros.py -> build/lib.macosx-10.15-x86_64-3.10/scipy/optimize\n",
      "  \u001b[31m   \u001b[0m copying scipy/optimize/_shgo.py -> build/lib.macosx-10.15-x86_64-3.10/scipy/optimize\n",
      "  \u001b[31m   \u001b[0m copying scipy/optimize/_linprog_simplex.py -> build/lib.macosx-10.15-x86_64-3.10/scipy/optimize\n",
      "  \u001b[31m   \u001b[0m copying scipy/optimize/_linprog_doc.py -> build/lib.macosx-10.15-x86_64-3.10/scipy/optimize\n",
      "  \u001b[31m   \u001b[0m copying scipy/optimize/slsqp.py -> build/lib.macosx-10.15-x86_64-3.10/scipy/optimize\n",
      "  \u001b[31m   \u001b[0m copying scipy/optimize/_trustregion_ncg.py -> build/lib.macosx-10.15-x86_64-3.10/scipy/optimize\n",
      "  \u001b[31m   \u001b[0m copying scipy/optimize/_minimize.py -> build/lib.macosx-10.15-x86_64-3.10/scipy/optimize\n",
      "  \u001b[31m   \u001b[0m copying scipy/optimize/minpack.py -> build/lib.macosx-10.15-x86_64-3.10/scipy/optimize\n",
      "  \u001b[31m   \u001b[0m copying scipy/optimize/_basinhopping.py -> build/lib.macosx-10.15-x86_64-3.10/scipy/optimize\n",
      "  \u001b[31m   \u001b[0m copying scipy/optimize/_linprog.py -> build/lib.macosx-10.15-x86_64-3.10/scipy/optimize\n",
      "  \u001b[31m   \u001b[0m copying scipy/optimize/_hessian_update_strategy.py -> build/lib.macosx-10.15-x86_64-3.10/scipy/optimize\n",
      "  \u001b[31m   \u001b[0m copying scipy/optimize/__init__.py -> build/lib.macosx-10.15-x86_64-3.10/scipy/optimize\n",
      "  \u001b[31m   \u001b[0m copying scipy/optimize/cobyla.py -> build/lib.macosx-10.15-x86_64-3.10/scipy/optimize\n",
      "  \u001b[31m   \u001b[0m copying scipy/optimize/_tstutils.py -> build/lib.macosx-10.15-x86_64-3.10/scipy/optimize\n",
      "  \u001b[31m   \u001b[0m copying scipy/optimize/_nnls.py -> build/lib.macosx-10.15-x86_64-3.10/scipy/optimize\n",
      "  \u001b[31m   \u001b[0m copying scipy/optimize/_spectral.py -> build/lib.macosx-10.15-x86_64-3.10/scipy/optimize\n",
      "  \u001b[31m   \u001b[0m copying scipy/optimize/_differentiable_functions.py -> build/lib.macosx-10.15-x86_64-3.10/scipy/optimize\n",
      "  \u001b[31m   \u001b[0m copying scipy/optimize/_trustregion_krylov.py -> build/lib.macosx-10.15-x86_64-3.10/scipy/optimize\n",
      "  \u001b[31m   \u001b[0m copying scipy/optimize/_trustregion.py -> build/lib.macosx-10.15-x86_64-3.10/scipy/optimize\n",
      "  \u001b[31m   \u001b[0m copying scipy/optimize/setup.py -> build/lib.macosx-10.15-x86_64-3.10/scipy/optimize\n",
      "  \u001b[31m   \u001b[0m copying scipy/optimize/_linprog_util.py -> build/lib.macosx-10.15-x86_64-3.10/scipy/optimize\n",
      "  \u001b[31m   \u001b[0m copying scipy/optimize/_linprog_highs.py -> build/lib.macosx-10.15-x86_64-3.10/scipy/optimize\n",
      "  \u001b[31m   \u001b[0m copying scipy/optimize/_dual_annealing.py -> build/lib.macosx-10.15-x86_64-3.10/scipy/optimize\n",
      "  \u001b[31m   \u001b[0m copying scipy/optimize/_root_scalar.py -> build/lib.macosx-10.15-x86_64-3.10/scipy/optimize\n",
      "  \u001b[31m   \u001b[0m copying scipy/optimize/_trustregion_dogleg.py -> build/lib.macosx-10.15-x86_64-3.10/scipy/optimize\n",
      "  \u001b[31m   \u001b[0m copying scipy/optimize/_trustregion_exact.py -> build/lib.macosx-10.15-x86_64-3.10/scipy/optimize\n",
      "  \u001b[31m   \u001b[0m copying scipy/optimize/_constraints.py -> build/lib.macosx-10.15-x86_64-3.10/scipy/optimize\n",
      "  \u001b[31m   \u001b[0m copying scipy/optimize/_differentialevolution.py -> build/lib.macosx-10.15-x86_64-3.10/scipy/optimize\n",
      "  \u001b[31m   \u001b[0m copying scipy/optimize/_remove_redundancy.py -> build/lib.macosx-10.15-x86_64-3.10/scipy/optimize\n",
      "  \u001b[31m   \u001b[0m copying scipy/optimize/_qap.py -> build/lib.macosx-10.15-x86_64-3.10/scipy/optimize\n",
      "  \u001b[31m   \u001b[0m copying scipy/optimize/_numdiff.py -> build/lib.macosx-10.15-x86_64-3.10/scipy/optimize\n",
      "  \u001b[31m   \u001b[0m creating build/lib.macosx-10.15-x86_64-3.10/scipy/optimize/_lsq\n",
      "  \u001b[31m   \u001b[0m copying scipy/optimize/_lsq/least_squares.py -> build/lib.macosx-10.15-x86_64-3.10/scipy/optimize/_lsq\n",
      "  \u001b[31m   \u001b[0m copying scipy/optimize/_lsq/dogbox.py -> build/lib.macosx-10.15-x86_64-3.10/scipy/optimize/_lsq\n",
      "  \u001b[31m   \u001b[0m copying scipy/optimize/_lsq/__init__.py -> build/lib.macosx-10.15-x86_64-3.10/scipy/optimize/_lsq\n",
      "  \u001b[31m   \u001b[0m copying scipy/optimize/_lsq/trf_linear.py -> build/lib.macosx-10.15-x86_64-3.10/scipy/optimize/_lsq\n",
      "  \u001b[31m   \u001b[0m copying scipy/optimize/_lsq/setup.py -> build/lib.macosx-10.15-x86_64-3.10/scipy/optimize/_lsq\n",
      "  \u001b[31m   \u001b[0m copying scipy/optimize/_lsq/common.py -> build/lib.macosx-10.15-x86_64-3.10/scipy/optimize/_lsq\n",
      "  \u001b[31m   \u001b[0m copying scipy/optimize/_lsq/lsq_linear.py -> build/lib.macosx-10.15-x86_64-3.10/scipy/optimize/_lsq\n",
      "  \u001b[31m   \u001b[0m copying scipy/optimize/_lsq/bvls.py -> build/lib.macosx-10.15-x86_64-3.10/scipy/optimize/_lsq\n",
      "  \u001b[31m   \u001b[0m copying scipy/optimize/_lsq/trf.py -> build/lib.macosx-10.15-x86_64-3.10/scipy/optimize/_lsq\n",
      "  \u001b[31m   \u001b[0m creating build/lib.macosx-10.15-x86_64-3.10/scipy/optimize/_trlib\n",
      "  \u001b[31m   \u001b[0m copying scipy/optimize/_trlib/__init__.py -> build/lib.macosx-10.15-x86_64-3.10/scipy/optimize/_trlib\n",
      "  \u001b[31m   \u001b[0m copying scipy/optimize/_trlib/setup.py -> build/lib.macosx-10.15-x86_64-3.10/scipy/optimize/_trlib\n",
      "  \u001b[31m   \u001b[0m creating build/lib.macosx-10.15-x86_64-3.10/scipy/optimize/_trustregion_constr\n",
      "  \u001b[31m   \u001b[0m copying scipy/optimize/_trustregion_constr/equality_constrained_sqp.py -> build/lib.macosx-10.15-x86_64-3.10/scipy/optimize/_trustregion_constr\n",
      "  \u001b[31m   \u001b[0m copying scipy/optimize/_trustregion_constr/__init__.py -> build/lib.macosx-10.15-x86_64-3.10/scipy/optimize/_trustregion_constr\n",
      "  \u001b[31m   \u001b[0m copying scipy/optimize/_trustregion_constr/setup.py -> build/lib.macosx-10.15-x86_64-3.10/scipy/optimize/_trustregion_constr\n",
      "  \u001b[31m   \u001b[0m copying scipy/optimize/_trustregion_constr/tr_interior_point.py -> build/lib.macosx-10.15-x86_64-3.10/scipy/optimize/_trustregion_constr\n",
      "  \u001b[31m   \u001b[0m copying scipy/optimize/_trustregion_constr/qp_subproblem.py -> build/lib.macosx-10.15-x86_64-3.10/scipy/optimize/_trustregion_constr\n",
      "  \u001b[31m   \u001b[0m copying scipy/optimize/_trustregion_constr/minimize_trustregion_constr.py -> build/lib.macosx-10.15-x86_64-3.10/scipy/optimize/_trustregion_constr\n",
      "  \u001b[31m   \u001b[0m copying scipy/optimize/_trustregion_constr/projections.py -> build/lib.macosx-10.15-x86_64-3.10/scipy/optimize/_trustregion_constr\n",
      "  \u001b[31m   \u001b[0m copying scipy/optimize/_trustregion_constr/report.py -> build/lib.macosx-10.15-x86_64-3.10/scipy/optimize/_trustregion_constr\n",
      "  \u001b[31m   \u001b[0m copying scipy/optimize/_trustregion_constr/canonical_constraint.py -> build/lib.macosx-10.15-x86_64-3.10/scipy/optimize/_trustregion_constr\n",
      "  \u001b[31m   \u001b[0m creating build/lib.macosx-10.15-x86_64-3.10/scipy/optimize/cython_optimize\n",
      "  \u001b[31m   \u001b[0m copying scipy/optimize/cython_optimize/__init__.py -> build/lib.macosx-10.15-x86_64-3.10/scipy/optimize/cython_optimize\n",
      "  \u001b[31m   \u001b[0m creating build/lib.macosx-10.15-x86_64-3.10/scipy/optimize/_shgo_lib\n",
      "  \u001b[31m   \u001b[0m copying scipy/optimize/_shgo_lib/__init__.py -> build/lib.macosx-10.15-x86_64-3.10/scipy/optimize/_shgo_lib\n",
      "  \u001b[31m   \u001b[0m copying scipy/optimize/_shgo_lib/sobol_seq.py -> build/lib.macosx-10.15-x86_64-3.10/scipy/optimize/_shgo_lib\n",
      "  \u001b[31m   \u001b[0m copying scipy/optimize/_shgo_lib/triangulation.py -> build/lib.macosx-10.15-x86_64-3.10/scipy/optimize/_shgo_lib\n",
      "  \u001b[31m   \u001b[0m creating build/lib.macosx-10.15-x86_64-3.10/scipy/optimize/_highs\n",
      "  \u001b[31m   \u001b[0m copying scipy/optimize/_highs/__init__.py -> build/lib.macosx-10.15-x86_64-3.10/scipy/optimize/_highs\n",
      "  \u001b[31m   \u001b[0m copying scipy/optimize/_highs/setup.py -> build/lib.macosx-10.15-x86_64-3.10/scipy/optimize/_highs\n",
      "  \u001b[31m   \u001b[0m creating build/lib.macosx-10.15-x86_64-3.10/scipy/signal\n",
      "  \u001b[31m   \u001b[0m copying scipy/signal/waveforms.py -> build/lib.macosx-10.15-x86_64-3.10/scipy/signal\n",
      "  \u001b[31m   \u001b[0m copying scipy/signal/_savitzky_golay.py -> build/lib.macosx-10.15-x86_64-3.10/scipy/signal\n",
      "  \u001b[31m   \u001b[0m copying scipy/signal/signaltools.py -> build/lib.macosx-10.15-x86_64-3.10/scipy/signal\n",
      "  \u001b[31m   \u001b[0m copying scipy/signal/bsplines.py -> build/lib.macosx-10.15-x86_64-3.10/scipy/signal\n",
      "  \u001b[31m   \u001b[0m copying scipy/signal/__init__.py -> build/lib.macosx-10.15-x86_64-3.10/scipy/signal\n",
      "  \u001b[31m   \u001b[0m copying scipy/signal/_arraytools.py -> build/lib.macosx-10.15-x86_64-3.10/scipy/signal\n",
      "  \u001b[31m   \u001b[0m copying scipy/signal/_max_len_seq.py -> build/lib.macosx-10.15-x86_64-3.10/scipy/signal\n",
      "  \u001b[31m   \u001b[0m copying scipy/signal/wavelets.py -> build/lib.macosx-10.15-x86_64-3.10/scipy/signal\n",
      "  \u001b[31m   \u001b[0m copying scipy/signal/lti_conversion.py -> build/lib.macosx-10.15-x86_64-3.10/scipy/signal\n",
      "  \u001b[31m   \u001b[0m copying scipy/signal/setup.py -> build/lib.macosx-10.15-x86_64-3.10/scipy/signal\n",
      "  \u001b[31m   \u001b[0m copying scipy/signal/_peak_finding.py -> build/lib.macosx-10.15-x86_64-3.10/scipy/signal\n",
      "  \u001b[31m   \u001b[0m copying scipy/signal/filter_design.py -> build/lib.macosx-10.15-x86_64-3.10/scipy/signal\n",
      "  \u001b[31m   \u001b[0m copying scipy/signal/spectral.py -> build/lib.macosx-10.15-x86_64-3.10/scipy/signal\n",
      "  \u001b[31m   \u001b[0m copying scipy/signal/_upfirdn.py -> build/lib.macosx-10.15-x86_64-3.10/scipy/signal\n",
      "  \u001b[31m   \u001b[0m copying scipy/signal/ltisys.py -> build/lib.macosx-10.15-x86_64-3.10/scipy/signal\n",
      "  \u001b[31m   \u001b[0m copying scipy/signal/fir_filter_design.py -> build/lib.macosx-10.15-x86_64-3.10/scipy/signal\n",
      "  \u001b[31m   \u001b[0m creating build/lib.macosx-10.15-x86_64-3.10/scipy/signal/windows\n",
      "  \u001b[31m   \u001b[0m copying scipy/signal/windows/__init__.py -> build/lib.macosx-10.15-x86_64-3.10/scipy/signal/windows\n",
      "  \u001b[31m   \u001b[0m copying scipy/signal/windows/setup.py -> build/lib.macosx-10.15-x86_64-3.10/scipy/signal/windows\n",
      "  \u001b[31m   \u001b[0m copying scipy/signal/windows/windows.py -> build/lib.macosx-10.15-x86_64-3.10/scipy/signal/windows\n",
      "  \u001b[31m   \u001b[0m creating build/lib.macosx-10.15-x86_64-3.10/scipy/sparse\n",
      "  \u001b[31m   \u001b[0m copying scipy/sparse/csc.py -> build/lib.macosx-10.15-x86_64-3.10/scipy/sparse\n",
      "  \u001b[31m   \u001b[0m copying scipy/sparse/generate_sparsetools.py -> build/lib.macosx-10.15-x86_64-3.10/scipy/sparse\n",
      "  \u001b[31m   \u001b[0m copying scipy/sparse/sparsetools.py -> build/lib.macosx-10.15-x86_64-3.10/scipy/sparse\n",
      "  \u001b[31m   \u001b[0m copying scipy/sparse/dok.py -> build/lib.macosx-10.15-x86_64-3.10/scipy/sparse\n",
      "  \u001b[31m   \u001b[0m copying scipy/sparse/coo.py -> build/lib.macosx-10.15-x86_64-3.10/scipy/sparse\n",
      "  \u001b[31m   \u001b[0m copying scipy/sparse/compressed.py -> build/lib.macosx-10.15-x86_64-3.10/scipy/sparse\n",
      "  \u001b[31m   \u001b[0m copying scipy/sparse/dia.py -> build/lib.macosx-10.15-x86_64-3.10/scipy/sparse\n",
      "  \u001b[31m   \u001b[0m copying scipy/sparse/_index.py -> build/lib.macosx-10.15-x86_64-3.10/scipy/sparse\n",
      "  \u001b[31m   \u001b[0m copying scipy/sparse/spfuncs.py -> build/lib.macosx-10.15-x86_64-3.10/scipy/sparse\n",
      "  \u001b[31m   \u001b[0m copying scipy/sparse/__init__.py -> build/lib.macosx-10.15-x86_64-3.10/scipy/sparse\n",
      "  \u001b[31m   \u001b[0m copying scipy/sparse/lil.py -> build/lib.macosx-10.15-x86_64-3.10/scipy/sparse\n",
      "  \u001b[31m   \u001b[0m copying scipy/sparse/sputils.py -> build/lib.macosx-10.15-x86_64-3.10/scipy/sparse\n",
      "  \u001b[31m   \u001b[0m copying scipy/sparse/bsr.py -> build/lib.macosx-10.15-x86_64-3.10/scipy/sparse\n",
      "  \u001b[31m   \u001b[0m copying scipy/sparse/setup.py -> build/lib.macosx-10.15-x86_64-3.10/scipy/sparse\n",
      "  \u001b[31m   \u001b[0m copying scipy/sparse/_matrix_io.py -> build/lib.macosx-10.15-x86_64-3.10/scipy/sparse\n",
      "  \u001b[31m   \u001b[0m copying scipy/sparse/csr.py -> build/lib.macosx-10.15-x86_64-3.10/scipy/sparse\n",
      "  \u001b[31m   \u001b[0m copying scipy/sparse/construct.py -> build/lib.macosx-10.15-x86_64-3.10/scipy/sparse\n",
      "  \u001b[31m   \u001b[0m copying scipy/sparse/extract.py -> build/lib.macosx-10.15-x86_64-3.10/scipy/sparse\n",
      "  \u001b[31m   \u001b[0m copying scipy/sparse/base.py -> build/lib.macosx-10.15-x86_64-3.10/scipy/sparse\n",
      "  \u001b[31m   \u001b[0m copying scipy/sparse/data.py -> build/lib.macosx-10.15-x86_64-3.10/scipy/sparse\n",
      "  \u001b[31m   \u001b[0m creating build/lib.macosx-10.15-x86_64-3.10/scipy/sparse/linalg\n",
      "  \u001b[31m   \u001b[0m copying scipy/sparse/linalg/matfuncs.py -> build/lib.macosx-10.15-x86_64-3.10/scipy/sparse/linalg\n",
      "  \u001b[31m   \u001b[0m copying scipy/sparse/linalg/interface.py -> build/lib.macosx-10.15-x86_64-3.10/scipy/sparse/linalg\n",
      "  \u001b[31m   \u001b[0m copying scipy/sparse/linalg/_expm_multiply.py -> build/lib.macosx-10.15-x86_64-3.10/scipy/sparse/linalg\n",
      "  \u001b[31m   \u001b[0m copying scipy/sparse/linalg/__init__.py -> build/lib.macosx-10.15-x86_64-3.10/scipy/sparse/linalg\n",
      "  \u001b[31m   \u001b[0m copying scipy/sparse/linalg/setup.py -> build/lib.macosx-10.15-x86_64-3.10/scipy/sparse/linalg\n",
      "  \u001b[31m   \u001b[0m copying scipy/sparse/linalg/_norm.py -> build/lib.macosx-10.15-x86_64-3.10/scipy/sparse/linalg\n",
      "  \u001b[31m   \u001b[0m copying scipy/sparse/linalg/_onenormest.py -> build/lib.macosx-10.15-x86_64-3.10/scipy/sparse/linalg\n",
      "  \u001b[31m   \u001b[0m creating build/lib.macosx-10.15-x86_64-3.10/scipy/sparse/linalg/isolve\n",
      "  \u001b[31m   \u001b[0m copying scipy/sparse/linalg/isolve/lsqr.py -> build/lib.macosx-10.15-x86_64-3.10/scipy/sparse/linalg/isolve\n",
      "  \u001b[31m   \u001b[0m copying scipy/sparse/linalg/isolve/__init__.py -> build/lib.macosx-10.15-x86_64-3.10/scipy/sparse/linalg/isolve\n",
      "  \u001b[31m   \u001b[0m copying scipy/sparse/linalg/isolve/setup.py -> build/lib.macosx-10.15-x86_64-3.10/scipy/sparse/linalg/isolve\n",
      "  \u001b[31m   \u001b[0m copying scipy/sparse/linalg/isolve/iterative.py -> build/lib.macosx-10.15-x86_64-3.10/scipy/sparse/linalg/isolve\n",
      "  \u001b[31m   \u001b[0m copying scipy/sparse/linalg/isolve/utils.py -> build/lib.macosx-10.15-x86_64-3.10/scipy/sparse/linalg/isolve\n",
      "  \u001b[31m   \u001b[0m copying scipy/sparse/linalg/isolve/_gcrotmk.py -> build/lib.macosx-10.15-x86_64-3.10/scipy/sparse/linalg/isolve\n",
      "  \u001b[31m   \u001b[0m copying scipy/sparse/linalg/isolve/minres.py -> build/lib.macosx-10.15-x86_64-3.10/scipy/sparse/linalg/isolve\n",
      "  \u001b[31m   \u001b[0m copying scipy/sparse/linalg/isolve/lsmr.py -> build/lib.macosx-10.15-x86_64-3.10/scipy/sparse/linalg/isolve\n",
      "  \u001b[31m   \u001b[0m copying scipy/sparse/linalg/isolve/lgmres.py -> build/lib.macosx-10.15-x86_64-3.10/scipy/sparse/linalg/isolve\n",
      "  \u001b[31m   \u001b[0m creating build/lib.macosx-10.15-x86_64-3.10/scipy/sparse/linalg/dsolve\n",
      "  \u001b[31m   \u001b[0m copying scipy/sparse/linalg/dsolve/_add_newdocs.py -> build/lib.macosx-10.15-x86_64-3.10/scipy/sparse/linalg/dsolve\n",
      "  \u001b[31m   \u001b[0m copying scipy/sparse/linalg/dsolve/linsolve.py -> build/lib.macosx-10.15-x86_64-3.10/scipy/sparse/linalg/dsolve\n",
      "  \u001b[31m   \u001b[0m copying scipy/sparse/linalg/dsolve/__init__.py -> build/lib.macosx-10.15-x86_64-3.10/scipy/sparse/linalg/dsolve\n",
      "  \u001b[31m   \u001b[0m copying scipy/sparse/linalg/dsolve/setup.py -> build/lib.macosx-10.15-x86_64-3.10/scipy/sparse/linalg/dsolve\n",
      "  \u001b[31m   \u001b[0m creating build/lib.macosx-10.15-x86_64-3.10/scipy/sparse/linalg/eigen\n",
      "  \u001b[31m   \u001b[0m copying scipy/sparse/linalg/eigen/__init__.py -> build/lib.macosx-10.15-x86_64-3.10/scipy/sparse/linalg/eigen\n",
      "  \u001b[31m   \u001b[0m copying scipy/sparse/linalg/eigen/setup.py -> build/lib.macosx-10.15-x86_64-3.10/scipy/sparse/linalg/eigen\n",
      "  \u001b[31m   \u001b[0m creating build/lib.macosx-10.15-x86_64-3.10/scipy/sparse/linalg/eigen/arpack\n",
      "  \u001b[31m   \u001b[0m copying scipy/sparse/linalg/eigen/arpack/__init__.py -> build/lib.macosx-10.15-x86_64-3.10/scipy/sparse/linalg/eigen/arpack\n",
      "  \u001b[31m   \u001b[0m copying scipy/sparse/linalg/eigen/arpack/setup.py -> build/lib.macosx-10.15-x86_64-3.10/scipy/sparse/linalg/eigen/arpack\n",
      "  \u001b[31m   \u001b[0m copying scipy/sparse/linalg/eigen/arpack/arpack.py -> build/lib.macosx-10.15-x86_64-3.10/scipy/sparse/linalg/eigen/arpack\n",
      "  \u001b[31m   \u001b[0m creating build/lib.macosx-10.15-x86_64-3.10/scipy/sparse/linalg/eigen/lobpcg\n",
      "  \u001b[31m   \u001b[0m copying scipy/sparse/linalg/eigen/lobpcg/lobpcg.py -> build/lib.macosx-10.15-x86_64-3.10/scipy/sparse/linalg/eigen/lobpcg\n",
      "  \u001b[31m   \u001b[0m copying scipy/sparse/linalg/eigen/lobpcg/__init__.py -> build/lib.macosx-10.15-x86_64-3.10/scipy/sparse/linalg/eigen/lobpcg\n",
      "  \u001b[31m   \u001b[0m copying scipy/sparse/linalg/eigen/lobpcg/setup.py -> build/lib.macosx-10.15-x86_64-3.10/scipy/sparse/linalg/eigen/lobpcg\n",
      "  \u001b[31m   \u001b[0m creating build/lib.macosx-10.15-x86_64-3.10/scipy/sparse/csgraph\n",
      "  \u001b[31m   \u001b[0m copying scipy/sparse/csgraph/_laplacian.py -> build/lib.macosx-10.15-x86_64-3.10/scipy/sparse/csgraph\n",
      "  \u001b[31m   \u001b[0m copying scipy/sparse/csgraph/__init__.py -> build/lib.macosx-10.15-x86_64-3.10/scipy/sparse/csgraph\n",
      "  \u001b[31m   \u001b[0m copying scipy/sparse/csgraph/setup.py -> build/lib.macosx-10.15-x86_64-3.10/scipy/sparse/csgraph\n",
      "  \u001b[31m   \u001b[0m copying scipy/sparse/csgraph/_validation.py -> build/lib.macosx-10.15-x86_64-3.10/scipy/sparse/csgraph\n",
      "  \u001b[31m   \u001b[0m creating build/lib.macosx-10.15-x86_64-3.10/scipy/spatial\n",
      "  \u001b[31m   \u001b[0m copying scipy/spatial/_spherical_voronoi.py -> build/lib.macosx-10.15-x86_64-3.10/scipy/spatial\n",
      "  \u001b[31m   \u001b[0m copying scipy/spatial/_procrustes.py -> build/lib.macosx-10.15-x86_64-3.10/scipy/spatial\n",
      "  \u001b[31m   \u001b[0m copying scipy/spatial/__init__.py -> build/lib.macosx-10.15-x86_64-3.10/scipy/spatial\n",
      "  \u001b[31m   \u001b[0m copying scipy/spatial/distance.py -> build/lib.macosx-10.15-x86_64-3.10/scipy/spatial\n",
      "  \u001b[31m   \u001b[0m copying scipy/spatial/kdtree.py -> build/lib.macosx-10.15-x86_64-3.10/scipy/spatial\n",
      "  \u001b[31m   \u001b[0m copying scipy/spatial/setup.py -> build/lib.macosx-10.15-x86_64-3.10/scipy/spatial\n",
      "  \u001b[31m   \u001b[0m copying scipy/spatial/_geometric_slerp.py -> build/lib.macosx-10.15-x86_64-3.10/scipy/spatial\n",
      "  \u001b[31m   \u001b[0m copying scipy/spatial/_plotutils.py -> build/lib.macosx-10.15-x86_64-3.10/scipy/spatial\n",
      "  \u001b[31m   \u001b[0m creating build/lib.macosx-10.15-x86_64-3.10/scipy/spatial/transform\n",
      "  \u001b[31m   \u001b[0m copying scipy/spatial/transform/__init__.py -> build/lib.macosx-10.15-x86_64-3.10/scipy/spatial/transform\n",
      "  \u001b[31m   \u001b[0m copying scipy/spatial/transform/setup.py -> build/lib.macosx-10.15-x86_64-3.10/scipy/spatial/transform\n",
      "  \u001b[31m   \u001b[0m copying scipy/spatial/transform/_rotation_spline.py -> build/lib.macosx-10.15-x86_64-3.10/scipy/spatial/transform\n",
      "  \u001b[31m   \u001b[0m copying scipy/spatial/transform/_rotation_groups.py -> build/lib.macosx-10.15-x86_64-3.10/scipy/spatial/transform\n",
      "  \u001b[31m   \u001b[0m creating build/lib.macosx-10.15-x86_64-3.10/scipy/special\n",
      "  \u001b[31m   \u001b[0m copying scipy/special/spfun_stats.py -> build/lib.macosx-10.15-x86_64-3.10/scipy/special\n",
      "  \u001b[31m   \u001b[0m copying scipy/special/_testutils.py -> build/lib.macosx-10.15-x86_64-3.10/scipy/special\n",
      "  \u001b[31m   \u001b[0m copying scipy/special/sf_error.py -> build/lib.macosx-10.15-x86_64-3.10/scipy/special\n",
      "  \u001b[31m   \u001b[0m copying scipy/special/add_newdocs.py -> build/lib.macosx-10.15-x86_64-3.10/scipy/special\n",
      "  \u001b[31m   \u001b[0m copying scipy/special/_spherical_bessel.py -> build/lib.macosx-10.15-x86_64-3.10/scipy/special\n",
      "  \u001b[31m   \u001b[0m copying scipy/special/_mptestutils.py -> build/lib.macosx-10.15-x86_64-3.10/scipy/special\n",
      "  \u001b[31m   \u001b[0m copying scipy/special/__init__.py -> build/lib.macosx-10.15-x86_64-3.10/scipy/special\n",
      "  \u001b[31m   \u001b[0m copying scipy/special/_ellip_harm.py -> build/lib.macosx-10.15-x86_64-3.10/scipy/special\n",
      "  \u001b[31m   \u001b[0m copying scipy/special/_generate_pyx.py -> build/lib.macosx-10.15-x86_64-3.10/scipy/special\n",
      "  \u001b[31m   \u001b[0m copying scipy/special/setup.py -> build/lib.macosx-10.15-x86_64-3.10/scipy/special\n",
      "  \u001b[31m   \u001b[0m copying scipy/special/_lambertw.py -> build/lib.macosx-10.15-x86_64-3.10/scipy/special\n",
      "  \u001b[31m   \u001b[0m copying scipy/special/basic.py -> build/lib.macosx-10.15-x86_64-3.10/scipy/special\n",
      "  \u001b[31m   \u001b[0m copying scipy/special/orthogonal.py -> build/lib.macosx-10.15-x86_64-3.10/scipy/special\n",
      "  \u001b[31m   \u001b[0m copying scipy/special/_basic.py -> build/lib.macosx-10.15-x86_64-3.10/scipy/special\n",
      "  \u001b[31m   \u001b[0m copying scipy/special/_logsumexp.py -> build/lib.macosx-10.15-x86_64-3.10/scipy/special\n",
      "  \u001b[31m   \u001b[0m creating build/lib.macosx-10.15-x86_64-3.10/scipy/special/_precompute\n",
      "  \u001b[31m   \u001b[0m copying scipy/special/_precompute/expn_asy.py -> build/lib.macosx-10.15-x86_64-3.10/scipy/special/_precompute\n",
      "  \u001b[31m   \u001b[0m copying scipy/special/_precompute/zetac.py -> build/lib.macosx-10.15-x86_64-3.10/scipy/special/_precompute\n",
      "  \u001b[31m   \u001b[0m copying scipy/special/_precompute/struve_convergence.py -> build/lib.macosx-10.15-x86_64-3.10/scipy/special/_precompute\n",
      "  \u001b[31m   \u001b[0m copying scipy/special/_precompute/loggamma.py -> build/lib.macosx-10.15-x86_64-3.10/scipy/special/_precompute\n",
      "  \u001b[31m   \u001b[0m copying scipy/special/_precompute/gammainc_asy.py -> build/lib.macosx-10.15-x86_64-3.10/scipy/special/_precompute\n",
      "  \u001b[31m   \u001b[0m copying scipy/special/_precompute/wrightomega.py -> build/lib.macosx-10.15-x86_64-3.10/scipy/special/_precompute\n",
      "  \u001b[31m   \u001b[0m copying scipy/special/_precompute/gammainc_data.py -> build/lib.macosx-10.15-x86_64-3.10/scipy/special/_precompute\n",
      "  \u001b[31m   \u001b[0m copying scipy/special/_precompute/__init__.py -> build/lib.macosx-10.15-x86_64-3.10/scipy/special/_precompute\n",
      "  \u001b[31m   \u001b[0m copying scipy/special/_precompute/setup.py -> build/lib.macosx-10.15-x86_64-3.10/scipy/special/_precompute\n",
      "  \u001b[31m   \u001b[0m copying scipy/special/_precompute/utils.py -> build/lib.macosx-10.15-x86_64-3.10/scipy/special/_precompute\n",
      "  \u001b[31m   \u001b[0m copying scipy/special/_precompute/lambertw.py -> build/lib.macosx-10.15-x86_64-3.10/scipy/special/_precompute\n",
      "  \u001b[31m   \u001b[0m creating build/lib.macosx-10.15-x86_64-3.10/scipy/stats\n",
      "  \u001b[31m   \u001b[0m copying scipy/stats/_multivariate.py -> build/lib.macosx-10.15-x86_64-3.10/scipy/stats\n",
      "  \u001b[31m   \u001b[0m copying scipy/stats/_constants.py -> build/lib.macosx-10.15-x86_64-3.10/scipy/stats\n",
      "  \u001b[31m   \u001b[0m copying scipy/stats/_binned_statistic.py -> build/lib.macosx-10.15-x86_64-3.10/scipy/stats\n",
      "  \u001b[31m   \u001b[0m copying scipy/stats/_distr_params.py -> build/lib.macosx-10.15-x86_64-3.10/scipy/stats\n",
      "  \u001b[31m   \u001b[0m copying scipy/stats/_tukeylambda_stats.py -> build/lib.macosx-10.15-x86_64-3.10/scipy/stats\n",
      "  \u001b[31m   \u001b[0m copying scipy/stats/_rvs_sampling.py -> build/lib.macosx-10.15-x86_64-3.10/scipy/stats\n",
      "  \u001b[31m   \u001b[0m copying scipy/stats/_stats_mstats_common.py -> build/lib.macosx-10.15-x86_64-3.10/scipy/stats\n",
      "  \u001b[31m   \u001b[0m copying scipy/stats/_ksstats.py -> build/lib.macosx-10.15-x86_64-3.10/scipy/stats\n",
      "  \u001b[31m   \u001b[0m copying scipy/stats/kde.py -> build/lib.macosx-10.15-x86_64-3.10/scipy/stats\n",
      "  \u001b[31m   \u001b[0m copying scipy/stats/__init__.py -> build/lib.macosx-10.15-x86_64-3.10/scipy/stats\n",
      "  \u001b[31m   \u001b[0m copying scipy/stats/mstats_extras.py -> build/lib.macosx-10.15-x86_64-3.10/scipy/stats\n",
      "  \u001b[31m   \u001b[0m copying scipy/stats/_discrete_distns.py -> build/lib.macosx-10.15-x86_64-3.10/scipy/stats\n",
      "  \u001b[31m   \u001b[0m copying scipy/stats/distributions.py -> build/lib.macosx-10.15-x86_64-3.10/scipy/stats\n",
      "  \u001b[31m   \u001b[0m copying scipy/stats/_hypotests.py -> build/lib.macosx-10.15-x86_64-3.10/scipy/stats\n",
      "  \u001b[31m   \u001b[0m copying scipy/stats/setup.py -> build/lib.macosx-10.15-x86_64-3.10/scipy/stats\n",
      "  \u001b[31m   \u001b[0m copying scipy/stats/mstats.py -> build/lib.macosx-10.15-x86_64-3.10/scipy/stats\n",
      "  \u001b[31m   \u001b[0m copying scipy/stats/_distn_infrastructure.py -> build/lib.macosx-10.15-x86_64-3.10/scipy/stats\n",
      "  \u001b[31m   \u001b[0m copying scipy/stats/stats.py -> build/lib.macosx-10.15-x86_64-3.10/scipy/stats\n",
      "  \u001b[31m   \u001b[0m copying scipy/stats/_continuous_distns.py -> build/lib.macosx-10.15-x86_64-3.10/scipy/stats\n",
      "  \u001b[31m   \u001b[0m copying scipy/stats/morestats.py -> build/lib.macosx-10.15-x86_64-3.10/scipy/stats\n",
      "  \u001b[31m   \u001b[0m copying scipy/stats/mstats_basic.py -> build/lib.macosx-10.15-x86_64-3.10/scipy/stats\n",
      "  \u001b[31m   \u001b[0m copying scipy/stats/contingency.py -> build/lib.macosx-10.15-x86_64-3.10/scipy/stats\n",
      "  \u001b[31m   \u001b[0m copying scipy/stats/_wilcoxon_data.py -> build/lib.macosx-10.15-x86_64-3.10/scipy/stats\n",
      "  \u001b[31m   \u001b[0m creating build/lib.macosx-10.15-x86_64-3.10/scipy/ndimage\n",
      "  \u001b[31m   \u001b[0m copying scipy/ndimage/_ni_support.py -> build/lib.macosx-10.15-x86_64-3.10/scipy/ndimage\n",
      "  \u001b[31m   \u001b[0m copying scipy/ndimage/interpolation.py -> build/lib.macosx-10.15-x86_64-3.10/scipy/ndimage\n",
      "  \u001b[31m   \u001b[0m copying scipy/ndimage/_ni_docstrings.py -> build/lib.macosx-10.15-x86_64-3.10/scipy/ndimage\n",
      "  \u001b[31m   \u001b[0m copying scipy/ndimage/__init__.py -> build/lib.macosx-10.15-x86_64-3.10/scipy/ndimage\n",
      "  \u001b[31m   \u001b[0m copying scipy/ndimage/morphology.py -> build/lib.macosx-10.15-x86_64-3.10/scipy/ndimage\n",
      "  \u001b[31m   \u001b[0m copying scipy/ndimage/setup.py -> build/lib.macosx-10.15-x86_64-3.10/scipy/ndimage\n",
      "  \u001b[31m   \u001b[0m copying scipy/ndimage/fourier.py -> build/lib.macosx-10.15-x86_64-3.10/scipy/ndimage\n",
      "  \u001b[31m   \u001b[0m copying scipy/ndimage/filters.py -> build/lib.macosx-10.15-x86_64-3.10/scipy/ndimage\n",
      "  \u001b[31m   \u001b[0m copying scipy/ndimage/measurements.py -> build/lib.macosx-10.15-x86_64-3.10/scipy/ndimage\n",
      "  \u001b[31m   \u001b[0m creating build/lib.macosx-10.15-x86_64-3.10/scipy/_build_utils\n",
      "  \u001b[31m   \u001b[0m copying scipy/_build_utils/system_info.py -> build/lib.macosx-10.15-x86_64-3.10/scipy/_build_utils\n",
      "  \u001b[31m   \u001b[0m copying scipy/_build_utils/__init__.py -> build/lib.macosx-10.15-x86_64-3.10/scipy/_build_utils\n",
      "  \u001b[31m   \u001b[0m copying scipy/_build_utils/setup.py -> build/lib.macosx-10.15-x86_64-3.10/scipy/_build_utils\n",
      "  \u001b[31m   \u001b[0m copying scipy/_build_utils/_fortran.py -> build/lib.macosx-10.15-x86_64-3.10/scipy/_build_utils\n",
      "  \u001b[31m   \u001b[0m copying scipy/_build_utils/compiler_helper.py -> build/lib.macosx-10.15-x86_64-3.10/scipy/_build_utils\n",
      "  \u001b[31m   \u001b[0m creating build/lib.macosx-10.15-x86_64-3.10/scipy/_lib\n",
      "  \u001b[31m   \u001b[0m copying scipy/_lib/uarray.py -> build/lib.macosx-10.15-x86_64-3.10/scipy/_lib\n",
      "  \u001b[31m   \u001b[0m copying scipy/_lib/_testutils.py -> build/lib.macosx-10.15-x86_64-3.10/scipy/_lib\n",
      "  \u001b[31m   \u001b[0m copying scipy/_lib/_pep440.py -> build/lib.macosx-10.15-x86_64-3.10/scipy/_lib\n",
      "  \u001b[31m   \u001b[0m copying scipy/_lib/_disjoint_set.py -> build/lib.macosx-10.15-x86_64-3.10/scipy/_lib\n",
      "  \u001b[31m   \u001b[0m copying scipy/_lib/deprecation.py -> build/lib.macosx-10.15-x86_64-3.10/scipy/_lib\n",
      "  \u001b[31m   \u001b[0m copying scipy/_lib/decorator.py -> build/lib.macosx-10.15-x86_64-3.10/scipy/_lib\n",
      "  \u001b[31m   \u001b[0m copying scipy/_lib/_bunch.py -> build/lib.macosx-10.15-x86_64-3.10/scipy/_lib\n",
      "  \u001b[31m   \u001b[0m copying scipy/_lib/__init__.py -> build/lib.macosx-10.15-x86_64-3.10/scipy/_lib\n",
      "  \u001b[31m   \u001b[0m copying scipy/_lib/_ccallback.py -> build/lib.macosx-10.15-x86_64-3.10/scipy/_lib\n",
      "  \u001b[31m   \u001b[0m copying scipy/_lib/_threadsafety.py -> build/lib.macosx-10.15-x86_64-3.10/scipy/_lib\n",
      "  \u001b[31m   \u001b[0m copying scipy/_lib/setup.py -> build/lib.macosx-10.15-x86_64-3.10/scipy/_lib\n",
      "  \u001b[31m   \u001b[0m copying scipy/_lib/_tmpdirs.py -> build/lib.macosx-10.15-x86_64-3.10/scipy/_lib\n",
      "  \u001b[31m   \u001b[0m copying scipy/_lib/_util.py -> build/lib.macosx-10.15-x86_64-3.10/scipy/_lib\n",
      "  \u001b[31m   \u001b[0m copying scipy/_lib/_gcutils.py -> build/lib.macosx-10.15-x86_64-3.10/scipy/_lib\n",
      "  \u001b[31m   \u001b[0m copying scipy/_lib/doccer.py -> build/lib.macosx-10.15-x86_64-3.10/scipy/_lib\n",
      "  \u001b[31m   \u001b[0m creating build/lib.macosx-10.15-x86_64-3.10/scipy/_lib/_uarray\n",
      "  \u001b[31m   \u001b[0m copying scipy/_lib/_uarray/_backend.py -> build/lib.macosx-10.15-x86_64-3.10/scipy/_lib/_uarray\n",
      "  \u001b[31m   \u001b[0m copying scipy/_lib/_uarray/__init__.py -> build/lib.macosx-10.15-x86_64-3.10/scipy/_lib/_uarray\n",
      "  \u001b[31m   \u001b[0m copying scipy/_lib/_uarray/setup.py -> build/lib.macosx-10.15-x86_64-3.10/scipy/_lib/_uarray\n",
      "  \u001b[31m   \u001b[0m running build_clib\n",
      "  \u001b[31m   \u001b[0m INFO: customize UnixCCompiler\n",
      "  \u001b[31m   \u001b[0m WARN: #### ['clang', '-Wno-unused-result', '-Wsign-compare', '-Wunreachable-code', '-DNDEBUG', '-g', '-fwrapv', '-O3', '-Wall'] #######\n",
      "  \u001b[31m   \u001b[0m INFO: customize UnixCCompiler using build_clib\n",
      "  \u001b[31m   \u001b[0m INFO: CCompilerOpt.cc_test_flags[1086] : testing flags (-march=native)\n",
      "  \u001b[31m   \u001b[0m INFO: C compiler: clang -Wno-unused-result -Wsign-compare -Wunreachable-code -DNDEBUG -g -fwrapv -O3 -Wall -ftrapping-math\n",
      "  \u001b[31m   \u001b[0m \n",
      "  \u001b[31m   \u001b[0m creating /var/folders/5_/9x4p4q3d28z2z3wkqh_p49vc0000gp/T/tmpn6pnw8ay/private\n",
      "  \u001b[31m   \u001b[0m creating /var/folders/5_/9x4p4q3d28z2z3wkqh_p49vc0000gp/T/tmpn6pnw8ay/private/var\n",
      "  \u001b[31m   \u001b[0m creating /var/folders/5_/9x4p4q3d28z2z3wkqh_p49vc0000gp/T/tmpn6pnw8ay/private/var/folders\n",
      "  \u001b[31m   \u001b[0m creating /var/folders/5_/9x4p4q3d28z2z3wkqh_p49vc0000gp/T/tmpn6pnw8ay/private/var/folders/5_\n",
      "  \u001b[31m   \u001b[0m creating /var/folders/5_/9x4p4q3d28z2z3wkqh_p49vc0000gp/T/tmpn6pnw8ay/private/var/folders/5_/9x4p4q3d28z2z3wkqh_p49vc0000gp\n",
      "  \u001b[31m   \u001b[0m creating /var/folders/5_/9x4p4q3d28z2z3wkqh_p49vc0000gp/T/tmpn6pnw8ay/private/var/folders/5_/9x4p4q3d28z2z3wkqh_p49vc0000gp/T\n",
      "  \u001b[31m   \u001b[0m creating /var/folders/5_/9x4p4q3d28z2z3wkqh_p49vc0000gp/T/tmpn6pnw8ay/private/var/folders/5_/9x4p4q3d28z2z3wkqh_p49vc0000gp/T/pip-build-env-vo6z9c6r\n",
      "  \u001b[31m   \u001b[0m creating /var/folders/5_/9x4p4q3d28z2z3wkqh_p49vc0000gp/T/tmpn6pnw8ay/private/var/folders/5_/9x4p4q3d28z2z3wkqh_p49vc0000gp/T/pip-build-env-vo6z9c6r/overlay\n",
      "  \u001b[31m   \u001b[0m creating /var/folders/5_/9x4p4q3d28z2z3wkqh_p49vc0000gp/T/tmpn6pnw8ay/private/var/folders/5_/9x4p4q3d28z2z3wkqh_p49vc0000gp/T/pip-build-env-vo6z9c6r/overlay/lib\n",
      "  \u001b[31m   \u001b[0m creating /var/folders/5_/9x4p4q3d28z2z3wkqh_p49vc0000gp/T/tmpn6pnw8ay/private/var/folders/5_/9x4p4q3d28z2z3wkqh_p49vc0000gp/T/pip-build-env-vo6z9c6r/overlay/lib/python3.10\n",
      "  \u001b[31m   \u001b[0m creating /var/folders/5_/9x4p4q3d28z2z3wkqh_p49vc0000gp/T/tmpn6pnw8ay/private/var/folders/5_/9x4p4q3d28z2z3wkqh_p49vc0000gp/T/pip-build-env-vo6z9c6r/overlay/lib/python3.10/site-packages\n",
      "  \u001b[31m   \u001b[0m creating /var/folders/5_/9x4p4q3d28z2z3wkqh_p49vc0000gp/T/tmpn6pnw8ay/private/var/folders/5_/9x4p4q3d28z2z3wkqh_p49vc0000gp/T/pip-build-env-vo6z9c6r/overlay/lib/python3.10/site-packages/numpy\n",
      "  \u001b[31m   \u001b[0m creating /var/folders/5_/9x4p4q3d28z2z3wkqh_p49vc0000gp/T/tmpn6pnw8ay/private/var/folders/5_/9x4p4q3d28z2z3wkqh_p49vc0000gp/T/pip-build-env-vo6z9c6r/overlay/lib/python3.10/site-packages/numpy/distutils\n",
      "  \u001b[31m   \u001b[0m creating /var/folders/5_/9x4p4q3d28z2z3wkqh_p49vc0000gp/T/tmpn6pnw8ay/private/var/folders/5_/9x4p4q3d28z2z3wkqh_p49vc0000gp/T/pip-build-env-vo6z9c6r/overlay/lib/python3.10/site-packages/numpy/distutils/checks\n",
      "  \u001b[31m   \u001b[0m INFO: compile options: '-c'\n",
      "  \u001b[31m   \u001b[0m extra options: '-march=native'\n",
      "  \u001b[31m   \u001b[0m INFO: CCompilerOpt.cc_test_flags[1086] : testing flags (-O3)\n",
      "  \u001b[31m   \u001b[0m INFO: C compiler: clang -Wno-unused-result -Wsign-compare -Wunreachable-code -DNDEBUG -g -fwrapv -O3 -Wall -ftrapping-math\n",
      "  \u001b[31m   \u001b[0m \n",
      "  \u001b[31m   \u001b[0m INFO: compile options: '-c'\n",
      "  \u001b[31m   \u001b[0m extra options: '-O3'\n",
      "  \u001b[31m   \u001b[0m INFO: CCompilerOpt.cc_test_flags[1086] : testing flags (-Werror=switch)\n",
      "  \u001b[31m   \u001b[0m INFO: C compiler: clang -Wno-unused-result -Wsign-compare -Wunreachable-code -DNDEBUG -g -fwrapv -O3 -Wall -ftrapping-math\n",
      "  \u001b[31m   \u001b[0m \n",
      "  \u001b[31m   \u001b[0m INFO: compile options: '-c'\n",
      "  \u001b[31m   \u001b[0m extra options: '-Werror=switch'\n",
      "  \u001b[31m   \u001b[0m INFO: CCompilerOpt.cc_test_flags[1086] : testing flags (-Werror)\n",
      "  \u001b[31m   \u001b[0m INFO: C compiler: clang -Wno-unused-result -Wsign-compare -Wunreachable-code -DNDEBUG -g -fwrapv -O3 -Wall -ftrapping-math\n",
      "  \u001b[31m   \u001b[0m \n",
      "  \u001b[31m   \u001b[0m INFO: compile options: '-c'\n",
      "  \u001b[31m   \u001b[0m extra options: '-Werror'\n",
      "  \u001b[31m   \u001b[0m INFO: CCompilerOpt.__init__[1795] : check requested baseline\n",
      "  \u001b[31m   \u001b[0m INFO: CCompilerOpt.cc_test_flags[1086] : testing flags (-msse)\n",
      "  \u001b[31m   \u001b[0m INFO: C compiler: clang -Wno-unused-result -Wsign-compare -Wunreachable-code -DNDEBUG -g -fwrapv -O3 -Wall -ftrapping-math\n",
      "  \u001b[31m   \u001b[0m \n",
      "  \u001b[31m   \u001b[0m INFO: compile options: '-c'\n",
      "  \u001b[31m   \u001b[0m extra options: '-msse'\n",
      "  \u001b[31m   \u001b[0m INFO: CCompilerOpt.cc_test_flags[1086] : testing flags (-msse2)\n",
      "  \u001b[31m   \u001b[0m INFO: C compiler: clang -Wno-unused-result -Wsign-compare -Wunreachable-code -DNDEBUG -g -fwrapv -O3 -Wall -ftrapping-math\n",
      "  \u001b[31m   \u001b[0m \n",
      "  \u001b[31m   \u001b[0m INFO: compile options: '-c'\n",
      "  \u001b[31m   \u001b[0m extra options: '-msse2'\n",
      "  \u001b[31m   \u001b[0m INFO: CCompilerOpt.feature_test[1560] : testing feature 'SSE2' with flags (-msse -msse2)\n",
      "  \u001b[31m   \u001b[0m INFO: C compiler: clang -Wno-unused-result -Wsign-compare -Wunreachable-code -DNDEBUG -g -fwrapv -O3 -Wall -ftrapping-math\n",
      "  \u001b[31m   \u001b[0m \n",
      "  \u001b[31m   \u001b[0m INFO: compile options: '-c'\n",
      "  \u001b[31m   \u001b[0m extra options: '-msse -msse2 -Werror=switch -Werror'\n",
      "  \u001b[31m   \u001b[0m INFO: CCompilerOpt.feature_test[1560] : testing feature 'SSE' with flags (-msse -msse2)\n",
      "  \u001b[31m   \u001b[0m INFO: C compiler: clang -Wno-unused-result -Wsign-compare -Wunreachable-code -DNDEBUG -g -fwrapv -O3 -Wall -ftrapping-math\n",
      "  \u001b[31m   \u001b[0m \n",
      "  \u001b[31m   \u001b[0m INFO: compile options: '-c'\n",
      "  \u001b[31m   \u001b[0m extra options: '-msse -msse2 -Werror=switch -Werror'\n",
      "  \u001b[31m   \u001b[0m INFO: CCompilerOpt.cc_test_flags[1086] : testing flags (-msse3)\n",
      "  \u001b[31m   \u001b[0m INFO: C compiler: clang -Wno-unused-result -Wsign-compare -Wunreachable-code -DNDEBUG -g -fwrapv -O3 -Wall -ftrapping-math\n",
      "  \u001b[31m   \u001b[0m \n",
      "  \u001b[31m   \u001b[0m INFO: compile options: '-c'\n",
      "  \u001b[31m   \u001b[0m extra options: '-msse3'\n",
      "  \u001b[31m   \u001b[0m INFO: CCompilerOpt.feature_test[1560] : testing feature 'SSE3' with flags (-msse -msse2 -msse3)\n",
      "  \u001b[31m   \u001b[0m INFO: C compiler: clang -Wno-unused-result -Wsign-compare -Wunreachable-code -DNDEBUG -g -fwrapv -O3 -Wall -ftrapping-math\n",
      "  \u001b[31m   \u001b[0m \n",
      "  \u001b[31m   \u001b[0m INFO: compile options: '-c'\n",
      "  \u001b[31m   \u001b[0m extra options: '-msse -msse2 -msse3 -Werror=switch -Werror'\n",
      "  \u001b[31m   \u001b[0m INFO: CCompilerOpt.__init__[1804] : check requested dispatch-able features\n",
      "  \u001b[31m   \u001b[0m INFO: CCompilerOpt.cc_test_flags[1086] : testing flags (-mssse3)\n",
      "  \u001b[31m   \u001b[0m INFO: C compiler: clang -Wno-unused-result -Wsign-compare -Wunreachable-code -DNDEBUG -g -fwrapv -O3 -Wall -ftrapping-math\n",
      "  \u001b[31m   \u001b[0m \n",
      "  \u001b[31m   \u001b[0m INFO: compile options: '-c'\n",
      "  \u001b[31m   \u001b[0m extra options: '-mssse3'\n",
      "  \u001b[31m   \u001b[0m INFO: CCompilerOpt.feature_test[1560] : testing feature 'SSSE3' with flags (-msse -msse2 -msse3 -mssse3)\n",
      "  \u001b[31m   \u001b[0m INFO: C compiler: clang -Wno-unused-result -Wsign-compare -Wunreachable-code -DNDEBUG -g -fwrapv -O3 -Wall -ftrapping-math\n",
      "  \u001b[31m   \u001b[0m \n",
      "  \u001b[31m   \u001b[0m INFO: compile options: '-c'\n",
      "  \u001b[31m   \u001b[0m extra options: '-msse -msse2 -msse3 -mssse3 -Werror=switch -Werror'\n",
      "  \u001b[31m   \u001b[0m INFO: CCompilerOpt.cc_test_flags[1086] : testing flags (-msse4.1)\n",
      "  \u001b[31m   \u001b[0m INFO: C compiler: clang -Wno-unused-result -Wsign-compare -Wunreachable-code -DNDEBUG -g -fwrapv -O3 -Wall -ftrapping-math\n",
      "  \u001b[31m   \u001b[0m \n",
      "  \u001b[31m   \u001b[0m INFO: compile options: '-c'\n",
      "  \u001b[31m   \u001b[0m extra options: '-msse4.1'\n",
      "  \u001b[31m   \u001b[0m INFO: CCompilerOpt.feature_test[1560] : testing feature 'SSE41' with flags (-msse -msse2 -msse3 -mssse3 -msse4.1)\n",
      "  \u001b[31m   \u001b[0m INFO: C compiler: clang -Wno-unused-result -Wsign-compare -Wunreachable-code -DNDEBUG -g -fwrapv -O3 -Wall -ftrapping-math\n",
      "  \u001b[31m   \u001b[0m \n",
      "  \u001b[31m   \u001b[0m INFO: compile options: '-c'\n",
      "  \u001b[31m   \u001b[0m extra options: '-msse -msse2 -msse3 -mssse3 -msse4.1 -Werror=switch -Werror'\n",
      "  \u001b[31m   \u001b[0m INFO: CCompilerOpt.cc_test_flags[1086] : testing flags (-mpopcnt)\n",
      "  \u001b[31m   \u001b[0m INFO: C compiler: clang -Wno-unused-result -Wsign-compare -Wunreachable-code -DNDEBUG -g -fwrapv -O3 -Wall -ftrapping-math\n",
      "  \u001b[31m   \u001b[0m \n",
      "  \u001b[31m   \u001b[0m INFO: compile options: '-c'\n",
      "  \u001b[31m   \u001b[0m extra options: '-mpopcnt'\n",
      "  \u001b[31m   \u001b[0m INFO: CCompilerOpt.feature_test[1560] : testing feature 'POPCNT' with flags (-msse -msse2 -msse3 -mssse3 -msse4.1 -mpopcnt)\n",
      "  \u001b[31m   \u001b[0m INFO: C compiler: clang -Wno-unused-result -Wsign-compare -Wunreachable-code -DNDEBUG -g -fwrapv -O3 -Wall -ftrapping-math\n",
      "  \u001b[31m   \u001b[0m \n",
      "  \u001b[31m   \u001b[0m INFO: compile options: '-c'\n",
      "  \u001b[31m   \u001b[0m extra options: '-msse -msse2 -msse3 -mssse3 -msse4.1 -mpopcnt -Werror=switch -Werror'\n",
      "  \u001b[31m   \u001b[0m INFO: CCompilerOpt.cc_test_flags[1086] : testing flags (-msse4.2)\n",
      "  \u001b[31m   \u001b[0m INFO: C compiler: clang -Wno-unused-result -Wsign-compare -Wunreachable-code -DNDEBUG -g -fwrapv -O3 -Wall -ftrapping-math\n",
      "  \u001b[31m   \u001b[0m \n",
      "  \u001b[31m   \u001b[0m INFO: compile options: '-c'\n",
      "  \u001b[31m   \u001b[0m extra options: '-msse4.2'\n",
      "  \u001b[31m   \u001b[0m INFO: CCompilerOpt.feature_test[1560] : testing feature 'SSE42' with flags (-msse -msse2 -msse3 -mssse3 -msse4.1 -mpopcnt -msse4.2)\n",
      "  \u001b[31m   \u001b[0m INFO: C compiler: clang -Wno-unused-result -Wsign-compare -Wunreachable-code -DNDEBUG -g -fwrapv -O3 -Wall -ftrapping-math\n",
      "  \u001b[31m   \u001b[0m \n",
      "  \u001b[31m   \u001b[0m INFO: compile options: '-c'\n",
      "  \u001b[31m   \u001b[0m extra options: '-msse -msse2 -msse3 -mssse3 -msse4.1 -mpopcnt -msse4.2 -Werror=switch -Werror'\n",
      "  \u001b[31m   \u001b[0m INFO: CCompilerOpt.cc_test_flags[1086] : testing flags (-mavx)\n",
      "  \u001b[31m   \u001b[0m INFO: C compiler: clang -Wno-unused-result -Wsign-compare -Wunreachable-code -DNDEBUG -g -fwrapv -O3 -Wall -ftrapping-math\n",
      "  \u001b[31m   \u001b[0m \n",
      "  \u001b[31m   \u001b[0m INFO: compile options: '-c'\n",
      "  \u001b[31m   \u001b[0m extra options: '-mavx'\n",
      "  \u001b[31m   \u001b[0m INFO: CCompilerOpt.cc_test_flags[1086] : testing flags (-mf16c)\n",
      "  \u001b[31m   \u001b[0m INFO: C compiler: clang -Wno-unused-result -Wsign-compare -Wunreachable-code -DNDEBUG -g -fwrapv -O3 -Wall -ftrapping-math\n",
      "  \u001b[31m   \u001b[0m \n",
      "  \u001b[31m   \u001b[0m INFO: compile options: '-c'\n",
      "  \u001b[31m   \u001b[0m extra options: '-mf16c'\n",
      "  \u001b[31m   \u001b[0m INFO: CCompilerOpt.cc_test_flags[1086] : testing flags (-mfma)\n",
      "  \u001b[31m   \u001b[0m INFO: C compiler: clang -Wno-unused-result -Wsign-compare -Wunreachable-code -DNDEBUG -g -fwrapv -O3 -Wall -ftrapping-math\n",
      "  \u001b[31m   \u001b[0m \n",
      "  \u001b[31m   \u001b[0m INFO: compile options: '-c'\n",
      "  \u001b[31m   \u001b[0m extra options: '-mfma'\n",
      "  \u001b[31m   \u001b[0m INFO: CCompilerOpt.cc_test_flags[1086] : testing flags (-mavx2)\n",
      "  \u001b[31m   \u001b[0m INFO: C compiler: clang -Wno-unused-result -Wsign-compare -Wunreachable-code -DNDEBUG -g -fwrapv -O3 -Wall -ftrapping-math\n",
      "  \u001b[31m   \u001b[0m \n",
      "  \u001b[31m   \u001b[0m INFO: compile options: '-c'\n",
      "  \u001b[31m   \u001b[0m extra options: '-mavx2'\n",
      "  \u001b[31m   \u001b[0m INFO: CCompilerOpt.cc_test_flags[1086] : testing flags (-mavx512f -mno-mmx)\n",
      "  \u001b[31m   \u001b[0m INFO: C compiler: clang -Wno-unused-result -Wsign-compare -Wunreachable-code -DNDEBUG -g -fwrapv -O3 -Wall -ftrapping-math\n",
      "  \u001b[31m   \u001b[0m \n",
      "  \u001b[31m   \u001b[0m INFO: compile options: '-c'\n",
      "  \u001b[31m   \u001b[0m extra options: '-mavx512f -mno-mmx'\n",
      "  \u001b[31m   \u001b[0m INFO: CCompilerOpt.feature_test[1560] : testing feature 'AVX512F' with flags (-msse -msse2 -msse3 -mssse3 -msse4.1 -mpopcnt -msse4.2 -mavx -mf16c -mfma -mavx2 -mavx512f -mno-mmx)\n",
      "  \u001b[31m   \u001b[0m INFO: C compiler: clang -Wno-unused-result -Wsign-compare -Wunreachable-code -DNDEBUG -g -fwrapv -O3 -Wall -ftrapping-math\n",
      "  \u001b[31m   \u001b[0m \n",
      "  \u001b[31m   \u001b[0m INFO: compile options: '-c'\n",
      "  \u001b[31m   \u001b[0m extra options: '-msse -msse2 -msse3 -mssse3 -msse4.1 -mpopcnt -msse4.2 -mavx -mf16c -mfma -mavx2 -mavx512f -mno-mmx -Werror=switch -Werror'\n",
      "  \u001b[31m   \u001b[0m INFO: CCompilerOpt.feature_test[1560] : testing feature 'FMA3' with flags (-msse -msse2 -msse3 -mssse3 -msse4.1 -mpopcnt -msse4.2 -mavx -mf16c -mfma)\n",
      "  \u001b[31m   \u001b[0m INFO: C compiler: clang -Wno-unused-result -Wsign-compare -Wunreachable-code -DNDEBUG -g -fwrapv -O3 -Wall -ftrapping-math\n",
      "  \u001b[31m   \u001b[0m \n",
      "  \u001b[31m   \u001b[0m INFO: compile options: '-c'\n",
      "  \u001b[31m   \u001b[0m extra options: '-msse -msse2 -msse3 -mssse3 -msse4.1 -mpopcnt -msse4.2 -mavx -mf16c -mfma -Werror=switch -Werror'\n",
      "  \u001b[31m   \u001b[0m INFO: CCompilerOpt.cc_test_flags[1086] : testing flags (-mavx512cd)\n",
      "  \u001b[31m   \u001b[0m INFO: C compiler: clang -Wno-unused-result -Wsign-compare -Wunreachable-code -DNDEBUG -g -fwrapv -O3 -Wall -ftrapping-math\n",
      "  \u001b[31m   \u001b[0m \n",
      "  \u001b[31m   \u001b[0m INFO: compile options: '-c'\n",
      "  \u001b[31m   \u001b[0m extra options: '-mavx512cd'\n",
      "  \u001b[31m   \u001b[0m INFO: CCompilerOpt.feature_test[1560] : testing feature 'AVX512CD' with flags (-msse -msse2 -msse3 -mssse3 -msse4.1 -mpopcnt -msse4.2 -mavx -mf16c -mfma -mavx2 -mavx512f -mno-mmx -mavx512cd)\n",
      "  \u001b[31m   \u001b[0m INFO: C compiler: clang -Wno-unused-result -Wsign-compare -Wunreachable-code -DNDEBUG -g -fwrapv -O3 -Wall -ftrapping-math\n",
      "  \u001b[31m   \u001b[0m \n",
      "  \u001b[31m   \u001b[0m INFO: compile options: '-c'\n",
      "  \u001b[31m   \u001b[0m extra options: '-msse -msse2 -msse3 -mssse3 -msse4.1 -mpopcnt -msse4.2 -mavx -mf16c -mfma -mavx2 -mavx512f -mno-mmx -mavx512cd -Werror=switch -Werror'\n",
      "  \u001b[31m   \u001b[0m INFO: CCompilerOpt.feature_test[1560] : testing feature 'AVX' with flags (-msse -msse2 -msse3 -mssse3 -msse4.1 -mpopcnt -msse4.2 -mavx)\n",
      "  \u001b[31m   \u001b[0m INFO: C compiler: clang -Wno-unused-result -Wsign-compare -Wunreachable-code -DNDEBUG -g -fwrapv -O3 -Wall -ftrapping-math\n",
      "  \u001b[31m   \u001b[0m \n",
      "  \u001b[31m   \u001b[0m INFO: compile options: '-c'\n",
      "  \u001b[31m   \u001b[0m extra options: '-msse -msse2 -msse3 -mssse3 -msse4.1 -mpopcnt -msse4.2 -mavx -Werror=switch -Werror'\n",
      "  \u001b[31m   \u001b[0m INFO: CCompilerOpt.cc_test_flags[1086] : testing flags (-mavx512vl -mavx512bw -mavx512dq)\n",
      "  \u001b[31m   \u001b[0m INFO: C compiler: clang -Wno-unused-result -Wsign-compare -Wunreachable-code -DNDEBUG -g -fwrapv -O3 -Wall -ftrapping-math\n",
      "  \u001b[31m   \u001b[0m \n",
      "  \u001b[31m   \u001b[0m INFO: compile options: '-c'\n",
      "  \u001b[31m   \u001b[0m extra options: '-mavx512vl -mavx512bw -mavx512dq'\n",
      "  \u001b[31m   \u001b[0m INFO: CCompilerOpt.feature_test[1560] : testing feature 'AVX512_SKX' with flags (-msse -msse2 -msse3 -mssse3 -msse4.1 -mpopcnt -msse4.2 -mavx -mf16c -mfma -mavx2 -mavx512f -mno-mmx -mavx512cd -mavx512vl -mavx512bw -mavx512dq)\n",
      "  \u001b[31m   \u001b[0m INFO: C compiler: clang -Wno-unused-result -Wsign-compare -Wunreachable-code -DNDEBUG -g -fwrapv -O3 -Wall -ftrapping-math\n",
      "  \u001b[31m   \u001b[0m \n",
      "  \u001b[31m   \u001b[0m INFO: compile options: '-c'\n",
      "  \u001b[31m   \u001b[0m extra options: '-msse -msse2 -msse3 -mssse3 -msse4.1 -mpopcnt -msse4.2 -mavx -mf16c -mfma -mavx2 -mavx512f -mno-mmx -mavx512cd -mavx512vl -mavx512bw -mavx512dq -Werror=switch -Werror'\n",
      "  \u001b[31m   \u001b[0m INFO: CCompilerOpt.feature_test[1560] : testing feature 'AVX2' with flags (-msse -msse2 -msse3 -mssse3 -msse4.1 -mpopcnt -msse4.2 -mavx -mf16c -mavx2)\n",
      "  \u001b[31m   \u001b[0m INFO: C compiler: clang -Wno-unused-result -Wsign-compare -Wunreachable-code -DNDEBUG -g -fwrapv -O3 -Wall -ftrapping-math\n",
      "  \u001b[31m   \u001b[0m \n",
      "  \u001b[31m   \u001b[0m INFO: compile options: '-c'\n",
      "  \u001b[31m   \u001b[0m extra options: '-msse -msse2 -msse3 -mssse3 -msse4.1 -mpopcnt -msse4.2 -mavx -mf16c -mavx2 -Werror=switch -Werror'\n",
      "  \u001b[31m   \u001b[0m INFO: CCompilerOpt.feature_test[1560] : testing feature 'F16C' with flags (-msse -msse2 -msse3 -mssse3 -msse4.1 -mpopcnt -msse4.2 -mavx -mf16c)\n",
      "  \u001b[31m   \u001b[0m INFO: C compiler: clang -Wno-unused-result -Wsign-compare -Wunreachable-code -DNDEBUG -g -fwrapv -O3 -Wall -ftrapping-math\n",
      "  \u001b[31m   \u001b[0m \n",
      "  \u001b[31m   \u001b[0m INFO: compile options: '-c'\n",
      "  \u001b[31m   \u001b[0m extra options: '-msse -msse2 -msse3 -mssse3 -msse4.1 -mpopcnt -msse4.2 -mavx -mf16c -Werror=switch -Werror'\n",
      "  \u001b[31m   \u001b[0m INFO: CCompilerOpt.cc_test_flags[1086] : testing flags (-mavx512ifma -mavx512vbmi)\n",
      "  \u001b[31m   \u001b[0m INFO: C compiler: clang -Wno-unused-result -Wsign-compare -Wunreachable-code -DNDEBUG -g -fwrapv -O3 -Wall -ftrapping-math\n",
      "  \u001b[31m   \u001b[0m \n",
      "  \u001b[31m   \u001b[0m INFO: compile options: '-c'\n",
      "  \u001b[31m   \u001b[0m extra options: '-mavx512ifma -mavx512vbmi'\n",
      "  \u001b[31m   \u001b[0m INFO: CCompilerOpt.feature_test[1560] : testing feature 'AVX512_CNL' with flags (-msse -msse2 -msse3 -mssse3 -msse4.1 -mpopcnt -msse4.2 -mavx -mf16c -mfma -mavx2 -mavx512f -mno-mmx -mavx512cd -mavx512vl -mavx512bw -mavx512dq -mavx512ifma -mavx512vbmi)\n",
      "  \u001b[31m   \u001b[0m INFO: C compiler: clang -Wno-unused-result -Wsign-compare -Wunreachable-code -DNDEBUG -g -fwrapv -O3 -Wall -ftrapping-math\n",
      "  \u001b[31m   \u001b[0m \n",
      "  \u001b[31m   \u001b[0m INFO: compile options: '-c'\n",
      "  \u001b[31m   \u001b[0m extra options: '-msse -msse2 -msse3 -mssse3 -msse4.1 -mpopcnt -msse4.2 -mavx -mf16c -mfma -mavx2 -mavx512f -mno-mmx -mavx512cd -mavx512vl -mavx512bw -mavx512dq -mavx512ifma -mavx512vbmi -Werror=switch -Werror'\n",
      "  \u001b[31m   \u001b[0m INFO: CCompilerOpt.cc_test_flags[1086] : testing flags (-mavx512er -mavx512pf)\n",
      "  \u001b[31m   \u001b[0m INFO: C compiler: clang -Wno-unused-result -Wsign-compare -Wunreachable-code -DNDEBUG -g -fwrapv -O3 -Wall -ftrapping-math\n",
      "  \u001b[31m   \u001b[0m \n",
      "  \u001b[31m   \u001b[0m INFO: compile options: '-c'\n",
      "  \u001b[31m   \u001b[0m extra options: '-mavx512er -mavx512pf'\n",
      "  \u001b[31m   \u001b[0m INFO: CCompilerOpt.feature_test[1560] : testing feature 'AVX512_KNL' with flags (-msse -msse2 -msse3 -mssse3 -msse4.1 -mpopcnt -msse4.2 -mavx -mf16c -mfma -mavx2 -mavx512f -mno-mmx -mavx512cd -mavx512er -mavx512pf)\n",
      "  \u001b[31m   \u001b[0m INFO: C compiler: clang -Wno-unused-result -Wsign-compare -Wunreachable-code -DNDEBUG -g -fwrapv -O3 -Wall -ftrapping-math\n",
      "  \u001b[31m   \u001b[0m \n",
      "  \u001b[31m   \u001b[0m INFO: compile options: '-c'\n",
      "  \u001b[31m   \u001b[0m extra options: '-msse -msse2 -msse3 -mssse3 -msse4.1 -mpopcnt -msse4.2 -mavx -mf16c -mfma -mavx2 -mavx512f -mno-mmx -mavx512cd -mavx512er -mavx512pf -Werror=switch -Werror'\n",
      "  \u001b[31m   \u001b[0m INFO: CCompilerOpt.cc_test_flags[1086] : testing flags (-mavx512vnni)\n",
      "  \u001b[31m   \u001b[0m INFO: C compiler: clang -Wno-unused-result -Wsign-compare -Wunreachable-code -DNDEBUG -g -fwrapv -O3 -Wall -ftrapping-math\n",
      "  \u001b[31m   \u001b[0m \n",
      "  \u001b[31m   \u001b[0m INFO: compile options: '-c'\n",
      "  \u001b[31m   \u001b[0m extra options: '-mavx512vnni'\n",
      "  \u001b[31m   \u001b[0m INFO: CCompilerOpt.cc_test_flags[1086] : testing flags (-mavx512vbmi2 -mavx512bitalg -mavx512vpopcntdq)\n",
      "  \u001b[31m   \u001b[0m INFO: C compiler: clang -Wno-unused-result -Wsign-compare -Wunreachable-code -DNDEBUG -g -fwrapv -O3 -Wall -ftrapping-math\n",
      "  \u001b[31m   \u001b[0m \n",
      "  \u001b[31m   \u001b[0m INFO: compile options: '-c'\n",
      "  \u001b[31m   \u001b[0m extra options: '-mavx512vbmi2 -mavx512bitalg -mavx512vpopcntdq'\n",
      "  \u001b[31m   \u001b[0m INFO: CCompilerOpt.feature_test[1560] : testing feature 'AVX512_ICL' with flags (-msse -msse2 -msse3 -mssse3 -msse4.1 -mpopcnt -msse4.2 -mavx -mf16c -mfma -mavx2 -mavx512f -mno-mmx -mavx512cd -mavx512vl -mavx512bw -mavx512dq -mavx512vnni -mavx512ifma -mavx512vbmi -mavx512vbmi2 -mavx512bitalg -mavx512vpopcntdq)\n",
      "  \u001b[31m   \u001b[0m INFO: C compiler: clang -Wno-unused-result -Wsign-compare -Wunreachable-code -DNDEBUG -g -fwrapv -O3 -Wall -ftrapping-math\n",
      "  \u001b[31m   \u001b[0m \n",
      "  \u001b[31m   \u001b[0m INFO: compile options: '-c'\n",
      "  \u001b[31m   \u001b[0m extra options: '-msse -msse2 -msse3 -mssse3 -msse4.1 -mpopcnt -msse4.2 -mavx -mf16c -mfma -mavx2 -mavx512f -mno-mmx -mavx512cd -mavx512vl -mavx512bw -mavx512dq -mavx512vnni -mavx512ifma -mavx512vbmi -mavx512vbmi2 -mavx512bitalg -mavx512vpopcntdq -Werror=switch -Werror'\n",
      "  \u001b[31m   \u001b[0m INFO: CCompilerOpt.feature_test[1560] : testing feature 'AVX512_CLX' with flags (-msse -msse2 -msse3 -mssse3 -msse4.1 -mpopcnt -msse4.2 -mavx -mf16c -mfma -mavx2 -mavx512f -mno-mmx -mavx512cd -mavx512vl -mavx512bw -mavx512dq -mavx512vnni)\n",
      "  \u001b[31m   \u001b[0m INFO: C compiler: clang -Wno-unused-result -Wsign-compare -Wunreachable-code -DNDEBUG -g -fwrapv -O3 -Wall -ftrapping-math\n",
      "  \u001b[31m   \u001b[0m \n",
      "  \u001b[31m   \u001b[0m INFO: compile options: '-c'\n",
      "  \u001b[31m   \u001b[0m extra options: '-msse -msse2 -msse3 -mssse3 -msse4.1 -mpopcnt -msse4.2 -mavx -mf16c -mfma -mavx2 -mavx512f -mno-mmx -mavx512cd -mavx512vl -mavx512bw -mavx512dq -mavx512vnni -Werror=switch -Werror'\n",
      "  \u001b[31m   \u001b[0m INFO: CCompilerOpt.cc_test_flags[1086] : testing flags (-mavx512fp16)\n",
      "  \u001b[31m   \u001b[0m INFO: C compiler: clang -Wno-unused-result -Wsign-compare -Wunreachable-code -DNDEBUG -g -fwrapv -O3 -Wall -ftrapping-math\n",
      "  \u001b[31m   \u001b[0m \n",
      "  \u001b[31m   \u001b[0m INFO: compile options: '-c'\n",
      "  \u001b[31m   \u001b[0m extra options: '-mavx512fp16'\n",
      "  \u001b[31m   \u001b[0m WARN: CCompilerOpt.dist_test[637] : CCompilerOpt._dist_test_spawn[771] : Command (clang -Wno-unused-result -Wsign-compare -Wunreachable-code -DNDEBUG -g -fwrapv -O3 -Wall -ftrapping-math -c /private/var/folders/5_/9x4p4q3d28z2z3wkqh_p49vc0000gp/T/pip-build-env-vo6z9c6r/overlay/lib/python3.10/site-packages/numpy/distutils/checks/test_flags.c -o /var/folders/5_/9x4p4q3d28z2z3wkqh_p49vc0000gp/T/tmpn6pnw8ay/private/var/folders/5_/9x4p4q3d28z2z3wkqh_p49vc0000gp/T/pip-build-env-vo6z9c6r/overlay/lib/python3.10/site-packages/numpy/distutils/checks/test_flags.o -MMD -MF /var/folders/5_/9x4p4q3d28z2z3wkqh_p49vc0000gp/T/tmpn6pnw8ay/private/var/folders/5_/9x4p4q3d28z2z3wkqh_p49vc0000gp/T/pip-build-env-vo6z9c6r/overlay/lib/python3.10/site-packages/numpy/distutils/checks/test_flags.o.d -mavx512fp16) failed with exit status 1 output ->\n",
      "  \u001b[31m   \u001b[0m clang: error: unknown argument: '-mavx512fp16'\n",
      "  \u001b[31m   \u001b[0m \n",
      "  \u001b[31m   \u001b[0m WARN: CCompilerOpt.cc_test_flags[1090] : testing failed\n",
      "  \u001b[31m   \u001b[0m INFO: CCompilerOpt.feature_test[1560] : testing feature 'AVX512_SPR' with flags (-msse -msse2 -msse3 -mssse3 -msse4.1 -mpopcnt -msse4.2 -mavx -mf16c -mfma -mavx2 -mavx512f -mno-mmx -mavx512cd -mavx512vl -mavx512bw -mavx512dq -mavx512vnni -mavx512ifma -mavx512vbmi -mavx512vbmi2 -mavx512bitalg -mavx512vpopcntdq)\n",
      "  \u001b[31m   \u001b[0m INFO: C compiler: clang -Wno-unused-result -Wsign-compare -Wunreachable-code -DNDEBUG -g -fwrapv -O3 -Wall -ftrapping-math\n",
      "  \u001b[31m   \u001b[0m \n",
      "  \u001b[31m   \u001b[0m INFO: compile options: '-c'\n",
      "  \u001b[31m   \u001b[0m extra options: '-msse -msse2 -msse3 -mssse3 -msse4.1 -mpopcnt -msse4.2 -mavx -mf16c -mfma -mavx2 -mavx512f -mno-mmx -mavx512cd -mavx512vl -mavx512bw -mavx512dq -mavx512vnni -mavx512ifma -mavx512vbmi -mavx512vbmi2 -mavx512bitalg -mavx512vpopcntdq -Werror=switch -Werror'\n",
      "  \u001b[31m   \u001b[0m WARN: CCompilerOpt.dist_test[637] : CCompilerOpt._dist_test_spawn[771] : Command (clang -Wno-unused-result -Wsign-compare -Wunreachable-code -DNDEBUG -g -fwrapv -O3 -Wall -ftrapping-math -c /private/var/folders/5_/9x4p4q3d28z2z3wkqh_p49vc0000gp/T/pip-build-env-vo6z9c6r/overlay/lib/python3.10/site-packages/numpy/distutils/checks/cpu_avx512_spr.c -o /var/folders/5_/9x4p4q3d28z2z3wkqh_p49vc0000gp/T/tmpn6pnw8ay/private/var/folders/5_/9x4p4q3d28z2z3wkqh_p49vc0000gp/T/pip-build-env-vo6z9c6r/overlay/lib/python3.10/site-packages/numpy/distutils/checks/cpu_avx512_spr.o -MMD -MF /var/folders/5_/9x4p4q3d28z2z3wkqh_p49vc0000gp/T/tmpn6pnw8ay/private/var/folders/5_/9x4p4q3d28z2z3wkqh_p49vc0000gp/T/pip-build-env-vo6z9c6r/overlay/lib/python3.10/site-packages/numpy/distutils/checks/cpu_avx512_spr.o.d -msse -msse2 -msse3 -mssse3 -msse4.1 -mpopcnt -msse4.2 -mavx -mf16c -mfma -mavx2 -mavx512f -mno-mmx -mavx512cd -mavx512vl -mavx512bw -mavx512dq -mavx512vnni -mavx512ifma -mavx512vbmi -mavx512vbmi2 -mavx512bitalg -mavx512vpopcntdq -Werror=switch -Werror) failed with exit status 1 output ->\n",
      "  \u001b[31m   \u001b[0m /private/var/folders/5_/9x4p4q3d28z2z3wkqh_p49vc0000gp/T/pip-build-env-vo6z9c6r/overlay/lib/python3.10/site-packages/numpy/distutils/checks/cpu_avx512_spr.c:20:2: error:\n",
      "  \u001b[31m   \u001b[0m #error\n",
      "  \u001b[31m   \u001b[0m  ^\n",
      "  \u001b[31m   \u001b[0m /private/var/folders/5_/9x4p4q3d28z2z3wkqh_p49vc0000gp/T/pip-build-env-vo6z9c6r/overlay/lib/python3.10/site-packages/numpy/distutils/checks/cpu_avx512_spr.c:22:12: error: expected ';' after expression\n",
      "  \u001b[31m   \u001b[0m     __m512h a = _mm512_loadu_ph((void*)argv[argc-1]);\n",
      "  \u001b[31m   \u001b[0m            ^\n",
      "  \u001b[31m   \u001b[0m            ;\n",
      "  \u001b[31m   \u001b[0m /private/var/folders/5_/9x4p4q3d28z2z3wkqh_p49vc0000gp/T/pip-build-env-vo6z9c6r/overlay/lib/python3.10/site-packages/numpy/distutils/checks/cpu_avx512_spr.c:22:5: error: use of undeclared identifier '__m512h'\n",
      "  \u001b[31m   \u001b[0m     __m512h a = _mm512_loadu_ph((void*)argv[argc-1]);\n",
      "  \u001b[31m   \u001b[0m     ^\n",
      "  \u001b[31m   \u001b[0m /private/var/folders/5_/9x4p4q3d28z2z3wkqh_p49vc0000gp/T/pip-build-env-vo6z9c6r/overlay/lib/python3.10/site-packages/numpy/distutils/checks/cpu_avx512_spr.c:22:13: error: use of undeclared identifier 'a'\n",
      "  \u001b[31m   \u001b[0m     __m512h a = _mm512_loadu_ph((void*)argv[argc-1]);\n",
      "  \u001b[31m   \u001b[0m             ^\n",
      "  \u001b[31m   \u001b[0m /private/var/folders/5_/9x4p4q3d28z2z3wkqh_p49vc0000gp/T/pip-build-env-vo6z9c6r/overlay/lib/python3.10/site-packages/numpy/distutils/checks/cpu_avx512_spr.c:22:17: error: implicit declaration of function '_mm512_loadu_ph' is invalid in C99 [-Werror,-Wimplicit-function-declaration]\n",
      "  \u001b[31m   \u001b[0m     __m512h a = _mm512_loadu_ph((void*)argv[argc-1]);\n",
      "  \u001b[31m   \u001b[0m                 ^\n",
      "  \u001b[31m   \u001b[0m /private/var/folders/5_/9x4p4q3d28z2z3wkqh_p49vc0000gp/T/pip-build-env-vo6z9c6r/overlay/lib/python3.10/site-packages/numpy/distutils/checks/cpu_avx512_spr.c:23:12: error: expected ';' after expression\n",
      "  \u001b[31m   \u001b[0m     __m512h temp = _mm512_fmadd_ph(a, a, a);\n",
      "  \u001b[31m   \u001b[0m            ^\n",
      "  \u001b[31m   \u001b[0m            ;\n",
      "  \u001b[31m   \u001b[0m /private/var/folders/5_/9x4p4q3d28z2z3wkqh_p49vc0000gp/T/pip-build-env-vo6z9c6r/overlay/lib/python3.10/site-packages/numpy/distutils/checks/cpu_avx512_spr.c:23:5: error: use of undeclared identifier '__m512h'\n",
      "  \u001b[31m   \u001b[0m     __m512h temp = _mm512_fmadd_ph(a, a, a);\n",
      "  \u001b[31m   \u001b[0m     ^\n",
      "  \u001b[31m   \u001b[0m /private/var/folders/5_/9x4p4q3d28z2z3wkqh_p49vc0000gp/T/pip-build-env-vo6z9c6r/overlay/lib/python3.10/site-packages/numpy/distutils/checks/cpu_avx512_spr.c:23:13: error: use of undeclared identifier 'temp'\n",
      "  \u001b[31m   \u001b[0m     __m512h temp = _mm512_fmadd_ph(a, a, a);\n",
      "  \u001b[31m   \u001b[0m             ^\n",
      "  \u001b[31m   \u001b[0m /private/var/folders/5_/9x4p4q3d28z2z3wkqh_p49vc0000gp/T/pip-build-env-vo6z9c6r/overlay/lib/python3.10/site-packages/numpy/distutils/checks/cpu_avx512_spr.c:23:20: error: implicit declaration of function '_mm512_fmadd_ph' is invalid in C99 [-Werror,-Wimplicit-function-declaration]\n",
      "  \u001b[31m   \u001b[0m     __m512h temp = _mm512_fmadd_ph(a, a, a);\n",
      "  \u001b[31m   \u001b[0m                    ^\n",
      "  \u001b[31m   \u001b[0m /private/var/folders/5_/9x4p4q3d28z2z3wkqh_p49vc0000gp/T/pip-build-env-vo6z9c6r/overlay/lib/python3.10/site-packages/numpy/distutils/checks/cpu_avx512_spr.c:23:36: error: use of undeclared identifier 'a'\n",
      "  \u001b[31m   \u001b[0m     __m512h temp = _mm512_fmadd_ph(a, a, a);\n",
      "  \u001b[31m   \u001b[0m                                    ^\n",
      "  \u001b[31m   \u001b[0m /private/var/folders/5_/9x4p4q3d28z2z3wkqh_p49vc0000gp/T/pip-build-env-vo6z9c6r/overlay/lib/python3.10/site-packages/numpy/distutils/checks/cpu_avx512_spr.c:23:39: error: use of undeclared identifier 'a'\n",
      "  \u001b[31m   \u001b[0m     __m512h temp = _mm512_fmadd_ph(a, a, a);\n",
      "  \u001b[31m   \u001b[0m                                       ^\n",
      "  \u001b[31m   \u001b[0m /private/var/folders/5_/9x4p4q3d28z2z3wkqh_p49vc0000gp/T/pip-build-env-vo6z9c6r/overlay/lib/python3.10/site-packages/numpy/distutils/checks/cpu_avx512_spr.c:23:42: error: use of undeclared identifier 'a'\n",
      "  \u001b[31m   \u001b[0m     __m512h temp = _mm512_fmadd_ph(a, a, a);\n",
      "  \u001b[31m   \u001b[0m                                          ^\n",
      "  \u001b[31m   \u001b[0m /private/var/folders/5_/9x4p4q3d28z2z3wkqh_p49vc0000gp/T/pip-build-env-vo6z9c6r/overlay/lib/python3.10/site-packages/numpy/distutils/checks/cpu_avx512_spr.c:24:5: error: implicit declaration of function '_mm512_storeu_ph' is invalid in C99 [-Werror,-Wimplicit-function-declaration]\n",
      "  \u001b[31m   \u001b[0m     _mm512_storeu_ph((void*)(argv[argc-1]), temp);\n",
      "  \u001b[31m   \u001b[0m     ^\n",
      "  \u001b[31m   \u001b[0m /private/var/folders/5_/9x4p4q3d28z2z3wkqh_p49vc0000gp/T/pip-build-env-vo6z9c6r/overlay/lib/python3.10/site-packages/numpy/distutils/checks/cpu_avx512_spr.c:24:45: error: use of undeclared identifier 'temp'\n",
      "  \u001b[31m   \u001b[0m     _mm512_storeu_ph((void*)(argv[argc-1]), temp);\n",
      "  \u001b[31m   \u001b[0m                                             ^\n",
      "  \u001b[31m   \u001b[0m 14 errors generated.\n",
      "  \u001b[31m   \u001b[0m \n",
      "  \u001b[31m   \u001b[0m WARN: CCompilerOpt.feature_test[1576] : testing failed\n",
      "  \u001b[31m   \u001b[0m INFO: CCompilerOpt.cc_test_flags[1086] : testing flags (-mavx5124fmaps -mavx5124vnniw -mavx512vpopcntdq)\n",
      "  \u001b[31m   \u001b[0m INFO: C compiler: clang -Wno-unused-result -Wsign-compare -Wunreachable-code -DNDEBUG -g -fwrapv -O3 -Wall -ftrapping-math\n",
      "  \u001b[31m   \u001b[0m \n",
      "  \u001b[31m   \u001b[0m INFO: compile options: '-c'\n",
      "  \u001b[31m   \u001b[0m extra options: '-mavx5124fmaps -mavx5124vnniw -mavx512vpopcntdq'\n",
      "  \u001b[31m   \u001b[0m WARN: CCompilerOpt.dist_test[637] : CCompilerOpt._dist_test_spawn[771] : Command (clang -Wno-unused-result -Wsign-compare -Wunreachable-code -DNDEBUG -g -fwrapv -O3 -Wall -ftrapping-math -c /private/var/folders/5_/9x4p4q3d28z2z3wkqh_p49vc0000gp/T/pip-build-env-vo6z9c6r/overlay/lib/python3.10/site-packages/numpy/distutils/checks/test_flags.c -o /var/folders/5_/9x4p4q3d28z2z3wkqh_p49vc0000gp/T/tmpn6pnw8ay/private/var/folders/5_/9x4p4q3d28z2z3wkqh_p49vc0000gp/T/pip-build-env-vo6z9c6r/overlay/lib/python3.10/site-packages/numpy/distutils/checks/test_flags.o -MMD -MF /var/folders/5_/9x4p4q3d28z2z3wkqh_p49vc0000gp/T/tmpn6pnw8ay/private/var/folders/5_/9x4p4q3d28z2z3wkqh_p49vc0000gp/T/pip-build-env-vo6z9c6r/overlay/lib/python3.10/site-packages/numpy/distutils/checks/test_flags.o.d -mavx5124fmaps -mavx5124vnniw -mavx512vpopcntdq) failed with exit status 1 output ->\n",
      "  \u001b[31m   \u001b[0m clang: error: unknown argument: '-mavx5124fmaps'\n",
      "  \u001b[31m   \u001b[0m clang: error: unknown argument: '-mavx5124vnniw'\n",
      "  \u001b[31m   \u001b[0m \n",
      "  \u001b[31m   \u001b[0m WARN: CCompilerOpt.cc_test_flags[1090] : testing failed\n",
      "  \u001b[31m   \u001b[0m INFO: CCompilerOpt.feature_test[1560] : testing feature 'AVX512_KNM' with flags (-msse -msse2 -msse3 -mssse3 -msse4.1 -mpopcnt -msse4.2 -mavx -mf16c -mfma -mavx2 -mavx512f -mno-mmx -mavx512cd -mavx512er -mavx512pf)\n",
      "  \u001b[31m   \u001b[0m INFO: C compiler: clang -Wno-unused-result -Wsign-compare -Wunreachable-code -DNDEBUG -g -fwrapv -O3 -Wall -ftrapping-math\n",
      "  \u001b[31m   \u001b[0m \n",
      "  \u001b[31m   \u001b[0m INFO: compile options: '-c'\n",
      "  \u001b[31m   \u001b[0m extra options: '-msse -msse2 -msse3 -mssse3 -msse4.1 -mpopcnt -msse4.2 -mavx -mf16c -mfma -mavx2 -mavx512f -mno-mmx -mavx512cd -mavx512er -mavx512pf -Werror=switch -Werror'\n",
      "  \u001b[31m   \u001b[0m WARN: CCompilerOpt.dist_test[637] : CCompilerOpt._dist_test_spawn[771] : Command (clang -Wno-unused-result -Wsign-compare -Wunreachable-code -DNDEBUG -g -fwrapv -O3 -Wall -ftrapping-math -c /private/var/folders/5_/9x4p4q3d28z2z3wkqh_p49vc0000gp/T/pip-build-env-vo6z9c6r/overlay/lib/python3.10/site-packages/numpy/distutils/checks/cpu_avx512_knm.c -o /var/folders/5_/9x4p4q3d28z2z3wkqh_p49vc0000gp/T/tmpn6pnw8ay/private/var/folders/5_/9x4p4q3d28z2z3wkqh_p49vc0000gp/T/pip-build-env-vo6z9c6r/overlay/lib/python3.10/site-packages/numpy/distutils/checks/cpu_avx512_knm.o -MMD -MF /var/folders/5_/9x4p4q3d28z2z3wkqh_p49vc0000gp/T/tmpn6pnw8ay/private/var/folders/5_/9x4p4q3d28z2z3wkqh_p49vc0000gp/T/pip-build-env-vo6z9c6r/overlay/lib/python3.10/site-packages/numpy/distutils/checks/cpu_avx512_knm.o.d -msse -msse2 -msse3 -mssse3 -msse4.1 -mpopcnt -msse4.2 -mavx -mf16c -mfma -mavx2 -mavx512f -mno-mmx -mavx512cd -mavx512er -mavx512pf -Werror=switch -Werror) failed with exit status 1 output ->\n",
      "  \u001b[31m   \u001b[0m /private/var/folders/5_/9x4p4q3d28z2z3wkqh_p49vc0000gp/T/pip-build-env-vo6z9c6r/overlay/lib/python3.10/site-packages/numpy/distutils/checks/cpu_avx512_knm.c:22:9: error: implicit declaration of function '_mm512_4fmadd_ps' is invalid in C99 [-Werror,-Wimplicit-function-declaration]\n",
      "  \u001b[31m   \u001b[0m     b = _mm512_4fmadd_ps(b, b, b, b, b, NULL);\n",
      "  \u001b[31m   \u001b[0m         ^\n",
      "  \u001b[31m   \u001b[0m /private/var/folders/5_/9x4p4q3d28z2z3wkqh_p49vc0000gp/T/pip-build-env-vo6z9c6r/overlay/lib/python3.10/site-packages/numpy/distutils/checks/cpu_avx512_knm.c:22:9: note: did you mean '_mm512_fmadd_ps'?\n",
      "  \u001b[31m   \u001b[0m /Library/Developer/CommandLineTools/usr/lib/clang/12.0.0/include/avx512fintrin.h:2716:1: note: '_mm512_fmadd_ps' declared here\n",
      "  \u001b[31m   \u001b[0m _mm512_fmadd_ps(__m512 __A, __m512 __B, __m512 __C)\n",
      "  \u001b[31m   \u001b[0m ^\n",
      "  \u001b[31m   \u001b[0m /private/var/folders/5_/9x4p4q3d28z2z3wkqh_p49vc0000gp/T/pip-build-env-vo6z9c6r/overlay/lib/python3.10/site-packages/numpy/distutils/checks/cpu_avx512_knm.c:22:7: error: assigning to '__m512' (vector of 16 'float' values) from incompatible type 'int'\n",
      "  \u001b[31m   \u001b[0m     b = _mm512_4fmadd_ps(b, b, b, b, b, NULL);\n",
      "  \u001b[31m   \u001b[0m       ^ ~~~~~~~~~~~~~~~~~~~~~~~~~~~~~~~~~~~~~\n",
      "  \u001b[31m   \u001b[0m /private/var/folders/5_/9x4p4q3d28z2z3wkqh_p49vc0000gp/T/pip-build-env-vo6z9c6r/overlay/lib/python3.10/site-packages/numpy/distutils/checks/cpu_avx512_knm.c:24:9: error: implicit declaration of function '_mm512_4dpwssd_epi32' is invalid in C99 [-Werror,-Wimplicit-function-declaration]\n",
      "  \u001b[31m   \u001b[0m     a = _mm512_4dpwssd_epi32(a, a, a, a, a, NULL);\n",
      "  \u001b[31m   \u001b[0m         ^\n",
      "  \u001b[31m   \u001b[0m /private/var/folders/5_/9x4p4q3d28z2z3wkqh_p49vc0000gp/T/pip-build-env-vo6z9c6r/overlay/lib/python3.10/site-packages/numpy/distutils/checks/cpu_avx512_knm.c:24:9: note: did you mean '_mm512_dpwssd_epi32'?\n",
      "  \u001b[31m   \u001b[0m /Library/Developer/CommandLineTools/usr/lib/clang/12.0.0/include/avx512vnniintrin.h:68:1: note: '_mm512_dpwssd_epi32' declared here\n",
      "  \u001b[31m   \u001b[0m _mm512_dpwssd_epi32(__m512i __S, __m512i __A, __m512i __B)\n",
      "  \u001b[31m   \u001b[0m ^\n",
      "  \u001b[31m   \u001b[0m /private/var/folders/5_/9x4p4q3d28z2z3wkqh_p49vc0000gp/T/pip-build-env-vo6z9c6r/overlay/lib/python3.10/site-packages/numpy/distutils/checks/cpu_avx512_knm.c:24:7: error: assigning to '__m512i' (vector of 8 'long long' values) from incompatible type 'int'\n",
      "  \u001b[31m   \u001b[0m     a = _mm512_4dpwssd_epi32(a, a, a, a, a, NULL);\n",
      "  \u001b[31m   \u001b[0m       ^ ~~~~~~~~~~~~~~~~~~~~~~~~~~~~~~~~~~~~~~~~~\n",
      "  \u001b[31m   \u001b[0m 4 errors generated.\n",
      "  \u001b[31m   \u001b[0m \n",
      "  \u001b[31m   \u001b[0m WARN: CCompilerOpt.feature_test[1576] : testing failed\n",
      "  \u001b[31m   \u001b[0m INFO: CCompilerOpt.__init__[1816] : skip features (SSE3 SSE2 SSE) since its part of baseline\n",
      "  \u001b[31m   \u001b[0m INFO: CCompilerOpt.__init__[1820] : initialize targets groups\n",
      "  \u001b[31m   \u001b[0m INFO: CCompilerOpt.__init__[1822] : parse target group simd_test\n",
      "  \u001b[31m   \u001b[0m INFO: CCompilerOpt._parse_target_tokens[2033] : skip targets (VXE2 VX VSX4 VSX2 ASIMD NEON XOP VXE VSX3 FMA4 VSX) not part of baseline or dispatch-able features\n",
      "  \u001b[31m   \u001b[0m INFO: CCompilerOpt._parse_policy_not_keepbase[2145] : skip baseline features (SSE2)\n",
      "  \u001b[31m   \u001b[0m INFO: CCompilerOpt.generate_dispatch_header[2366] : generate CPU dispatch header: (build/src.macosx-10.15-x86_64-3.10/numpy/distutils/include/npy_cpu_dispatch_config.h)\n",
      "  \u001b[31m   \u001b[0m WARN: CCompilerOpt.generate_dispatch_header[2375] : dispatch header dir build/src.macosx-10.15-x86_64-3.10/numpy/distutils/include does not exist, creating it\n",
      "  \u001b[31m   \u001b[0m INFO: CCompilerOpt.feature_extra_checks[1640] : Testing extra checks for feature 'AVX512F' (AVX512F_REDUCE)\n",
      "  \u001b[31m   \u001b[0m INFO: C compiler: clang -Wno-unused-result -Wsign-compare -Wunreachable-code -DNDEBUG -g -fwrapv -O3 -Wall -ftrapping-math\n",
      "  \u001b[31m   \u001b[0m \n",
      "  \u001b[31m   \u001b[0m INFO: compile options: '-c'\n",
      "  \u001b[31m   \u001b[0m extra options: '-msse -msse2 -msse3 -mssse3 -msse4.1 -mpopcnt -msse4.2 -mavx -mf16c -mfma -mavx2 -mavx512f -mno-mmx -Werror=switch -Werror'\n",
      "  \u001b[31m   \u001b[0m INFO: CCompilerOpt.feature_extra_checks[1640] : Testing extra checks for feature 'AVX512_SKX' (AVX512BW_MASK AVX512DQ_MASK)\n",
      "  \u001b[31m   \u001b[0m INFO: C compiler: clang -Wno-unused-result -Wsign-compare -Wunreachable-code -DNDEBUG -g -fwrapv -O3 -Wall -ftrapping-math\n",
      "  \u001b[31m   \u001b[0m \n",
      "  \u001b[31m   \u001b[0m INFO: compile options: '-c'\n",
      "  \u001b[31m   \u001b[0m extra options: '-msse -msse2 -msse3 -mssse3 -msse4.1 -mpopcnt -msse4.2 -mavx -mf16c -mfma -mavx2 -mavx512f -mno-mmx -mavx512cd -mavx512vl -mavx512bw -mavx512dq -Werror=switch -Werror'\n",
      "  \u001b[31m   \u001b[0m INFO: C compiler: clang -Wno-unused-result -Wsign-compare -Wunreachable-code -DNDEBUG -g -fwrapv -O3 -Wall -ftrapping-math\n",
      "  \u001b[31m   \u001b[0m \n",
      "  \u001b[31m   \u001b[0m INFO: compile options: '-c'\n",
      "  \u001b[31m   \u001b[0m extra options: '-msse -msse2 -msse3 -mssse3 -msse4.1 -mpopcnt -msse4.2 -mavx -mf16c -mfma -mavx2 -mavx512f -mno-mmx -mavx512cd -mavx512vl -mavx512bw -mavx512dq -Werror=switch -Werror'\n",
      "  \u001b[31m   \u001b[0m INFO: building 'mach' library\n",
      "  \u001b[31m   \u001b[0m error: library mach has Fortran sources but no Fortran compiler found\n",
      "  \u001b[31m   \u001b[0m INFO:\n",
      "  \u001b[31m   \u001b[0m ########### CLIB COMPILER OPTIMIZATION ###########\n",
      "  \u001b[31m   \u001b[0m INFO: Platform      :\n",
      "  \u001b[31m   \u001b[0m   Architecture: x64\n",
      "  \u001b[31m   \u001b[0m   Compiler    : clang\n",
      "  \u001b[31m   \u001b[0m \n",
      "  \u001b[31m   \u001b[0m CPU baseline  :\n",
      "  \u001b[31m   \u001b[0m   Requested   : 'min'\n",
      "  \u001b[31m   \u001b[0m   Enabled     : SSE SSE2 SSE3\n",
      "  \u001b[31m   \u001b[0m   Flags       : -msse -msse2 -msse3\n",
      "  \u001b[31m   \u001b[0m   Extra checks: none\n",
      "  \u001b[31m   \u001b[0m \n",
      "  \u001b[31m   \u001b[0m CPU dispatch  :\n",
      "  \u001b[31m   \u001b[0m   Requested   : 'max -xop -fma4'\n",
      "  \u001b[31m   \u001b[0m   Enabled     : SSSE3 SSE41 POPCNT SSE42 AVX F16C FMA3 AVX2 AVX512F AVX512CD AVX512_KNL AVX512_SKX AVX512_CLX AVX512_CNL AVX512_ICL\n",
      "  \u001b[31m   \u001b[0m   Generated   : none\n",
      "  \u001b[31m   \u001b[0m INFO: CCompilerOpt.cache_flush[864] : write cache to path -> /private/var/folders/5_/9x4p4q3d28z2z3wkqh_p49vc0000gp/T/pip-install-8w9uow3o/scipy_f95b9d3d733a41febc822d39b43382d7/build/temp.macosx-10.15-x86_64-3.10/ccompiler_opt_cache_clib.py\n",
      "  \u001b[31m   \u001b[0m \u001b[31m[end of output]\u001b[0m\n",
      "  \n",
      "  \u001b[1;35mnote\u001b[0m: This error originates from a subprocess, and is likely not a problem with pip.\n",
      "\u001b[?25h\u001b[31m  ERROR: Failed building wheel for scipy\u001b[0m\u001b[31m\n",
      "\u001b[0mFailed to build scipy\n",
      "\u001b[31mERROR: Failed to build installable wheels for some pyproject.toml based projects (scipy)\u001b[0m\u001b[31m\n",
      "\u001b[0m"
     ]
    }
   ],
   "source": [
    "!pip install scipy==1.6.1"
   ]
  },
  {
   "cell_type": "code",
   "execution_count": 1,
   "metadata": {},
   "outputs": [
    {
     "data": {
      "text/plain": [
       "'1.15.2'"
      ]
     },
     "execution_count": 1,
     "metadata": {},
     "output_type": "execute_result"
    }
   ],
   "source": [
    "import scipy\n",
    "scipy.__version__"
   ]
  },
  {
   "cell_type": "markdown",
   "metadata": {},
   "source": [
    "## Import the required packages"
   ]
  },
  {
   "cell_type": "code",
   "execution_count": 2,
   "metadata": {
    "id": "n1269wHJF96t"
   },
   "outputs": [],
   "source": [
    "# import the important packages\n",
    "import pandas as pd  # library used for data manipulation and analysis\n",
    "import numpy as np  # library used for working with arrays\n",
    "import matplotlib.pyplot as plt  # library for plots and visualizations\n",
    "import seaborn as sns  # library for visualizations\n",
    "\n",
    "%matplotlib inline\n",
    "\n",
    "import scipy.stats as stats  # this library contains a large number of probability distributions as well as a growing library of statistical functions"
   ]
  },
  {
   "cell_type": "markdown",
   "metadata": {
    "id": "HHhcxblrCPQs"
   },
   "source": [
    "## **Hypothesis Test for Population Mean**"
   ]
  },
  {
   "cell_type": "markdown",
   "metadata": {
    "id": "imkkvBHLCr1p"
   },
   "source": [
    "### One Sample Z-test (when population standard deviation is known)\n",
    "\n",
    "It is rarely the case when you know the population standard deviation and not the mean but let's assume that is the case."
   ]
  },
  {
   "cell_type": "markdown",
   "metadata": {
    "id": "JFYmMSXAD5r8"
   },
   "source": [
    "It is known from experience that for a certain E-commerce company the mean delivery time of the products is 5 days with a standard deviation of 1.3 days.\n",
    "\n",
    "The new customer service manager of the company is afraid that the company is slipping and collects a random sample of 45 orders. The mean delivery time of these samples comes out to be 5.25 days. \n",
    "\n",
    "Is there enough statistical evidence for the manager’s apprehension that the mean delivery time of products is greater than 5 days?\n",
    "\n",
    "Use level of significance $\\alpha$ = 0.05."
   ]
  },
  {
   "cell_type": "markdown",
   "metadata": {
    "id": "f5_ECLi6YZA2"
   },
   "source": [
    "### Let's write the null hypothesis and alternate hypothesis"
   ]
  },
  {
   "cell_type": "markdown",
   "metadata": {
    "id": "UjzLRZUjSLig"
   },
   "source": [
    "Let $\\mu$ be the mean delivery time of the products.\n",
    "\n",
    "The manager will test the null hypothesis\n",
    "\n",
    ">$H_0: \\mu = 5$\n",
    "\n",
    "against the alternate hypothesis\n",
    "\n",
    "> $H_a: \\mu > 5$"
   ]
  },
  {
   "cell_type": "markdown",
   "metadata": {
    "id": "Za3CtsidYe2a"
   },
   "source": [
    "### Are the assumptions of the Z-test satisfied?"
   ]
  },
  {
   "cell_type": "markdown",
   "metadata": {
    "id": "uZEqFhp8V99Y"
   },
   "source": [
    "* Samples are drawn from a normal distribution - Since the sample size is 45(which is > 30), Central Limit Theorem states that the distribution of sample means will be normal. If the sample size was less than 30, we would have been able to apply the z test if we knew that the population distribution was normal.  \n",
    "* Observations are from a simple random sample - we are informed that the manager collected a simple random sample.\n",
    "* Standard deviation is known - Yes.\n",
    "\n",
    "\n",
    "Voila! We can use Z-test for this problem."
   ]
  },
  {
   "cell_type": "markdown",
   "metadata": {
    "id": "vI7uRPYSZDAv"
   },
   "source": [
    "### The next step is to find the Z test statistic"
   ]
  },
  {
   "cell_type": "code",
   "execution_count": 3,
   "metadata": {
    "colab": {
     "base_uri": "https://localhost:8080/"
    },
    "id": "g03yfFvoV08J",
    "outputId": "e74f78eb-40ec-42fc-9cd8-4b4397036b84"
   },
   "outputs": [
    {
     "data": {
      "text/plain": [
       "1.2900392177883402"
      ]
     },
     "execution_count": 3,
     "metadata": {},
     "output_type": "execute_result"
    }
   ],
   "source": [
    "# set the values of population mean and population standard deviation to 5 and 1.3 respectively\n",
    "mu, sigma = 5, 1.3\n",
    "\n",
    "# set the value of sample mean to 5.25\n",
    "x_bar = 5.25\n",
    "\n",
    "# calculate the test statistic\n",
    "test_stat = (x_bar - mu) / (sigma/np.sqrt(45))\n",
    "test_stat"
   ]
  },
  {
   "cell_type": "markdown",
   "metadata": {
    "id": "ddz-nxAuaQl1"
   },
   "source": [
    "#### The Z test statistic follows a standard normal distribution.\n",
    "\n",
    "Let's plot the distribution of the Z test statistic and see where the computed test statistic lies in the plot."
   ]
  },
  {
   "cell_type": "code",
   "execution_count": 4,
   "metadata": {
    "colab": {
     "base_uri": "https://localhost:8080/",
     "height": 265
    },
    "id": "mKW-GHiZa6DE",
    "outputId": "3144c586-6dfe-4f89-f36e-7d0b76a91dfe"
   },
   "outputs": [
    {
     "data": {
      "image/png": "[encoded data removed]",
      "text/plain": [
       "<Figure size 432x288 with 1 Axes>"
      ]
     },
     "metadata": {
      "needs_background": "light"
     },
     "output_type": "display_data"
    }
   ],
   "source": [
    "# import the required function\n",
    "from scipy.stats import norm\n",
    "\n",
    "# plotting the distribution of Z test statistic along with the test statistic\n",
    "# we are plotting the distributions here to better visualize the calculations\n",
    "x = np.linspace(-4, 4, 100)\n",
    "plt.plot(x, norm.pdf(x, 0, 1))\n",
    "plt.axvline(x = test_stat, c = 'r')\n",
    "plt.show()"
   ]
  },
  {
   "cell_type": "markdown",
   "metadata": {
    "id": "2RoCBWfad8yi"
   },
   "source": [
    "What is the probability of getting the calculated value of test statistic or bigger in the above distribution?"
   ]
  },
  {
   "cell_type": "code",
   "execution_count": 5,
   "metadata": {
    "colab": {
     "base_uri": "https://localhost:8080/"
    },
    "id": "P-sbsv2ued1d",
    "outputId": "341677f8-55b8-481f-a9ae-f4211e6fc012"
   },
   "outputs": [
    {
     "data": {
      "text/plain": [
       "0.09851852092578695"
      ]
     },
     "execution_count": 5,
     "metadata": {},
     "output_type": "execute_result"
    }
   ],
   "source": [
    "1 - norm.cdf(test_stat)"
   ]
  },
  {
   "cell_type": "markdown",
   "metadata": {
    "id": "0b-uXxQZNS4e"
   },
   "source": [
    "**Though the probability is very small, is it significant enough to reject the null hypothesis in favor of the alternate hypothesis?**"
   ]
  },
  {
   "cell_type": "markdown",
   "metadata": {
    "id": "sVtMAHgbg1Ut"
   },
   "source": [
    "### Introduction of Rejection Acceptance Region/ p-value"
   ]
  },
  {
   "cell_type": "markdown",
   "metadata": {
    "id": "xqqUout3gNK8"
   },
   "source": [
    "Though the probability is small, we can not conclude whether the evidence is significant enough to reject the null hypothesis in favor of the alternate hypothesis or not. To determine it, we use either one of the following approaches:\n",
    "\n",
    "1- Rejection region approach\n",
    "\n",
    "2- p-value approach"
   ]
  },
  {
   "cell_type": "markdown",
   "metadata": {
    "id": "4dihfsGeO-RR"
   },
   "source": [
    "#### Rejection Region Approach\n",
    "\n",
    "For this approach, we need to follow the below steps.\n",
    "\n",
    "\n",
    "1.   We choose a value of the level of significance ($\\alpha$).\n",
    "\n",
    "     ($\\alpha$ is the probability of rejecting the null hypothesis if it is true.)\n",
    "\n",
    "2.   Then, we find the rejection region in the graph.\n",
    "\n",
    "3.   We reject the null hypothesis if the test statistic falls in the rejection region. Else, we don't reject the null hypothesis.\n",
    "\n",
    "In the given example, the Z test statistic follows a standard normal distribution as shown in the above plot. The Z values lying at the right end of the distribution give strong evidence against the null hypothesis. To find the rejection region, we will find the value of Z (called critical value) that gives an area of $\\alpha$ to the right end."
   ]
  },
  {
   "cell_type": "code",
   "execution_count": 6,
   "metadata": {
    "colab": {
     "base_uri": "https://localhost:8080/"
    },
    "id": "o_ITvMpZXLyI",
    "outputId": "4f262d0e-1caa-4a2e-8483-29db8a45b014"
   },
   "outputs": [
    {
     "data": {
      "text/plain": [
       "1.6448536269514722"
      ]
     },
     "execution_count": 6,
     "metadata": {},
     "output_type": "execute_result"
    }
   ],
   "source": [
    "# import the required function\n",
    "from scipy.stats import norm\n",
    "\n",
    "# find the critical value\n",
    "critical_val = norm.ppf(1-.05)\n",
    "critical_val"
   ]
  },
  {
   "cell_type": "markdown",
   "metadata": {
    "id": "pj41yWnjYKZl"
   },
   "source": [
    "The critical value separates the region where we will reject the null hypothesis from the region where we won't reject the null hypothesis. See the below plot."
   ]
  },
  {
   "cell_type": "code",
   "execution_count": 7,
   "metadata": {
    "colab": {
     "base_uri": "https://localhost:8080/",
     "height": 265
    },
    "id": "3PUG_qdLYr64",
    "outputId": "84547a58-1659-469d-f8f3-418b45b8bcc1"
   },
   "outputs": [
    {
     "data": {
      "image/png": "[encoded data removed]",
      "text/plain": [
       "<Figure size 432x288 with 1 Axes>"
      ]
     },
     "metadata": {
      "needs_background": "light"
     },
     "output_type": "display_data"
    }
   ],
   "source": [
    "# plotting the test statistic distribution and indicating the rejection and acceptance region\n",
    "# we are plotting the distributions here to better visualize the calculations\n",
    "x = np.linspace(-4, 4, 100)\n",
    "plt.plot(x, norm.pdf(x, 0, 1))\n",
    "plt.axvline(x = critical_val, c = 'r')\n",
    "x1 = np.linspace(critical_val, 4, 50)\n",
    "plt.fill_between(x1, norm.pdf(x1, 0, 1), color='r')\n",
    "plt.annotate('Reject Null', (2, 0.20))\n",
    "plt.annotate('  Do Not Reject\\n        Null', (-1, 0.20))\n",
    "plt.show()"
   ]
  },
  {
   "cell_type": "markdown",
   "metadata": {
    "id": "mhRuynC6bRcV"
   },
   "source": [
    "### Insight\n",
    "\n",
    "As our test statistic (~ 1.29) does not lie in the rejection region, we can not reject the null hypothesis. Thus, we do not have enough statistical evidence to say that the mean delivery time of a product is greater than 5 days."
   ]
  },
  {
   "cell_type": "markdown",
   "metadata": {
    "id": "M__QsfhvzQdO"
   },
   "source": [
    "#### p-value Approach\n",
    "\n",
    "Though the rejection region approach gives us the desired conclusion, it does not say anything about the strength of the evidence. Hence, statisticians prefer the p-value approach which measures the strength of the evidence against the null hypothesis.\n",
    "\n",
    "For this approach, we need to follow the below steps.\n",
    "\n",
    "1. We choose the level of significance ($\\alpha$).\n",
    "\n",
    "2. Then, we calculate the p-value.\n",
    "\n",
    "3. We reject the null hypothesis if the p-value $\\leq \\alpha$. Else, we fail to reject the null hypothesis.\n",
    "\n",
    "The p-value is the probability of finding the observed test statistic or more extreme results, under the null hypothesis. \n",
    "\n",
    "In the given example, the p-value is the area right to the test statistic under the standard normal curve.\n"
   ]
  },
  {
   "cell_type": "code",
   "execution_count": 8,
   "metadata": {
    "colab": {
     "base_uri": "https://localhost:8080/",
     "height": 265
    },
    "id": "au3_jODY1cYb",
    "outputId": "a29e8dcd-76a6-461b-91a3-d6f875597c4f"
   },
   "outputs": [
    {
     "data": {
      "image/png": "[encoded data removed]",
      "text/plain": [
       "<Figure size 432x288 with 1 Axes>"
      ]
     },
     "metadata": {
      "needs_background": "light"
     },
     "output_type": "display_data"
    }
   ],
   "source": [
    "# plotting the test statistic distribution along with computed test statistic\n",
    "# we are plotting the distributions here to better visualize the calculations\n",
    "x = np.linspace(-4, 4, 100)\n",
    "plt.plot(x, norm.pdf(x, 0, 1))\n",
    "plt.axvline(x = test_stat, c = 'r')\n",
    "x1 = np.linspace(test_stat, 4, 50)\n",
    "plt.fill_between(x1, norm.pdf(x1, 0, 1), color='r')\n",
    "plt.show()"
   ]
  },
  {
   "cell_type": "code",
   "execution_count": 9,
   "metadata": {
    "colab": {
     "base_uri": "https://localhost:8080/"
    },
    "id": "Z6-VOxQqfOBF",
    "outputId": "cbfdfd12-beba-4c55-bbda-37bec6987ebf"
   },
   "outputs": [
    {
     "data": {
      "text/plain": [
       "0.09851852092578695"
      ]
     },
     "execution_count": 9,
     "metadata": {},
     "output_type": "execute_result"
    }
   ],
   "source": [
    "# calculate the p-value\n",
    "1 - norm.cdf(test_stat)"
   ]
  },
  {
   "cell_type": "markdown",
   "metadata": {
    "id": "3QCb1bK6gUTA"
   },
   "source": [
    "### Insight\n",
    "\n",
    "As the p-value ~0.098 is greater than the level of significance, we can not reject the null hypothesis. Thus, we do not have enough statistical evidence to say that the mean delivery time of a product is greater than 5 days."
   ]
  },
  {
   "cell_type": "markdown",
   "metadata": {
    "id": "noTA34C4hkyx"
   },
   "source": [
    "### Key Takeaway\n",
    "\n",
    "* We get the same result by using both the Rejection Region and p-value approach that the manager does not have enough statistical evidence to say that the mean delivery time of a product is greater than 5 days."
   ]
  },
  {
   "cell_type": "markdown",
   "metadata": {
    "id": "POB5EwDV5vAS"
   },
   "source": [
    "## **One-tailed and Two-tailed Tests**"
   ]
  },
  {
   "cell_type": "markdown",
   "metadata": {
    "id": "WiaDWDy1666u"
   },
   "source": [
    "### Let's see an example\n",
    "\n",
    "Suppose a soft-drink manufacturer's most selling product is 600 ml coke with a standard deviation of 50 ml.\n",
    "\n",
    "A customer would like to test whether there is at least 600 ml of coke in the bottle. He doubts that the amount of coke in the bottle is less than 600 ml.\n",
    "\n",
    "The null hypothesis formed by the customer is\n",
    "\n",
    ">$H_0: \\mu = 600$\n",
    "\n",
    "against the alternative hypothesis\n",
    "\n",
    "> $H_a: \\mu < 600$\n",
    "\n",
    "However, the quality control team wants exactly 600 ml of coke in the bottle. The team wants to ensure that the amount of coke in the bottle is not different from 600 ml.\n",
    "\n",
    "The null hypothesis formed by the quality control team is\n",
    "\n",
    ">$H_0: \\mu = 600$\n",
    "\n",
    "against the alternative hypothesis\n",
    "\n",
    "> $H_a: \\mu \\neq 600$\n",
    "\n",
    "Thus, the choice of a one-sided vs two-sided alternative hypothesis depends on the nature of the problem."
   ]
  },
  {
   "cell_type": "markdown",
   "metadata": {
    "id": "GWUkM0LrCzSu"
   },
   "source": [
    "### Two-tailed Test Example\n",
    "\n",
    "Suppose you work on the quality control team of the company. It is known from experience that the mean amount of coke in a bottle is 600 ml with a standard deviation of 50 ml.\n",
    "\n",
    "You have collected 36 randomly sampled bottles. The mean amount of coke in the 36 samples is 580 ml.\n",
    "\n",
    "You intend to test whether the amount of coke in the bottle is different from 600 ml using a 0.05 level of significance. Do you have enough Statistical evidence for it?"
   ]
  },
  {
   "cell_type": "markdown",
   "metadata": {
    "id": "kHPUcm3pryyd"
   },
   "source": [
    "### Are the assumptions of Z-test satisfied?"
   ]
  },
  {
   "cell_type": "markdown",
   "metadata": {
    "id": "_NP5DlMXr2gR"
   },
   "source": [
    "*   Samples are drawn from a normal distribution - Since the sample size is 36(which is > 30), Central Limit Theorem states that the distribution of sample means will be normal. If the sample size was less than 30, we would have been able to apply the Z test if we knew that the population distribution was normal.  \n",
    "*   Observations are from a simple random sample - we are informed that you have collected a simple random sample.\n",
    "*   Standard deviation is known - Yes.\n",
    "\n",
    "\n",
    "Voila! We can use Z-test for this problem."
   ]
  },
  {
   "cell_type": "markdown",
   "metadata": {
    "id": "DouBcnk2siNr"
   },
   "source": [
    "### The next step is to find the test statistic"
   ]
  },
  {
   "cell_type": "code",
   "execution_count": 10,
   "metadata": {
    "colab": {
     "base_uri": "https://localhost:8080/"
    },
    "id": "QZaRvsFXsqFm",
    "outputId": "cae555cc-7337-48be-9106-6f86a293899a"
   },
   "outputs": [
    {
     "data": {
      "text/plain": [
       "-2.4"
      ]
     },
     "execution_count": 10,
     "metadata": {},
     "output_type": "execute_result"
    }
   ],
   "source": [
    "# set the values of population mean and standard deviation to 600 and 50 respectively.\n",
    "mu, sigma = 600, 50\n",
    "\n",
    "# set the value of sample mean to 580.\n",
    "x_bar = 580\n",
    "\n",
    "# calculate the test statistic.\n",
    "test_stat = (x_bar - mu) / (sigma/np.sqrt(36))\n",
    "test_stat"
   ]
  },
  {
   "cell_type": "markdown",
   "metadata": {
    "id": "z25Pi6HhtLNu"
   },
   "source": [
    "### Let's use the rejection region approach for the two-tailed test\n",
    "\n",
    "In the given example, the Z test statistic follows a standard normal distribution. The Z values lying at the left and right end of the distribution give strong evidence against the null hypothesis. To find the rejection region, we will find the values of Z (called critical values) that give an area of $\\alpha/2$ to both the left and right end."
   ]
  },
  {
   "cell_type": "code",
   "execution_count": 11,
   "metadata": {
    "colab": {
     "base_uri": "https://localhost:8080/",
     "height": 265
    },
    "id": "7PGKmNzjuolm",
    "outputId": "dd95a605-b753-4545-b65c-c756f2d05c82"
   },
   "outputs": [
    {
     "data": {
      "image/png": "[encoded data removed]",
      "text/plain": [
       "<Figure size 432x288 with 1 Axes>"
      ]
     },
     "metadata": {
      "needs_background": "light"
     },
     "output_type": "display_data"
    }
   ],
   "source": [
    "# import the required function\n",
    "from scipy.stats import norm\n",
    "\n",
    "# find the critical values\n",
    "critical_val1 = norm.ppf(1-(0.05/2))\n",
    "critical_val2 = norm.ppf(0.05/2)\n",
    "\n",
    "# plot the rejection and acceptance region\n",
    "# we are plotting the distributions here to better visualize the calculations\n",
    "x = np.linspace(-4, 4, 100)\n",
    "plt.plot(x, norm.pdf(x, 0, 1))\n",
    "plt.axvline(x = critical_val1, c = 'r')\n",
    "x1 = np.linspace(critical_val1, 4, 50)\n",
    "plt.fill_between(x1, norm.pdf(x1, 0, 1), color='r')\n",
    "plt.axvline(x = critical_val2, c = 'r')\n",
    "x1 = np.linspace(-4, critical_val2, 50)\n",
    "plt.fill_between(x1, norm.pdf(x1, 0, 1), color='r')\n",
    "plt.annotate('Reject Null', (2.2, 0.20))\n",
    "plt.annotate('Reject Null', (-3.5, 0.20))\n",
    "plt.annotate('  Do Not Reject\\n        Null', (-1, 0.20))\n",
    "plt.show()"
   ]
  },
  {
   "cell_type": "markdown",
   "metadata": {
    "id": "1x0cXahOwHE8"
   },
   "source": [
    "As our test statistic (~-2.4) lies in the rejection region, we can reject the null hypothesis. Thus, we have enough statistical evidence to say that the amount of coke in the bottle is different from 600 ml."
   ]
  },
  {
   "cell_type": "markdown",
   "metadata": {
    "id": "9zzkUpjHPn_c"
   },
   "source": [
    "### One-tailed Test Example\n",
    "\n",
    "It is known that the mean amount of coke in a bottle is 600 ml with a standard deviation of 50 ml. Suppose you are a customer who wants to test whether the amount of coke in the bottle is less than 600 ml.\n",
    "\n",
    "You have collected 36 randomly sampled bottles. The mean amount of coke in the 36 samples is 580 ml.\n",
    "\n",
    "Do you have enough Statistical evidence for it?"
   ]
  },
  {
   "cell_type": "markdown",
   "metadata": {
    "id": "vacq1cbrQH76"
   },
   "source": [
    "### Are the assumptions of the Z-test satisfied?\n",
    "*   Samples are drawn from a normal distribution - Since the sample size is 36(which is > 30), Central Limit Theorem states that the distribution of sample means will be normal. If the sample size was less than 30, we would have been able to apply the Z test if we knew that the population distribution was normal.  \n",
    "*   Observations are from a simple random sample - we are informed that you have collected a simple random sample.\n",
    "*   Standard deviation is known - Yes\n",
    "\n",
    "\n",
    "Voila! We can use Z-test for this problem."
   ]
  },
  {
   "cell_type": "markdown",
   "metadata": {
    "id": "9jeI1yRkRLN2"
   },
   "source": [
    "### The next step is to find the test statistic"
   ]
  },
  {
   "cell_type": "code",
   "execution_count": 12,
   "metadata": {
    "colab": {
     "base_uri": "https://localhost:8080/"
    },
    "id": "8dZr5lGzRS7R",
    "outputId": "a0f0cce5-db02-49da-935e-cefa6e09ee52"
   },
   "outputs": [
    {
     "data": {
      "text/plain": [
       "-2.4"
      ]
     },
     "execution_count": 12,
     "metadata": {},
     "output_type": "execute_result"
    }
   ],
   "source": [
    "# set the values of population mean and standard deviation to 600 and 50 respectively\n",
    "mu, sigma = 600, 50\n",
    "\n",
    "# set the value of sample mean to 580\n",
    "x_bar = 580\n",
    "\n",
    "# calculate the test statistic\n",
    "test_stat = (x_bar - mu) / (sigma/np.sqrt(36))\n",
    "test_stat"
   ]
  },
  {
   "cell_type": "markdown",
   "metadata": {
    "id": "BUIBHwkPRPCQ"
   },
   "source": [
    "### Let's use the rejection region approach for the one-tailed test\n",
    "\n",
    "In the given example, the Z test statistic follows a standard normal distribution. The Z values lying at the left end of the distribution give strong evidence against the null hypothesis. To find the rejection region, we will find the value of Z (called critical value) that gives an area of $\\alpha$ to the left end."
   ]
  },
  {
   "cell_type": "code",
   "execution_count": 13,
   "metadata": {
    "colab": {
     "base_uri": "https://localhost:8080/",
     "height": 265
    },
    "id": "IhhNBBsuRjLI",
    "outputId": "19a188c4-a368-4525-ebb3-b61d45b393b8"
   },
   "outputs": [
    {
     "data": {
      "image/png": "[encoded data removed]",
      "text/plain": [
       "<Figure size 432x288 with 1 Axes>"
      ]
     },
     "metadata": {
      "needs_background": "light"
     },
     "output_type": "display_data"
    }
   ],
   "source": [
    "# import the required function\n",
    "from scipy.stats import norm\n",
    "\n",
    "# find the critical value\n",
    "critical_val = norm.ppf(0.05)\n",
    "\n",
    "# plot the rejection and acceptance region\n",
    "# we are plotting the distributions here to better visualize the calculations\n",
    "x = np.linspace(-4, 4, 100)\n",
    "plt.plot(x, norm.pdf(x, 0, 1))\n",
    "plt.axvline(x = critical_val, c = 'r')\n",
    "x1 = np.linspace(-4, critical_val, 50)\n",
    "plt.fill_between(x1, norm.pdf(x1, 0, 1), color='r')\n",
    "plt.annotate('Reject Null', (-3.5, 0.20))\n",
    "plt.annotate('  Do Not Reject\\n        Null', (-1, 0.20))\n",
    "plt.show()"
   ]
  },
  {
   "cell_type": "markdown",
   "metadata": {
    "id": "fanaSBpeS0yQ"
   },
   "source": [
    "As our test statistic (~-2.4) lies in the rejection region, we can reject the null hypothesis. Thus, we have enough statistical evidence to say that the amount of coke in the bottle is less than 600 ml."
   ]
  },
  {
   "cell_type": "markdown",
   "metadata": {
    "id": "8Zf1FemQ4g9t"
   },
   "source": [
    "### Key Takeaways\n",
    "\n",
    "* In the one-tailed test, we consider the difference only in one direction. However, in the two-tailed test, we are interested to know the direction of the difference. \n",
    "* Depending on the nature of the problem choose one!"
   ]
  }
 ],
 "metadata": {
  "colab": {
   "collapsed_sections": [],
   "name": "Notebook Week2.ipynb",
   "provenance": []
  },
  "kernelspec": {
   "display_name": ".venv",
   "language": "python",
   "name": "python3"
  },
  "language_info": {
   "codemirror_mode": {
    "name": "ipython",
    "version": 3
   },
   "file_extension": ".py",
   "mimetype": "text/x-python",
   "name": "python",
   "nbconvert_exporter": "python",
   "pygments_lexer": "ipython3",
   "version": "3.10.4"
  }
 },
 "nbformat": 4,
 "nbformat_minor": 1
}
